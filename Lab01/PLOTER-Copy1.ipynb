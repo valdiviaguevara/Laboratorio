{
 "cells": [
  {
   "cell_type": "code",
   "execution_count": 1,
   "metadata": {
    "scrolled": true
   },
   "outputs": [
    {
     "name": "stdout",
     "output_type": "stream",
     "text": [
      "Requirement already satisfied: Plotly in c:\\users\\juand\\appdata\\roaming\\python\\python35\\site-packages (3.2.1)\n",
      "Requirement already satisfied: requests in c:\\users\\juand\\appdata\\roaming\\python\\python35\\site-packages (from Plotly) (2.19.1)\n",
      "Requirement already satisfied: nbformat>=4.2 in c:\\users\\juand\\appdata\\roaming\\python\\python35\\site-packages (from Plotly) (4.4.0)\n",
      "Requirement already satisfied: pytz in c:\\users\\juand\\appdata\\roaming\\python\\python35\\site-packages (from Plotly) (2018.5)\n",
      "Requirement already satisfied: decorator>=4.0.6 in c:\\users\\juand\\appdata\\roaming\\python\\python35\\site-packages (from Plotly) (4.3.0)\n",
      "Requirement already satisfied: six in c:\\users\\juand\\appdata\\roaming\\python\\python35\\site-packages (from Plotly) (1.11.0)\n",
      "Requirement already satisfied: retrying>=1.3.3 in c:\\users\\juand\\appdata\\roaming\\python\\python35\\site-packages (from Plotly) (1.3.3)\n",
      "Requirement already satisfied: idna<2.8,>=2.5 in c:\\users\\juand\\appdata\\roaming\\python\\python35\\site-packages (from requests->Plotly) (2.7)\n",
      "Requirement already satisfied: urllib3<1.24,>=1.21.1 in c:\\users\\juand\\appdata\\roaming\\python\\python35\\site-packages (from requests->Plotly) (1.23)\n",
      "Requirement already satisfied: certifi>=2017.4.17 in c:\\users\\juand\\appdata\\roaming\\python\\python35\\site-packages (from requests->Plotly) (2018.8.24)\n",
      "Requirement already satisfied: chardet<3.1.0,>=3.0.2 in c:\\users\\juand\\appdata\\roaming\\python\\python35\\site-packages (from requests->Plotly) (3.0.4)\n",
      "Requirement already satisfied: ipython-genutils in c:\\users\\juand\\appdata\\roaming\\python\\python35\\site-packages (from nbformat>=4.2->Plotly) (0.2.0)\n",
      "Requirement already satisfied: jsonschema!=2.5.0,>=2.4 in c:\\users\\juand\\appdata\\roaming\\python\\python35\\site-packages (from nbformat>=4.2->Plotly) (2.6.0)\n",
      "Requirement already satisfied: jupyter-core in c:\\users\\juand\\appdata\\roaming\\python\\python35\\site-packages (from nbformat>=4.2->Plotly) (4.4.0)\n",
      "Requirement already satisfied: traitlets>=4.1 in c:\\users\\juand\\appdata\\roaming\\python\\python35\\site-packages (from nbformat>=4.2->Plotly) (4.3.2)\n"
     ]
    }
   ],
   "source": [
    "! pip install Plotly"
   ]
  },
  {
   "cell_type": "code",
   "execution_count": 2,
   "metadata": {
    "collapsed": true
   },
   "outputs": [
    {
     "name": "stdout",
     "output_type": "stream",
     "text": [
      "Collecting cufflinks\n",
      "Collecting numpy>=1.9.2 (from cufflinks)\n",
      "  Using cached https://files.pythonhosted.org/packages/b7/a7/b99bcbd00fe4d757a940933451a9a795e502e18e4aba15cb09265196db47/numpy-1.15.1-cp35-none-win_amd64.whl\n",
      "Collecting ipython>=5.3.0 (from cufflinks)\n",
      "  Using cached https://files.pythonhosted.org/packages/f7/62/2fef7db3a7b75e8099c3d9db2630ae5ba0b9eefefd91f7497862393d90e8/ipython-6.5.0-py3-none-any.whl\n",
      "Collecting colorlover>=0.2.1 (from cufflinks)\n",
      "Collecting setuptools>=34.4.1 (from cufflinks)\n",
      "  Using cached https://files.pythonhosted.org/packages/66/e8/570bb5ca88a8bcd2a1db9c6246bb66615750663ffaaeada95b04ffe74e12/setuptools-40.2.0-py2.py3-none-any.whl\n",
      "Collecting plotly>=3.0.0 (from cufflinks)\n",
      "  Using cached https://files.pythonhosted.org/packages/25/e6/716d30f51604daedaf12b1064e1d1e48d1c0a224ac41a83496b39862124d/plotly-3.2.1-py2.py3-none-any.whl\n",
      "Collecting six>=1.9.0 (from cufflinks)\n",
      "  Using cached https://files.pythonhosted.org/packages/67/4b/141a581104b1f6397bfa78ac9d43d8ad29a7ca43ea90a2d863fe3056e86a/six-1.11.0-py2.py3-none-any.whl\n",
      "Collecting nose==1.3.7 (from cufflinks)\n",
      "  Using cached https://files.pythonhosted.org/packages/15/d8/dd071918c040f50fa1cf80da16423af51ff8ce4a0f2399b7bf8de45ac3d9/nose-1.3.7-py3-none-any.whl\n",
      "Collecting ipywidgets>=7.0.0 (from cufflinks)\n",
      "  Using cached https://files.pythonhosted.org/packages/30/9a/a008c7b1183fac9e52066d80a379b3c64eab535bd9d86cdc29a0b766fd82/ipywidgets-7.4.2-py2.py3-none-any.whl\n",
      "Collecting pandas>=0.19.2 (from cufflinks)\n",
      "  Using cached https://files.pythonhosted.org/packages/40/17/bd7205edb55e25f8e3caf53e5e44f648a86ff8151715a8d6f89efa4017f5/pandas-0.23.4-cp35-cp35m-win_amd64.whl\n",
      "Collecting traitlets>=4.2 (from ipython>=5.3.0->cufflinks)\n",
      "  Using cached https://files.pythonhosted.org/packages/93/d6/abcb22de61d78e2fc3959c964628a5771e47e7cc60d53e9342e21ed6cc9a/traitlets-4.3.2-py2.py3-none-any.whl\n",
      "Collecting prompt-toolkit<2.0.0,>=1.0.15 (from ipython>=5.3.0->cufflinks)\n",
      "  Using cached https://files.pythonhosted.org/packages/04/d1/c6616dd03701e7e2073f06d5c3b41b012256e42b72561f16a7bd86dd7b43/prompt_toolkit-1.0.15-py3-none-any.whl\n",
      "Collecting pickleshare (from ipython>=5.3.0->cufflinks)\n",
      "  Using cached https://files.pythonhosted.org/packages/9f/17/daa142fc9be6b76f26f24eeeb9a138940671490b91cb5587393f297c8317/pickleshare-0.7.4-py2.py3-none-any.whl\n",
      "Collecting jedi>=0.10 (from ipython>=5.3.0->cufflinks)\n",
      "  Using cached https://files.pythonhosted.org/packages/3d/68/8bbf0ef969095a13ba0d4c77c1945bd86e9811960d052510551d29a2f23b/jedi-0.12.1-py2.py3-none-any.whl\n",
      "Collecting pygments (from ipython>=5.3.0->cufflinks)\n",
      "  Using cached https://files.pythonhosted.org/packages/02/ee/b6e02dc6529e82b75bb06823ff7d005b141037cb1416b10c6f00fc419dca/Pygments-2.2.0-py2.py3-none-any.whl\n",
      "Collecting decorator (from ipython>=5.3.0->cufflinks)\n",
      "  Using cached https://files.pythonhosted.org/packages/bc/bb/a24838832ba35baf52f32ab1a49b906b5f82fb7c76b2f6a7e35e140bac30/decorator-4.3.0-py2.py3-none-any.whl\n",
      "Collecting win-unicode-console>=0.5; sys_platform == \"win32\" and python_version < \"3.6\" (from ipython>=5.3.0->cufflinks)\n",
      "Collecting colorama; sys_platform == \"win32\" (from ipython>=5.3.0->cufflinks)\n",
      "  Using cached https://files.pythonhosted.org/packages/db/c8/7dcf9dbcb22429512708fe3a547f8b6101c0d02137acbd892505aee57adf/colorama-0.3.9-py2.py3-none-any.whl\n",
      "Collecting backcall (from ipython>=5.3.0->cufflinks)\n",
      "Collecting simplegeneric>0.8 (from ipython>=5.3.0->cufflinks)\n",
      "Collecting requests (from plotly>=3.0.0->cufflinks)\n",
      "  Using cached https://files.pythonhosted.org/packages/65/47/7e02164a2a3db50ed6d8a6ab1d6d60b69c4c3fdf57a284257925dfc12bda/requests-2.19.1-py2.py3-none-any.whl\n",
      "Collecting retrying>=1.3.3 (from plotly>=3.0.0->cufflinks)\n",
      "Collecting pytz (from plotly>=3.0.0->cufflinks)\n",
      "  Using cached https://files.pythonhosted.org/packages/30/4e/27c34b62430286c6d59177a0842ed90dc789ce5d1ed740887653b898779a/pytz-2018.5-py2.py3-none-any.whl\n",
      "Collecting nbformat>=4.2 (from plotly>=3.0.0->cufflinks)\n",
      "  Using cached https://files.pythonhosted.org/packages/da/27/9a654d2b6cc1eaa517d1c5a4405166c7f6d72f04f6e7eea41855fe808a46/nbformat-4.4.0-py2.py3-none-any.whl\n",
      "Collecting widgetsnbextension~=3.4.0 (from ipywidgets>=7.0.0->cufflinks)\n",
      "  Using cached https://files.pythonhosted.org/packages/8a/81/35789a3952afb48238289171728072d26d6e76649ddc8b3588657a2d78c1/widgetsnbextension-3.4.2-py2.py3-none-any.whl\n",
      "Collecting ipykernel>=4.5.1 (from ipywidgets>=7.0.0->cufflinks)\n",
      "  Using cached https://files.pythonhosted.org/packages/7a/de/a03a5c1f8b743675add3c98f1eb877c67bb29c5196ee6ce54e9c839d23cc/ipykernel-4.9.0-py3-none-any.whl\n",
      "Collecting python-dateutil>=2.5.0 (from pandas>=0.19.2->cufflinks)\n",
      "  Using cached https://files.pythonhosted.org/packages/cf/f5/af2b09c957ace60dcfac112b669c45c8c97e32f94aa8b56da4c6d1682825/python_dateutil-2.7.3-py2.py3-none-any.whl\n",
      "Collecting ipython-genutils (from traitlets>=4.2->ipython>=5.3.0->cufflinks)\n",
      "  Using cached https://files.pythonhosted.org/packages/fa/bc/9bd3b5c2b4774d5f33b2d544f1460be9df7df2fe42f352135381c347c69a/ipython_genutils-0.2.0-py2.py3-none-any.whl\n",
      "Collecting wcwidth (from prompt-toolkit<2.0.0,>=1.0.15->ipython>=5.3.0->cufflinks)\n",
      "  Using cached https://files.pythonhosted.org/packages/7e/9f/526a6947247599b084ee5232e4f9190a38f398d7300d866af3ab571a5bfe/wcwidth-0.1.7-py2.py3-none-any.whl\n",
      "Collecting parso>=0.3.0 (from jedi>=0.10->ipython>=5.3.0->cufflinks)\n",
      "  Using cached https://files.pythonhosted.org/packages/09/51/9c48a46334be50c13d25a3afe55fa05c445699304c5ad32619de953a2305/parso-0.3.1-py2.py3-none-any.whl\n",
      "Collecting urllib3<1.24,>=1.21.1 (from requests->plotly>=3.0.0->cufflinks)\n",
      "  Using cached https://files.pythonhosted.org/packages/bd/c9/6fdd990019071a4a32a5e7cb78a1d92c53851ef4f56f62a3486e6a7d8ffb/urllib3-1.23-py2.py3-none-any.whl\n",
      "Collecting chardet<3.1.0,>=3.0.2 (from requests->plotly>=3.0.0->cufflinks)\n",
      "  Using cached https://files.pythonhosted.org/packages/bc/a9/01ffebfb562e4274b6487b4bb1ddec7ca55ec7510b22e4c51f14098443b8/chardet-3.0.4-py2.py3-none-any.whl\n",
      "Collecting certifi>=2017.4.17 (from requests->plotly>=3.0.0->cufflinks)\n",
      "  Using cached https://files.pythonhosted.org/packages/df/f7/04fee6ac349e915b82171f8e23cee63644d83663b34c539f7a09aed18f9e/certifi-2018.8.24-py2.py3-none-any.whl\n",
      "Collecting idna<2.8,>=2.5 (from requests->plotly>=3.0.0->cufflinks)\n",
      "  Using cached https://files.pythonhosted.org/packages/4b/2a/0276479a4b3caeb8a8c1af2f8e4355746a97fab05a372e4a2c6a6b876165/idna-2.7-py2.py3-none-any.whl\n",
      "Collecting jsonschema!=2.5.0,>=2.4 (from nbformat>=4.2->plotly>=3.0.0->cufflinks)\n",
      "  Using cached https://files.pythonhosted.org/packages/77/de/47e35a97b2b05c2fadbec67d44cfcdcd09b8086951b331d82de90d2912da/jsonschema-2.6.0-py2.py3-none-any.whl\n",
      "Collecting jupyter-core (from nbformat>=4.2->plotly>=3.0.0->cufflinks)\n",
      "  Using cached https://files.pythonhosted.org/packages/1d/44/065d2d7bae7bebc06f1dd70d23c36da8c50c0f08b4236716743d706762a8/jupyter_core-4.4.0-py2.py3-none-any.whl\n",
      "Collecting notebook>=4.4.1 (from widgetsnbextension~=3.4.0->ipywidgets>=7.0.0->cufflinks)\n",
      "  Using cached https://files.pythonhosted.org/packages/5e/7c/7fd8e9584779d65dfcad9fa2e09c76131a41f999f853a9c7026ed8585586/notebook-5.6.0-py2.py3-none-any.whl\n",
      "Collecting tornado>=4.0 (from ipykernel>=4.5.1->ipywidgets>=7.0.0->cufflinks)\n",
      "  Using cached https://files.pythonhosted.org/packages/81/72/9e8ac9205157c9221d00df4388c21895b049dff053f38d12045265d338da/tornado-5.1-cp35-cp35m-win_amd64.whl\n",
      "Collecting jupyter-client (from ipykernel>=4.5.1->ipywidgets>=7.0.0->cufflinks)\n",
      "  Using cached https://files.pythonhosted.org/packages/94/dd/fe6c4d683b09eb05342bd2816b7779663f71762b4fa9c2d5203d35d17354/jupyter_client-5.2.3-py2.py3-none-any.whl\n",
      "Collecting pyzmq>=17 (from notebook>=4.4.1->widgetsnbextension~=3.4.0->ipywidgets>=7.0.0->cufflinks)\n",
      "  Using cached https://files.pythonhosted.org/packages/a5/55/675eda157cebb0fd5e08d049579859b04877f99a20b63301da7e8f936a5d/pyzmq-17.1.2-cp35-cp35m-win_amd64.whl\n",
      "Collecting terminado>=0.8.1 (from notebook>=4.4.1->widgetsnbextension~=3.4.0->ipywidgets>=7.0.0->cufflinks)\n",
      "  Using cached https://files.pythonhosted.org/packages/2e/20/a26211a24425923d46e1213b376a6ee60dc30bcdf1b0c345e2c3769deb1c/terminado-0.8.1-py2.py3-none-any.whl\n",
      "Collecting jinja2 (from notebook>=4.4.1->widgetsnbextension~=3.4.0->ipywidgets>=7.0.0->cufflinks)\n",
      "  Using cached https://files.pythonhosted.org/packages/7f/ff/ae64bacdfc95f27a016a7bed8e8686763ba4d277a78ca76f32659220a731/Jinja2-2.10-py2.py3-none-any.whl\n",
      "Collecting prometheus-client (from notebook>=4.4.1->widgetsnbextension~=3.4.0->ipywidgets>=7.0.0->cufflinks)\n",
      "Collecting Send2Trash (from notebook>=4.4.1->widgetsnbextension~=3.4.0->ipywidgets>=7.0.0->cufflinks)\n",
      "  Using cached https://files.pythonhosted.org/packages/49/46/c3dc27481d1cc57b9385aff41c474ceb7714f7935b1247194adae45db714/Send2Trash-1.5.0-py3-none-any.whl\n",
      "Collecting nbconvert (from notebook>=4.4.1->widgetsnbextension~=3.4.0->ipywidgets>=7.0.0->cufflinks)\n",
      "  Using cached https://files.pythonhosted.org/packages/b5/bb/94c493051d60e5b9c0f7f9a368b324201818c1b1c4cae85d1e49a41846c7/nbconvert-5.4.0-py2.py3-none-any.whl\n",
      "Collecting pywinpty>=0.5; os_name == \"nt\" (from terminado>=0.8.1->notebook>=4.4.1->widgetsnbextension~=3.4.0->ipywidgets>=7.0.0->cufflinks)\n",
      "  Using cached https://files.pythonhosted.org/packages/3a/42/cc2df37d8c64f7202cd95e9e3ae823ae02e8bf68291f8a8a1281c4ea26ae/pywinpty-0.5.4-cp35-cp35m-win_amd64.whl\n",
      "Collecting MarkupSafe>=0.23 (from jinja2->notebook>=4.4.1->widgetsnbextension~=3.4.0->ipywidgets>=7.0.0->cufflinks)\n",
      "Collecting defusedxml (from nbconvert->notebook>=4.4.1->widgetsnbextension~=3.4.0->ipywidgets>=7.0.0->cufflinks)\n",
      "  Using cached https://files.pythonhosted.org/packages/87/1c/17f3e3935a913dfe2a5ca85fa5ccbef366bfd82eb318b1f75dadbf0affca/defusedxml-0.5.0-py2.py3-none-any.whl\n",
      "Collecting pandocfilters>=1.4.1 (from nbconvert->notebook>=4.4.1->widgetsnbextension~=3.4.0->ipywidgets>=7.0.0->cufflinks)\n",
      "Collecting mistune>=0.8.1 (from nbconvert->notebook>=4.4.1->widgetsnbextension~=3.4.0->ipywidgets>=7.0.0->cufflinks)\n",
      "  Using cached https://files.pythonhosted.org/packages/c8/8c/87f4d359438ba0321a2ae91936030110bfcc62fef752656321a72b8c1af9/mistune-0.8.3-py2.py3-none-any.whl\n",
      "Collecting testpath (from nbconvert->notebook>=4.4.1->widgetsnbextension~=3.4.0->ipywidgets>=7.0.0->cufflinks)\n",
      "  Using cached https://files.pythonhosted.org/packages/15/19/d7bc380c479a184e4a5a9ce516e4e2a773165f89b445f7cdced83d94de25/testpath-0.3.1-py2.py3-none-any.whl\n",
      "Collecting bleach (from nbconvert->notebook>=4.4.1->widgetsnbextension~=3.4.0->ipywidgets>=7.0.0->cufflinks)\n",
      "  Using cached https://files.pythonhosted.org/packages/94/aa/0f7ce53f8688bb9f80c0cffacc3964ddfe08321c509c0bfe5062848951f9/bleach-2.1.4-py2.py3-none-any.whl\n",
      "Collecting entrypoints>=0.2.2 (from nbconvert->notebook>=4.4.1->widgetsnbextension~=3.4.0->ipywidgets>=7.0.0->cufflinks)\n",
      "  Using cached https://files.pythonhosted.org/packages/cc/8b/4eefa9b47f1910b3d2081da67726b066e379b04ca897acfe9f92bac56147/entrypoints-0.2.3-py2.py3-none-any.whl\n",
      "Collecting html5lib!=1.0b1,!=1.0b2,!=1.0b3,!=1.0b4,!=1.0b5,!=1.0b6,!=1.0b7,!=1.0b8,>=0.99999999pre (from bleach->nbconvert->notebook>=4.4.1->widgetsnbextension~=3.4.0->ipywidgets>=7.0.0->cufflinks)\n",
      "  Using cached https://files.pythonhosted.org/packages/a5/62/bbd2be0e7943ec8504b517e62bab011b4946e1258842bc159e5dfde15b96/html5lib-1.0.1-py2.py3-none-any.whl\n",
      "Collecting webencodings (from html5lib!=1.0b1,!=1.0b2,!=1.0b3,!=1.0b4,!=1.0b5,!=1.0b6,!=1.0b7,!=1.0b8,>=0.99999999pre->bleach->nbconvert->notebook>=4.4.1->widgetsnbextension~=3.4.0->ipywidgets>=7.0.0->cufflinks)\n",
      "  Using cached https://files.pythonhosted.org/packages/f4/24/2a3e3df732393fed8b3ebf2ec078f05546de641fe1b667ee316ec1dcf3b7/webencodings-0.5.1-py2.py3-none-any.whl\n",
      "Installing collected packages: numpy, ipython-genutils, decorator, six, traitlets, wcwidth, prompt-toolkit, pickleshare, parso, jedi, pygments, win-unicode-console, colorama, backcall, simplegeneric, setuptools, ipython, colorlover, urllib3, chardet, certifi, idna, requests, retrying, pytz, jsonschema, jupyter-core, nbformat, plotly, nose, pyzmq, pywinpty, tornado, terminado, python-dateutil, jupyter-client, ipykernel, MarkupSafe, jinja2, prometheus-client, Send2Trash, defusedxml, pandocfilters, mistune, testpath, webencodings, html5lib, bleach, entrypoints, nbconvert, notebook, widgetsnbextension, ipywidgets, pandas, cufflinks\n"
     ]
    },
    {
     "name": "stderr",
     "output_type": "stream",
     "text": [
      "tensorflow 1.9.0 has requirement setuptools<=39.1.0, but you'll have setuptools 40.2.0 which is incompatible.\n",
      "  Failed to write executable - trying to use .deleteme logic\n",
      "Could not install packages due to an EnvironmentError: [WinError 5] Acesso negado: 'c:\\\\users\\\\juand\\\\anaconda3\\\\Lib\\\\site-packages\\\\zmq\\\\libzmq.cp35-win_amd64.pyd'\n",
      "Consider using the `--user` option or check the permissions.\n",
      "\n"
     ]
    }
   ],
   "source": [
    "#! pip install cufflinks --ignore-installed --user\n",
    "! pip install cufflinks --ignore-installed "
   ]
  },
  {
   "cell_type": "code",
   "execution_count": null,
   "metadata": {},
   "outputs": [],
   "source": []
  },
  {
   "cell_type": "code",
   "execution_count": 44,
   "metadata": {},
   "outputs": [],
   "source": [
    "import numpy as np\n",
    "import pandas as pd\n",
    "\n",
    "import cufflinks as cf\n",
    "import plotly.plotly as py\n",
    "import plotly.tools as tls\n",
    "import plotly.graph_objs as go"
   ]
  },
  {
   "cell_type": "markdown",
   "metadata": {},
   "source": [
    "Crear un Cuenta de pyplot para visualizar los graficos via web \"https://plot.ly/settings/api\"\n",
    "\n",
    "- Click \"settings\"\n",
    "- go to \"API KEYS\"\n",
    "- Click to \"Regenerate key\" para visualizar la senha (api_key)\n",
    "- Copiar tambien USERNAME"
   ]
  },
  {
   "cell_type": "code",
   "execution_count": 45,
   "metadata": {},
   "outputs": [],
   "source": [
    "tls.set_credentials_file(username=\"Juandio\",api_key=\"iHJ1exRpbZCNwE154iA8\")"
   ]
  },
  {
   "cell_type": "code",
   "execution_count": 46,
   "metadata": {},
   "outputs": [
    {
     "name": "stdout",
     "output_type": "stream",
     "text": [
      "[ 0.          1.02857143  2.05714286  3.08571429  4.11428571  5.14285714\n",
      "  6.17142857  7.2         8.22857143  9.25714286 10.28571429 11.31428571\n",
      " 12.34285714 13.37142857 14.4        15.42857143 16.45714286 17.48571429\n",
      " 18.51428571 19.54285714 20.57142857 21.6        22.62857143 23.65714286\n",
      " 24.68571429 25.71428571 26.74285714 27.77142857 28.8        29.82857143\n",
      " 30.85714286 31.88571429 32.91428571 33.94285714 34.97142857 36.        ]\n",
      "[4.35062068 2.91138464 1.3941947  0.92955616 2.05550064 0.58687774\n",
      " 3.42484372 2.1880553  2.78114663 1.83540161 2.01182864 0.5652035\n",
      " 2.23515423 2.92722558 0.80992552 2.60359394 1.63025563 3.49593119\n",
      " 1.83197274 4.18187254 2.40671472 2.58251149 1.91524064 4.98770448\n",
      " 2.57122244 2.79526637 0.17224884 3.59965013 2.10501774 2.18467563\n",
      " 1.40850377 4.50137169 3.34806139 2.28034375 1.44902172 2.62909482]\n"
     ]
    }
   ],
   "source": [
    "print(a)\n",
    "print (b)"
   ]
  },
  {
   "cell_type": "code",
   "execution_count": 47,
   "metadata": {
    "scrolled": true
   },
   "outputs": [
    {
     "name": "stdout",
     "output_type": "stream",
     "text": [
      "High five! You successfully sent some data to your account on plotly. View your plot in your browser at https://plot.ly/~Juandio/0 or inside your plot.ly account where it is named 'Caracteristica-Basica'\n"
     ]
    },
    {
     "data": {
      "text/html": [
       "<iframe id=\"igraph\" scrolling=\"no\" style=\"border:none;\" seamless=\"seamless\" src=\"https://plot.ly/~Juandio/0.embed\" height=\"525px\" width=\"100%\"></iframe>"
      ],
      "text/plain": [
       "<plotly.tools.PlotlyDisplay object>"
      ]
     },
     "execution_count": 47,
     "metadata": {},
     "output_type": "execute_result"
    }
   ],
   "source": [
    "a=np.linspace(start=0,stop=36,num=36)\n",
    "\n",
    "np.random.seed(25)\n",
    "b=np.random.uniform(low=0.0, high=5.0,size=36)\n",
    "\n",
    "trace=go.Scatter(x=a,y=b)\n",
    "\n",
    "data=[trace]\n",
    "\n",
    "py.iplot(data,filename='Caracteristica-Basica')"
   ]
  },
  {
   "cell_type": "code",
   "execution_count": null,
   "metadata": {
    "collapsed": true
   },
   "outputs": [],
   "source": []
  },
  {
   "cell_type": "code",
   "execution_count": null,
   "metadata": {
    "collapsed": true
   },
   "outputs": [],
   "source": []
  },
  {
   "cell_type": "code",
   "execution_count": null,
   "metadata": {
    "collapsed": true
   },
   "outputs": [],
   "source": []
  },
  {
   "cell_type": "code",
   "execution_count": null,
   "metadata": {
    "collapsed": true
   },
   "outputs": [],
   "source": []
  },
  {
   "cell_type": "code",
   "execution_count": null,
   "metadata": {
    "collapsed": true
   },
   "outputs": [],
   "source": []
  },
  {
   "cell_type": "code",
   "execution_count": null,
   "metadata": {
    "collapsed": true,
    "nbpresent": {
     "id": "7ac3b1e1-bb3e-4d5d-a8dc-a82258f1ac32"
    }
   },
   "outputs": [],
   "source": [
    "import numpy as np\n",
    "import pandas as pd\n",
    "from sklearn.decomposition import TruncatedSVD\n",
    "import matplotlib.pyplot as plt\n",
    "from nltk.stem import WordNetLemmatizer\n",
    "from sklearn.feature_extraction.text import TfidfVectorizer, CountVectorizer"
   ]
  },
  {
   "cell_type": "code",
   "execution_count": null,
   "metadata": {
    "collapsed": true
   },
   "outputs": [],
   "source": [
    "WordNetLemmatizer=WordNetLemmatizer()\n"
   ]
  },
  {
   "cell_type": "code",
   "execution_count": null,
   "metadata": {},
   "outputs": [],
   "source": [
    "df_Texto=pd.read_csv(\"Text.csv\",names=[\"Parecer\"],sep=\"\\n\")\n",
    "df_Texto"
   ]
  },
  {
   "cell_type": "code",
   "execution_count": null,
   "metadata": {},
   "outputs": [],
   "source": [
    "TF=CountVectorizer(encoding='latin1',ngram_range=(2,2),min_df=2)\n",
    "aa=TF.fit_transform(df_Texto['Parecer']).toarray()\n",
    "df_Tabela=pd.DataFrame(aa)\n",
    "df_Tabela"
   ]
  },
  {
   "cell_type": "code",
   "execution_count": null,
   "metadata": {
    "collapsed": true
   },
   "outputs": [],
   "source": []
  },
  {
   "cell_type": "code",
   "execution_count": null,
   "metadata": {
    "collapsed": true
   },
   "outputs": [],
   "source": []
  },
  {
   "cell_type": "code",
   "execution_count": null,
   "metadata": {
    "collapsed": true
   },
   "outputs": [],
   "source": [
    "svd=TruncatedSVD()\n",
    "Z=svd.fit_transform(X)"
   ]
  },
  {
   "cell_type": "code",
   "execution_count": null,
   "metadata": {
    "collapsed": true
   },
   "outputs": [],
   "source": [
    "plt.scatter(Z[:,0],Z[:,1])\n",
    "for i in xrange()"
   ]
  },
  {
   "cell_type": "code",
   "execution_count": null,
   "metadata": {
    "nbpresent": {
     "id": "9d784d6f-0692-4211-af88-c8c95b4e06b9"
    }
   },
   "outputs": [],
   "source": [
    "guff = open('DELACF_PB.dic', 'rb').read()\n",
    "z = guff.decode('latin1')\n",
    "sum((128 <= ord(c) < 160) for c in z) # count the C1 control characters\n"
   ]
  },
  {
   "cell_type": "code",
   "execution_count": null,
   "metadata": {
    "nbpresent": {
     "id": "06842667-1ad3-4c02-a86e-8f28c84ed22a"
    }
   },
   "outputs": [],
   "source": [
    "\"\"\"\n",
    "===========\n",
    "MovieWriter\n",
    "===========\n",
    "\n",
    "This example uses a MovieWriter directly to grab individual frames and write\n",
    "them to a file. This avoids any event loop integration, but has the advantage\n",
    "of working with even the Agg backend. This is not recommended for use in an\n",
    "interactive setting.\n",
    "\n",
    "\"\"\"\n",
    "# -*- noplot -*-\n",
    "\n",
    "import numpy as np\n",
    "import matplotlib\n",
    "matplotlib.use(\"Agg\")\n",
    "import matplotlib.pyplot as plt\n",
    "import matplotlib.animation as manimation\n",
    "\n",
    "FFMpegWriter = manimation.writers['ffmpeg']\n",
    "metadata = dict(title='Movie Test', artist='Matplotlib',\n",
    "                comment='Movie support!')\n",
    "writer = FFMpegWriter(fps=15, metadata=metadata)\n",
    "\n",
    "fig = plt.figure()\n",
    "l, = plt.plot([], [], 'k-o')\n",
    "\n",
    "plt.xlim(-5, 5)\n",
    "plt.ylim(-5, 5)\n",
    "\n",
    "x0, y0 = 0, 0\n",
    "\n",
    "with writer.saving(fig, \"writer_test.mp4\", 100):\n",
    "    for i in range(100):\n",
    "        x0 += 0.1 * np.random.randn()\n",
    "        y0 += 0.1 * np.random.randn()\n",
    "        l.set_data(x0, y0)\n",
    "        writer.grab_frame()\n"
   ]
  },
  {
   "cell_type": "code",
   "execution_count": null,
   "metadata": {
    "collapsed": true,
    "nbpresent": {
     "id": "020855fc-1381-469f-8a10-4e92aff1e840"
    }
   },
   "outputs": [],
   "source": [
    "import numpy as np\n",
    "import matplotlib.pyplot as plt\n",
    "from matplotlib.animation import FuncAnimation\n",
    "\n",
    "fig, ax = plt.subplots()\n",
    "xdata, ydata = [], []\n",
    "ln, = plt.plot([], [], 'ro', animated=True)\n",
    "\n",
    "def init():\n",
    "    ax.set_xlim(0, 2*np.pi)\n",
    "    ax.set_ylim(-1, 1)\n",
    "    return ln,\n",
    "\n",
    "def update(frame):\n",
    "    xdata.append(frame)\n",
    "    ydata.append(np.sin(frame))\n",
    "    ln.set_data(xdata, ydata)\n",
    "    return ln,\n",
    "\n",
    "ani = FuncAnimation(fig, update, frames=np.linspace(0, 2*np.pi, 128),\n",
    "                    init_func=init, blit=True)\n",
    "plt.show()"
   ]
  },
  {
   "cell_type": "code",
   "execution_count": null,
   "metadata": {
    "nbpresent": {
     "id": "669b3ff3-740b-4092-8bff-453b15ce41c8"
    }
   },
   "outputs": [],
   "source": [
    "aliens = set(c for c in z if 128 <= ord(c) < 160)\n",
    "aliens\n"
   ]
  },
  {
   "cell_type": "code",
   "execution_count": null,
   "metadata": {
    "nbpresent": {
     "id": "ff7e65c9-1313-43a6-9dee-13851c93eb78"
    }
   },
   "outputs": [],
   "source": [
    "from unicodedata import name\n",
    "name(u'\\x9c')\n"
   ]
  },
  {
   "cell_type": "code",
   "execution_count": null,
   "metadata": {
    "nbpresent": {
     "id": "87d5693b-bbb6-4634-96e2-40674ee82571"
    }
   },
   "outputs": [],
   "source": [
    "name('\\x9c'.decode('cp1257'))"
   ]
  },
  {
   "cell_type": "markdown",
   "metadata": {
    "nbpresent": {
     "id": "2372fabd-a0e7-4631-bb02-75bd1f1d6d9a"
    },
    "scrolled": true
   },
   "source": [
    "###### path_Arquivo='Palavras_Iguais.csv'\n",
    "\n",
    "df_Palavras_Iguais=pd.read_csv('Palavras_Iguais.csv',names=[\"Palavras_Iguais\"])\n",
    "df_Palavras_Iguais"
   ]
  },
  {
   "cell_type": "code",
   "execution_count": null,
   "metadata": {
    "collapsed": true,
    "nbpresent": {
     "id": "3d5550a5-bc00-4c97-84b4-ef4eae546e85"
    }
   },
   "outputs": [],
   "source": []
  },
  {
   "cell_type": "code",
   "execution_count": null,
   "metadata": {
    "collapsed": true,
    "nbpresent": {
     "id": "d969d0c8-7a43-4139-bb11-9b845afcb6d6"
    }
   },
   "outputs": [],
   "source": []
  },
  {
   "cell_type": "code",
   "execution_count": null,
   "metadata": {
    "collapsed": true,
    "nbpresent": {
     "id": "a67ce218-7993-40eb-b368-fd98d9b4d03b"
    }
   },
   "outputs": [],
   "source": []
  },
  {
   "cell_type": "code",
   "execution_count": null,
   "metadata": {
    "collapsed": true,
    "nbpresent": {
     "id": "e573935c-84a8-41e1-b71a-4e2f15103130"
    }
   },
   "outputs": [],
   "source": []
  }
 ],
 "metadata": {
  "anaconda-cloud": {},
  "kernelspec": {
   "display_name": "Python [default]",
   "language": "python",
   "name": "python3"
  },
  "language_info": {
   "codemirror_mode": {
    "name": "ipython",
    "version": 3
   },
   "file_extension": ".py",
   "mimetype": "text/x-python",
   "name": "python",
   "nbconvert_exporter": "python",
   "pygments_lexer": "ipython3",
   "version": "3.5.6"
  }
 },
 "nbformat": 4,
 "nbformat_minor": 1
}
