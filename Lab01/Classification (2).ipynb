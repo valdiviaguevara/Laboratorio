{
 "cells": [
  {
   "cell_type": "code",
   "execution_count": 1,
   "metadata": {
    "collapsed": true
   },
   "outputs": [],
   "source": [
    "import pandas as pd \n",
    "import numpy as np \n",
    "import seaborn as sns \n",
    "import matplotlib.pyplot as plt \n",
    "%matplotlib inline"
   ]
  },
  {
   "cell_type": "code",
   "execution_count": 2,
   "metadata": {},
   "outputs": [
    {
     "data": {
      "text/html": [
       "<div>\n",
       "<style>\n",
       "    .dataframe thead tr:only-child th {\n",
       "        text-align: right;\n",
       "    }\n",
       "\n",
       "    .dataframe thead th {\n",
       "        text-align: left;\n",
       "    }\n",
       "\n",
       "    .dataframe tbody tr th {\n",
       "        vertical-align: top;\n",
       "    }\n",
       "</style>\n",
       "<table border=\"1\" class=\"dataframe\">\n",
       "  <thead>\n",
       "    <tr style=\"text-align: right;\">\n",
       "      <th></th>\n",
       "      <th>Pregnancies</th>\n",
       "      <th>Glucose</th>\n",
       "      <th>BloodPressure</th>\n",
       "      <th>SkinThickness</th>\n",
       "      <th>Insulin</th>\n",
       "      <th>BMI</th>\n",
       "      <th>DiabetesPedigreeFunction</th>\n",
       "      <th>Age</th>\n",
       "      <th>Outcome</th>\n",
       "    </tr>\n",
       "  </thead>\n",
       "  <tbody>\n",
       "    <tr>\n",
       "      <th>0</th>\n",
       "      <td>6</td>\n",
       "      <td>148</td>\n",
       "      <td>72</td>\n",
       "      <td>35</td>\n",
       "      <td>0</td>\n",
       "      <td>33.6</td>\n",
       "      <td>0.627</td>\n",
       "      <td>50</td>\n",
       "      <td>1</td>\n",
       "    </tr>\n",
       "    <tr>\n",
       "      <th>1</th>\n",
       "      <td>1</td>\n",
       "      <td>85</td>\n",
       "      <td>66</td>\n",
       "      <td>29</td>\n",
       "      <td>0</td>\n",
       "      <td>26.6</td>\n",
       "      <td>0.351</td>\n",
       "      <td>31</td>\n",
       "      <td>0</td>\n",
       "    </tr>\n",
       "    <tr>\n",
       "      <th>2</th>\n",
       "      <td>8</td>\n",
       "      <td>183</td>\n",
       "      <td>64</td>\n",
       "      <td>0</td>\n",
       "      <td>0</td>\n",
       "      <td>23.3</td>\n",
       "      <td>0.672</td>\n",
       "      <td>32</td>\n",
       "      <td>1</td>\n",
       "    </tr>\n",
       "    <tr>\n",
       "      <th>3</th>\n",
       "      <td>1</td>\n",
       "      <td>89</td>\n",
       "      <td>66</td>\n",
       "      <td>23</td>\n",
       "      <td>94</td>\n",
       "      <td>28.1</td>\n",
       "      <td>0.167</td>\n",
       "      <td>21</td>\n",
       "      <td>0</td>\n",
       "    </tr>\n",
       "    <tr>\n",
       "      <th>4</th>\n",
       "      <td>0</td>\n",
       "      <td>137</td>\n",
       "      <td>40</td>\n",
       "      <td>35</td>\n",
       "      <td>168</td>\n",
       "      <td>43.1</td>\n",
       "      <td>2.288</td>\n",
       "      <td>33</td>\n",
       "      <td>1</td>\n",
       "    </tr>\n",
       "  </tbody>\n",
       "</table>\n",
       "</div>"
      ],
      "text/plain": [
       "   Pregnancies  Glucose  BloodPressure  SkinThickness  Insulin   BMI  \\\n",
       "0            6      148             72             35        0  33.6   \n",
       "1            1       85             66             29        0  26.6   \n",
       "2            8      183             64              0        0  23.3   \n",
       "3            1       89             66             23       94  28.1   \n",
       "4            0      137             40             35      168  43.1   \n",
       "\n",
       "   DiabetesPedigreeFunction  Age  Outcome  \n",
       "0                     0.627   50        1  \n",
       "1                     0.351   31        0  \n",
       "2                     0.672   32        1  \n",
       "3                     0.167   21        0  \n",
       "4                     2.288   33        1  "
      ]
     },
     "execution_count": 2,
     "metadata": {},
     "output_type": "execute_result"
    }
   ],
   "source": [
    "df_Diabetes=pd.read_csv(\"diabetes.csv\")\n",
    "df_Diabetes.head()"
   ]
  },
  {
   "cell_type": "code",
   "execution_count": 3,
   "metadata": {},
   "outputs": [
    {
     "name": "stdout",
     "output_type": "stream",
     "text": [
      "<class 'pandas.core.frame.DataFrame'>\n",
      "RangeIndex: 768 entries, 0 to 767\n",
      "Data columns (total 9 columns):\n",
      "Pregnancies                 768 non-null int64\n",
      "Glucose                     768 non-null int64\n",
      "BloodPressure               768 non-null int64\n",
      "SkinThickness               768 non-null int64\n",
      "Insulin                     768 non-null int64\n",
      "BMI                         768 non-null float64\n",
      "DiabetesPedigreeFunction    768 non-null float64\n",
      "Age                         768 non-null int64\n",
      "Outcome                     768 non-null int64\n",
      "dtypes: float64(2), int64(7)\n",
      "memory usage: 54.1 KB\n"
     ]
    }
   ],
   "source": [
    "df_Diabetes.info()"
   ]
  },
  {
   "cell_type": "code",
   "execution_count": 4,
   "metadata": {},
   "outputs": [
    {
     "data": {
      "text/html": [
       "<div>\n",
       "<style>\n",
       "    .dataframe thead tr:only-child th {\n",
       "        text-align: right;\n",
       "    }\n",
       "\n",
       "    .dataframe thead th {\n",
       "        text-align: left;\n",
       "    }\n",
       "\n",
       "    .dataframe tbody tr th {\n",
       "        vertical-align: top;\n",
       "    }\n",
       "</style>\n",
       "<table border=\"1\" class=\"dataframe\">\n",
       "  <thead>\n",
       "    <tr style=\"text-align: right;\">\n",
       "      <th></th>\n",
       "      <th>Pregnancies</th>\n",
       "      <th>Glucose</th>\n",
       "      <th>BloodPressure</th>\n",
       "      <th>SkinThickness</th>\n",
       "      <th>Insulin</th>\n",
       "      <th>BMI</th>\n",
       "      <th>DiabetesPedigreeFunction</th>\n",
       "      <th>Age</th>\n",
       "      <th>Outcome</th>\n",
       "    </tr>\n",
       "  </thead>\n",
       "  <tbody>\n",
       "    <tr>\n",
       "      <th>count</th>\n",
       "      <td>768.000000</td>\n",
       "      <td>768.000000</td>\n",
       "      <td>768.000000</td>\n",
       "      <td>768.000000</td>\n",
       "      <td>768.000000</td>\n",
       "      <td>768.000000</td>\n",
       "      <td>768.000000</td>\n",
       "      <td>768.000000</td>\n",
       "      <td>768.000000</td>\n",
       "    </tr>\n",
       "    <tr>\n",
       "      <th>mean</th>\n",
       "      <td>3.845052</td>\n",
       "      <td>120.894531</td>\n",
       "      <td>69.105469</td>\n",
       "      <td>20.536458</td>\n",
       "      <td>79.799479</td>\n",
       "      <td>31.992578</td>\n",
       "      <td>0.471876</td>\n",
       "      <td>33.240885</td>\n",
       "      <td>0.348958</td>\n",
       "    </tr>\n",
       "    <tr>\n",
       "      <th>std</th>\n",
       "      <td>3.369578</td>\n",
       "      <td>31.972618</td>\n",
       "      <td>19.355807</td>\n",
       "      <td>15.952218</td>\n",
       "      <td>115.244002</td>\n",
       "      <td>7.884160</td>\n",
       "      <td>0.331329</td>\n",
       "      <td>11.760232</td>\n",
       "      <td>0.476951</td>\n",
       "    </tr>\n",
       "    <tr>\n",
       "      <th>min</th>\n",
       "      <td>0.000000</td>\n",
       "      <td>0.000000</td>\n",
       "      <td>0.000000</td>\n",
       "      <td>0.000000</td>\n",
       "      <td>0.000000</td>\n",
       "      <td>0.000000</td>\n",
       "      <td>0.078000</td>\n",
       "      <td>21.000000</td>\n",
       "      <td>0.000000</td>\n",
       "    </tr>\n",
       "    <tr>\n",
       "      <th>25%</th>\n",
       "      <td>1.000000</td>\n",
       "      <td>99.000000</td>\n",
       "      <td>62.000000</td>\n",
       "      <td>0.000000</td>\n",
       "      <td>0.000000</td>\n",
       "      <td>27.300000</td>\n",
       "      <td>0.243750</td>\n",
       "      <td>24.000000</td>\n",
       "      <td>0.000000</td>\n",
       "    </tr>\n",
       "    <tr>\n",
       "      <th>50%</th>\n",
       "      <td>3.000000</td>\n",
       "      <td>117.000000</td>\n",
       "      <td>72.000000</td>\n",
       "      <td>23.000000</td>\n",
       "      <td>30.500000</td>\n",
       "      <td>32.000000</td>\n",
       "      <td>0.372500</td>\n",
       "      <td>29.000000</td>\n",
       "      <td>0.000000</td>\n",
       "    </tr>\n",
       "    <tr>\n",
       "      <th>75%</th>\n",
       "      <td>6.000000</td>\n",
       "      <td>140.250000</td>\n",
       "      <td>80.000000</td>\n",
       "      <td>32.000000</td>\n",
       "      <td>127.250000</td>\n",
       "      <td>36.600000</td>\n",
       "      <td>0.626250</td>\n",
       "      <td>41.000000</td>\n",
       "      <td>1.000000</td>\n",
       "    </tr>\n",
       "    <tr>\n",
       "      <th>max</th>\n",
       "      <td>17.000000</td>\n",
       "      <td>199.000000</td>\n",
       "      <td>122.000000</td>\n",
       "      <td>99.000000</td>\n",
       "      <td>846.000000</td>\n",
       "      <td>67.100000</td>\n",
       "      <td>2.420000</td>\n",
       "      <td>81.000000</td>\n",
       "      <td>1.000000</td>\n",
       "    </tr>\n",
       "  </tbody>\n",
       "</table>\n",
       "</div>"
      ],
      "text/plain": [
       "       Pregnancies     Glucose  BloodPressure  SkinThickness     Insulin  \\\n",
       "count   768.000000  768.000000     768.000000     768.000000  768.000000   \n",
       "mean      3.845052  120.894531      69.105469      20.536458   79.799479   \n",
       "std       3.369578   31.972618      19.355807      15.952218  115.244002   \n",
       "min       0.000000    0.000000       0.000000       0.000000    0.000000   \n",
       "25%       1.000000   99.000000      62.000000       0.000000    0.000000   \n",
       "50%       3.000000  117.000000      72.000000      23.000000   30.500000   \n",
       "75%       6.000000  140.250000      80.000000      32.000000  127.250000   \n",
       "max      17.000000  199.000000     122.000000      99.000000  846.000000   \n",
       "\n",
       "              BMI  DiabetesPedigreeFunction         Age     Outcome  \n",
       "count  768.000000                768.000000  768.000000  768.000000  \n",
       "mean    31.992578                  0.471876   33.240885    0.348958  \n",
       "std      7.884160                  0.331329   11.760232    0.476951  \n",
       "min      0.000000                  0.078000   21.000000    0.000000  \n",
       "25%     27.300000                  0.243750   24.000000    0.000000  \n",
       "50%     32.000000                  0.372500   29.000000    0.000000  \n",
       "75%     36.600000                  0.626250   41.000000    1.000000  \n",
       "max     67.100000                  2.420000   81.000000    1.000000  "
      ]
     },
     "execution_count": 4,
     "metadata": {},
     "output_type": "execute_result"
    }
   ],
   "source": [
    "df_Diabetes.describe()"
   ]
  },
  {
   "cell_type": "code",
   "execution_count": 5,
   "metadata": {},
   "outputs": [
    {
     "data": {
      "text/plain": [
       "<matplotlib.axes._subplots.AxesSubplot at 0x7f7f62823a90>"
      ]
     },
     "execution_count": 5,
     "metadata": {},
     "output_type": "execute_result"
    },
    {
     "data": {
      "image/png": "[encoded data removed]",
      "text/plain": [
       "<matplotlib.figure.Figure at 0x7f7f62870310>"
      ]
     },
     "metadata": {},
     "output_type": "display_data"
    }
   ],
   "source": [
    "plt.figure(figsize=(20,10))\n",
    "sns.heatmap(df_Diabetes.isnull(),yticklabels=False,cmap='viridis')"
   ]
  },
  {
   "cell_type": "code",
   "execution_count": 6,
   "metadata": {},
   "outputs": [
    {
     "name": "stdout",
     "output_type": "stream",
     "text": [
      "(5, 7)\n"
     ]
    },
    {
     "data": {
      "text/html": [
       "<div>\n",
       "<style>\n",
       "    .dataframe thead tr:only-child th {\n",
       "        text-align: right;\n",
       "    }\n",
       "\n",
       "    .dataframe thead th {\n",
       "        text-align: left;\n",
       "    }\n",
       "\n",
       "    .dataframe tbody tr th {\n",
       "        vertical-align: top;\n",
       "    }\n",
       "</style>\n",
       "<table border=\"1\" class=\"dataframe\">\n",
       "  <thead>\n",
       "    <tr style=\"text-align: right;\">\n",
       "      <th></th>\n",
       "      <th>0</th>\n",
       "      <th>1</th>\n",
       "      <th>2</th>\n",
       "      <th>3</th>\n",
       "      <th>4</th>\n",
       "      <th>5</th>\n",
       "      <th>6</th>\n",
       "    </tr>\n",
       "  </thead>\n",
       "  <tbody>\n",
       "    <tr>\n",
       "      <th>0</th>\n",
       "      <td>1.764052</td>\n",
       "      <td>0.400157</td>\n",
       "      <td>0.978738</td>\n",
       "      <td>2.240893</td>\n",
       "      <td>1.867558</td>\n",
       "      <td>-0.977278</td>\n",
       "      <td>0.950088</td>\n",
       "    </tr>\n",
       "    <tr>\n",
       "      <th>1</th>\n",
       "      <td>-0.151357</td>\n",
       "      <td>-0.103219</td>\n",
       "      <td>0.410599</td>\n",
       "      <td>0.144044</td>\n",
       "      <td>1.454274</td>\n",
       "      <td>0.761038</td>\n",
       "      <td>0.121675</td>\n",
       "    </tr>\n",
       "    <tr>\n",
       "      <th>2</th>\n",
       "      <td>0.443863</td>\n",
       "      <td>0.333674</td>\n",
       "      <td>1.494079</td>\n",
       "      <td>-0.205158</td>\n",
       "      <td>0.313068</td>\n",
       "      <td>-0.854096</td>\n",
       "      <td>-2.552990</td>\n",
       "    </tr>\n",
       "    <tr>\n",
       "      <th>3</th>\n",
       "      <td>0.653619</td>\n",
       "      <td>0.864436</td>\n",
       "      <td>-0.742165</td>\n",
       "      <td>2.269755</td>\n",
       "      <td>-1.454366</td>\n",
       "      <td>0.045759</td>\n",
       "      <td>-0.187184</td>\n",
       "    </tr>\n",
       "    <tr>\n",
       "      <th>4</th>\n",
       "      <td>1.532779</td>\n",
       "      <td>1.469359</td>\n",
       "      <td>0.154947</td>\n",
       "      <td>0.378163</td>\n",
       "      <td>-0.887786</td>\n",
       "      <td>-1.980796</td>\n",
       "      <td>-0.347912</td>\n",
       "    </tr>\n",
       "  </tbody>\n",
       "</table>\n",
       "</div>"
      ],
      "text/plain": [
       "          0         1         2         3         4         5         6\n",
       "0  1.764052  0.400157  0.978738  2.240893  1.867558 -0.977278  0.950088\n",
       "1 -0.151357 -0.103219  0.410599  0.144044  1.454274  0.761038  0.121675\n",
       "2  0.443863  0.333674  1.494079 -0.205158  0.313068 -0.854096 -2.552990\n",
       "3  0.653619  0.864436 -0.742165  2.269755 -1.454366  0.045759 -0.187184\n",
       "4  1.532779  1.469359  0.154947  0.378163 -0.887786 -1.980796 -0.347912"
      ]
     },
     "execution_count": 6,
     "metadata": {},
     "output_type": "execute_result"
    }
   ],
   "source": [
    "import numpy as np; np.random.seed(0)\n",
    "import seaborn as sns; sns.set()\n",
    "uniform_data = np.random.randn(5, 7)\n",
    "print uniform_data.shape\n",
    "df_uniform_data=pd.DataFrame(uniform_data)\n",
    "df_uniform_data"
   ]
  },
  {
   "cell_type": "code",
   "execution_count": 7,
   "metadata": {},
   "outputs": [
    {
     "data": {
      "image/png": "[encoded data removed]",
      "text/plain": [
       "<matplotlib.figure.Figure at 0x7f7f628d1690>"
      ]
     },
     "metadata": {},
     "output_type": "display_data"
    }
   ],
   "source": [
    "ax = sns.heatmap(uniform_data,vmin=0.2, vmax=1)"
   ]
  },
  {
   "cell_type": "code",
   "execution_count": 8,
   "metadata": {},
   "outputs": [
    {
     "data": {
      "image/png": "[encoded data removed]",
      "text/plain": [
       "<matplotlib.figure.Figure at 0x7f7f5b275ad0>"
      ]
     },
     "metadata": {},
     "output_type": "display_data"
    }
   ],
   "source": [
    "ax = sns.heatmap(uniform_data,center=0 )"
   ]
  },
  {
   "cell_type": "code",
   "execution_count": 9,
   "metadata": {},
   "outputs": [
    {
     "data": {
      "image/png": "[encoded data removed]",
      "text/plain": [
       "<matplotlib.figure.Figure at 0x7f7f5b2297d0>"
      ]
     },
     "metadata": {},
     "output_type": "display_data"
    }
   ],
   "source": [
    "flights = sns.load_dataset(\"flights\")\n",
    "#print flights.head()\n",
    "flights = flights.pivot(\"month\", \"year\", \"passengers\")\n",
    "#print flights.head()\n",
    "ax = sns.heatmap(flights, annot=True, fmt=\"d\",linewidths=1.5,cmap=\"YlGnBu\")"
   ]
  },
  {
   "cell_type": "code",
   "execution_count": 10,
   "metadata": {},
   "outputs": [
    {
     "data": {
      "image/png": "[encoded data removed]",
      "text/plain": [
       "<matplotlib.figure.Figure at 0x7f7f5b1fe3d0>"
      ]
     },
     "metadata": {},
     "output_type": "display_data"
    }
   ],
   "source": [
    "ax = sns.heatmap(flights, center=flights.loc[\"November\", 1949],cmap=\"viridis\")"
   ]
  },
  {
   "cell_type": "code",
   "execution_count": 11,
   "metadata": {},
   "outputs": [
    {
     "data": {
      "image/png": "[encoded data removed]",
      "text/plain": [
       "<matplotlib.figure.Figure at 0x7f7f597690d0>"
      ]
     },
     "metadata": {},
     "output_type": "display_data"
    }
   ],
   "source": [
    "current_palette = sns.color_palette()\n",
    "sns.palplot(current_palette)"
   ]
  },
  {
   "cell_type": "code",
   "execution_count": 12,
   "metadata": {},
   "outputs": [
    {
     "data": {
      "text/plain": [
       "<matplotlib.axes._subplots.AxesSubplot at 0x7f7f5b1c35d0>"
      ]
     },
     "execution_count": 12,
     "metadata": {},
     "output_type": "execute_result"
    },
    {
     "data": {
      "image/png": "[encoded data removed]",
      "text/plain": [
       "<matplotlib.figure.Figure at 0x7f7f59760f10>"
      ]
     },
     "metadata": {},
     "output_type": "display_data"
    }
   ],
   "source": [
    "#Visualizacion se tem elementos nulos ou vazios em no dataframe de acordo so color\n",
    "plt.figure(figsize=(20,10))\n",
    "sns.heatmap(df_Diabetes.isnull(),yticklabels=False,cmap='Blues')"
   ]
  },
  {
   "cell_type": "code",
   "execution_count": 13,
   "metadata": {},
   "outputs": [],
   "source": [
    "#Estilo del padron por feito de fundo do plot que vem\n",
    "sns.set_style('whitegrid')\n",
    "#Estilo del padron do fundo do plot que vem incrementando os ejes\n",
    "#sns.set_style(\"ticks\", {\"xtick.major.size\": 8, \"ytick.major.size\": 8})"
   ]
  },
  {
   "cell_type": "code",
   "execution_count": 14,
   "metadata": {},
   "outputs": [
    {
     "data": {
      "text/plain": [
       "<matplotlib.axes._subplots.AxesSubplot at 0x7f7f596fe210>"
      ]
     },
     "execution_count": 14,
     "metadata": {},
     "output_type": "execute_result"
    },
    {
     "data": {
      "image/png": "[encoded data removed]",
      "text/plain": [
       "<matplotlib.figure.Figure at 0x7f7f596d7190>"
      ]
     },
     "metadata": {},
     "output_type": "display_data"
    }
   ],
   "source": [
    "sns.countplot(x='Outcome',hue='Outcome',data=df_Diabetes,palette='RdBu_r')\n"
   ]
  },
  {
   "cell_type": "code",
   "execution_count": 15,
   "metadata": {
    "scrolled": true
   },
   "outputs": [
    {
     "data": {
      "text/plain": [
       "<seaborn.axisgrid.PairGrid at 0x7f7f5963b590>"
      ]
     },
     "execution_count": 15,
     "metadata": {},
     "output_type": "execute_result"
    },
    {
     "data": {
      "text/plain": [
       "<matplotlib.figure.Figure at 0x7f7f5963b550>"
      ]
     },
     "metadata": {},
     "output_type": "display_data"
    },
    {
     "data": {
      "image/png": "[encoded data removed]",
      "text/plain": [
       "<matplotlib.figure.Figure at 0x7f7f5963bd10>"
      ]
     },
     "metadata": {},
     "output_type": "display_data"
    }
   ],
   "source": [
    "plt.figure(figsize=(12,10))\n",
    "sns.pairplot(data=df_Diabetes,hue='Outcome',palette=\"RdBu_r\",vars=[\"Pregnancies\"])"
   ]
  },
  {
   "cell_type": "code",
   "execution_count": 16,
   "metadata": {},
   "outputs": [
    {
     "name": "stdout",
     "output_type": "stream",
     "text": [
      "   Quantidade\n",
      "0          38\n",
      "1          29\n",
      "3          27\n",
      "7          25\n",
      "4          23\n"
     ]
    },
    {
     "data": {
      "text/html": [
       "<div>\n",
       "<style>\n",
       "    .dataframe thead tr:only-child th {\n",
       "        text-align: right;\n",
       "    }\n",
       "\n",
       "    .dataframe thead th {\n",
       "        text-align: left;\n",
       "    }\n",
       "\n",
       "    .dataframe tbody tr th {\n",
       "        vertical-align: top;\n",
       "    }\n",
       "</style>\n",
       "<table border=\"1\" class=\"dataframe\">\n",
       "  <thead>\n",
       "    <tr style=\"text-align: right;\">\n",
       "      <th></th>\n",
       "      <th>index</th>\n",
       "      <th>Quantidade</th>\n",
       "    </tr>\n",
       "  </thead>\n",
       "  <tbody>\n",
       "    <tr>\n",
       "      <th>2</th>\n",
       "      <td>0</td>\n",
       "      <td>73</td>\n",
       "    </tr>\n",
       "    <tr>\n",
       "      <th>0</th>\n",
       "      <td>1</td>\n",
       "      <td>106</td>\n",
       "    </tr>\n",
       "    <tr>\n",
       "      <th>1</th>\n",
       "      <td>2</td>\n",
       "      <td>84</td>\n",
       "    </tr>\n",
       "    <tr>\n",
       "      <th>3</th>\n",
       "      <td>3</td>\n",
       "      <td>48</td>\n",
       "    </tr>\n",
       "    <tr>\n",
       "      <th>4</th>\n",
       "      <td>4</td>\n",
       "      <td>45</td>\n",
       "    </tr>\n",
       "    <tr>\n",
       "      <th>5</th>\n",
       "      <td>5</td>\n",
       "      <td>36</td>\n",
       "    </tr>\n",
       "    <tr>\n",
       "      <th>6</th>\n",
       "      <td>6</td>\n",
       "      <td>34</td>\n",
       "    </tr>\n",
       "    <tr>\n",
       "      <th>7</th>\n",
       "      <td>7</td>\n",
       "      <td>20</td>\n",
       "    </tr>\n",
       "    <tr>\n",
       "      <th>8</th>\n",
       "      <td>8</td>\n",
       "      <td>16</td>\n",
       "    </tr>\n",
       "    <tr>\n",
       "      <th>10</th>\n",
       "      <td>9</td>\n",
       "      <td>10</td>\n",
       "    </tr>\n",
       "    <tr>\n",
       "      <th>9</th>\n",
       "      <td>10</td>\n",
       "      <td>14</td>\n",
       "    </tr>\n",
       "    <tr>\n",
       "      <th>13</th>\n",
       "      <td>11</td>\n",
       "      <td>4</td>\n",
       "    </tr>\n",
       "    <tr>\n",
       "      <th>12</th>\n",
       "      <td>12</td>\n",
       "      <td>5</td>\n",
       "    </tr>\n",
       "    <tr>\n",
       "      <th>11</th>\n",
       "      <td>13</td>\n",
       "      <td>5</td>\n",
       "    </tr>\n",
       "  </tbody>\n",
       "</table>\n",
       "</div>"
      ],
      "text/plain": [
       "    index  Quantidade\n",
       "2       0          73\n",
       "0       1         106\n",
       "1       2          84\n",
       "3       3          48\n",
       "4       4          45\n",
       "5       5          36\n",
       "6       6          34\n",
       "7       7          20\n",
       "8       8          16\n",
       "10      9          10\n",
       "9      10          14\n",
       "13     11           4\n",
       "12     12           5\n",
       "11     13           5"
      ]
     },
     "execution_count": 16,
     "metadata": {},
     "output_type": "execute_result"
    }
   ],
   "source": [
    "#df_Diabetes[\"Pregnancies\"].value_counts()\n",
    "C_1=df_Diabetes[df_Diabetes.Outcome==1].Pregnancies.value_counts()\n",
    "C_0=df_Diabetes[df_Diabetes.Outcome==0].Pregnancies.value_counts()\n",
    "df_C_0=C_0.to_frame(name=\"Quantidade\")\n",
    "df_C_1=C_1.to_frame(name=\"Quantidade\")\n",
    "df_C_0=df_C_0.reset_index()\n",
    "df_C_0.rename(columns={\"index\":\"Indice\"})\n",
    "#print df_C_0\n",
    "print df_C_1.head()\n",
    "df_C_0.sort_values(\"index\")"
   ]
  },
  {
   "cell_type": "code",
   "execution_count": 17,
   "metadata": {},
   "outputs": [
    {
     "data": {
      "text/plain": [
       "<seaborn.axisgrid.JointGrid at 0x7f7f595235d0>"
      ]
     },
     "execution_count": 17,
     "metadata": {},
     "output_type": "execute_result"
    },
    {
     "data": {
      "image/png": "[encoded data removed]",
      "text/plain": [
       "<matplotlib.figure.Figure at 0x7f7f595234d0>"
      ]
     },
     "metadata": {},
     "output_type": "display_data"
    }
   ],
   "source": [
    "sns.jointplot(x='Age',y='BloodPressure',data=df_Diabetes)"
   ]
  },
  {
   "cell_type": "code",
   "execution_count": 18,
   "metadata": {
    "collapsed": true
   },
   "outputs": [],
   "source": [
    "from sklearn.model_selection import train_test_split"
   ]
  },
  {
   "cell_type": "code",
   "execution_count": 19,
   "metadata": {
    "collapsed": true
   },
   "outputs": [],
   "source": [
    "X = ['Pregnancies','Glucose','BloodPressure','SkinThickness','Insulin','BMI','DiabetesPedigreeFunction','Age']\n",
    "y = ['Output']"
   ]
  },
  {
   "cell_type": "code",
   "execution_count": 20,
   "metadata": {},
   "outputs": [
    {
     "data": {
      "text/html": [
       "<div>\n",
       "<style>\n",
       "    .dataframe thead tr:only-child th {\n",
       "        text-align: right;\n",
       "    }\n",
       "\n",
       "    .dataframe thead th {\n",
       "        text-align: left;\n",
       "    }\n",
       "\n",
       "    .dataframe tbody tr th {\n",
       "        vertical-align: top;\n",
       "    }\n",
       "</style>\n",
       "<table border=\"1\" class=\"dataframe\">\n",
       "  <thead>\n",
       "    <tr style=\"text-align: right;\">\n",
       "      <th></th>\n",
       "      <th>Pregnancies</th>\n",
       "      <th>Glucose</th>\n",
       "      <th>BloodPressure</th>\n",
       "      <th>SkinThickness</th>\n",
       "      <th>Insulin</th>\n",
       "      <th>BMI</th>\n",
       "      <th>DiabetesPedigreeFunction</th>\n",
       "      <th>Age</th>\n",
       "      <th>Outcome</th>\n",
       "    </tr>\n",
       "  </thead>\n",
       "  <tbody>\n",
       "    <tr>\n",
       "      <th>0</th>\n",
       "      <td>6</td>\n",
       "      <td>148</td>\n",
       "      <td>72</td>\n",
       "      <td>35</td>\n",
       "      <td>0</td>\n",
       "      <td>33.6</td>\n",
       "      <td>0.627</td>\n",
       "      <td>50</td>\n",
       "      <td>1</td>\n",
       "    </tr>\n",
       "    <tr>\n",
       "      <th>1</th>\n",
       "      <td>1</td>\n",
       "      <td>85</td>\n",
       "      <td>66</td>\n",
       "      <td>29</td>\n",
       "      <td>0</td>\n",
       "      <td>26.6</td>\n",
       "      <td>0.351</td>\n",
       "      <td>31</td>\n",
       "      <td>0</td>\n",
       "    </tr>\n",
       "    <tr>\n",
       "      <th>2</th>\n",
       "      <td>8</td>\n",
       "      <td>183</td>\n",
       "      <td>64</td>\n",
       "      <td>0</td>\n",
       "      <td>0</td>\n",
       "      <td>23.3</td>\n",
       "      <td>0.672</td>\n",
       "      <td>32</td>\n",
       "      <td>1</td>\n",
       "    </tr>\n",
       "    <tr>\n",
       "      <th>3</th>\n",
       "      <td>1</td>\n",
       "      <td>89</td>\n",
       "      <td>66</td>\n",
       "      <td>23</td>\n",
       "      <td>94</td>\n",
       "      <td>28.1</td>\n",
       "      <td>0.167</td>\n",
       "      <td>21</td>\n",
       "      <td>0</td>\n",
       "    </tr>\n",
       "    <tr>\n",
       "      <th>4</th>\n",
       "      <td>0</td>\n",
       "      <td>137</td>\n",
       "      <td>40</td>\n",
       "      <td>35</td>\n",
       "      <td>168</td>\n",
       "      <td>43.1</td>\n",
       "      <td>2.288</td>\n",
       "      <td>33</td>\n",
       "      <td>1</td>\n",
       "    </tr>\n",
       "  </tbody>\n",
       "</table>\n",
       "</div>"
      ],
      "text/plain": [
       "   Pregnancies  Glucose  BloodPressure  SkinThickness  Insulin   BMI  \\\n",
       "0            6      148             72             35        0  33.6   \n",
       "1            1       85             66             29        0  26.6   \n",
       "2            8      183             64              0        0  23.3   \n",
       "3            1       89             66             23       94  28.1   \n",
       "4            0      137             40             35      168  43.1   \n",
       "\n",
       "   DiabetesPedigreeFunction  Age  Outcome  \n",
       "0                     0.627   50        1  \n",
       "1                     0.351   31        0  \n",
       "2                     0.672   32        1  \n",
       "3                     0.167   21        0  \n",
       "4                     2.288   33        1  "
      ]
     },
     "execution_count": 20,
     "metadata": {},
     "output_type": "execute_result"
    }
   ],
   "source": [
    "df_Diabetes_2 = pd.DataFrame(data=df_Diabetes)\n",
    "df_Diabetes_2.head()"
   ]
  },
  {
   "cell_type": "code",
   "execution_count": 21,
   "metadata": {
    "collapsed": true
   },
   "outputs": [],
   "source": [
    "#Splitin en Trainer e test"
   ]
  },
  {
   "cell_type": "code",
   "execution_count": 22,
   "metadata": {},
   "outputs": [],
   "source": [
    "X_train, X_test, y_train, y_test = train_test_split(df_Diabetes.drop('Outcome',axis=1),df_Diabetes['Outcome'],\n",
    "                                                    test_size=0.30, random_state=101)"
   ]
  },
  {
   "cell_type": "code",
   "execution_count": 23,
   "metadata": {},
   "outputs": [
    {
     "data": {
      "text/html": [
       "<div>\n",
       "<style>\n",
       "    .dataframe thead tr:only-child th {\n",
       "        text-align: right;\n",
       "    }\n",
       "\n",
       "    .dataframe thead th {\n",
       "        text-align: left;\n",
       "    }\n",
       "\n",
       "    .dataframe tbody tr th {\n",
       "        vertical-align: top;\n",
       "    }\n",
       "</style>\n",
       "<table border=\"1\" class=\"dataframe\">\n",
       "  <thead>\n",
       "    <tr style=\"text-align: right;\">\n",
       "      <th></th>\n",
       "      <th>Pregnancies</th>\n",
       "      <th>Glucose</th>\n",
       "      <th>BloodPressure</th>\n",
       "      <th>SkinThickness</th>\n",
       "      <th>Insulin</th>\n",
       "      <th>BMI</th>\n",
       "      <th>DiabetesPedigreeFunction</th>\n",
       "      <th>Age</th>\n",
       "    </tr>\n",
       "  </thead>\n",
       "  <tbody>\n",
       "    <tr>\n",
       "      <th>711</th>\n",
       "      <td>5</td>\n",
       "      <td>126</td>\n",
       "      <td>78</td>\n",
       "      <td>27</td>\n",
       "      <td>22</td>\n",
       "      <td>29.6</td>\n",
       "      <td>0.439</td>\n",
       "      <td>40</td>\n",
       "    </tr>\n",
       "    <tr>\n",
       "      <th>58</th>\n",
       "      <td>0</td>\n",
       "      <td>146</td>\n",
       "      <td>82</td>\n",
       "      <td>0</td>\n",
       "      <td>0</td>\n",
       "      <td>40.5</td>\n",
       "      <td>1.781</td>\n",
       "      <td>44</td>\n",
       "    </tr>\n",
       "    <tr>\n",
       "      <th>216</th>\n",
       "      <td>5</td>\n",
       "      <td>109</td>\n",
       "      <td>62</td>\n",
       "      <td>41</td>\n",
       "      <td>129</td>\n",
       "      <td>35.8</td>\n",
       "      <td>0.514</td>\n",
       "      <td>25</td>\n",
       "    </tr>\n",
       "    <tr>\n",
       "      <th>168</th>\n",
       "      <td>4</td>\n",
       "      <td>110</td>\n",
       "      <td>66</td>\n",
       "      <td>0</td>\n",
       "      <td>0</td>\n",
       "      <td>31.9</td>\n",
       "      <td>0.471</td>\n",
       "      <td>29</td>\n",
       "    </tr>\n",
       "    <tr>\n",
       "      <th>658</th>\n",
       "      <td>11</td>\n",
       "      <td>127</td>\n",
       "      <td>106</td>\n",
       "      <td>0</td>\n",
       "      <td>0</td>\n",
       "      <td>39.0</td>\n",
       "      <td>0.190</td>\n",
       "      <td>51</td>\n",
       "    </tr>\n",
       "  </tbody>\n",
       "</table>\n",
       "</div>"
      ],
      "text/plain": [
       "     Pregnancies  Glucose  BloodPressure  SkinThickness  Insulin   BMI  \\\n",
       "711            5      126             78             27       22  29.6   \n",
       "58             0      146             82              0        0  40.5   \n",
       "216            5      109             62             41      129  35.8   \n",
       "168            4      110             66              0        0  31.9   \n",
       "658           11      127            106              0        0  39.0   \n",
       "\n",
       "     DiabetesPedigreeFunction  Age  \n",
       "711                     0.439   40  \n",
       "58                      1.781   44  \n",
       "216                     0.514   25  \n",
       "168                     0.471   29  \n",
       "658                     0.190   51  "
      ]
     },
     "execution_count": 23,
     "metadata": {},
     "output_type": "execute_result"
    }
   ],
   "source": [
    "X_train.head()"
   ]
  },
  {
   "cell_type": "markdown",
   "metadata": {},
   "source": [
    "### Regresion Logistica"
   ]
  },
  {
   "cell_type": "markdown",
   "metadata": {},
   "source": [
    "### Eliminacion de variables bajos"
   ]
  },
  {
   "cell_type": "markdown",
   "metadata": {},
   "source": [
    "Elimina todas las características cuya variación no cumple con algún umbral. De forma predeterminada, elimina todas las características de varianza cero, es decir, las características que tienen el mismo valor en todas las muestras."
   ]
  },
  {
   "cell_type": "code",
   "execution_count": 60,
   "metadata": {},
   "outputs": [
    {
     "name": "stdout",
     "output_type": "stream",
     "text": [
      "X_train.shape is : (537, 8)\n",
      "X_train_selected.shape is : (537, 7)\n"
     ]
    }
   ],
   "source": [
    "from sklearn.feature_selection import VarianceThreshold\n",
    "sel = VarianceThreshold(threshold=(.8 * (1 - .8)))\n",
    "sel.fit(X)\n",
    "X_train_sel=sel.transform(X_train)\n",
    "print (\"X_train.shape is : {}\".format(X_train.shape))\n",
    "print (\"X_train_selected.shape is : {}\".format(X_train_sel.shape))"
   ]
  },
  {
   "cell_type": "code",
   "execution_count": 61,
   "metadata": {},
   "outputs": [
    {
     "name": "stdout",
     "output_type": "stream",
     "text": [
      "[ True  True  True  True  True  True False  True]\n"
     ]
    },
    {
     "data": {
      "text/plain": [
       "<matplotlib.image.AxesImage at 0x7f7f50601890>"
      ]
     },
     "execution_count": 61,
     "metadata": {},
     "output_type": "execute_result"
    },
    {
     "data": {
      "image/png": "[encoded data removed]",
      "text/plain": [
       "<matplotlib.figure.Figure at 0x7f7f5b1f2550>"
      ]
     },
     "metadata": {},
     "output_type": "display_data"
    }
   ],
   "source": [
    "mask =sel.get_support()\n",
    "print mask\n",
    "plt.matshow(mask.reshape(1,-1),cmap=\"Blues\")"
   ]
  },
  {
   "cell_type": "code",
   "execution_count": 62,
   "metadata": {},
   "outputs": [
    {
     "name": "stdout",
     "output_type": "stream",
     "text": [
      "Score logistic regresion para todas as variaveis são:0.784\n",
      "Score logistic regresion para as variaveis seletas são:0.753\n"
     ]
    }
   ],
   "source": [
    "X_test_sel=sel.transform(X_test)\n",
    "#print X_test_selected\n",
    "from sklearn.linear_model import LogisticRegression\n",
    "logit1=LogisticRegression()\n",
    "logit1.fit(X_train,y_train)\n",
    "print (\"Score logistic regresion para todas as variaveis são:{:.3f}\".format(logit1.score(X_test,y_test)))\n",
    "\n",
    "logit1.fit(X_train_sel,y_train)\n",
    "print (\"Score logistic regresion para as variaveis seletas são:{:.3f}\".format(logit1.score(X_test_sel,y_test)))"
   ]
  },
  {
   "cell_type": "code",
   "execution_count": 64,
   "metadata": {},
   "outputs": [
    {
     "name": "stdout",
     "output_type": "stream",
     "text": [
      "0.753246753247\n"
     ]
    }
   ],
   "source": [
    "#Acuracia\n",
    "from sklearn import metrics\n",
    "y_predict=logit1.predict(X_test_sel)\n",
    "print metrics.accuracy_score(y_test,y_predict)"
   ]
  },
  {
   "cell_type": "code",
   "execution_count": 65,
   "metadata": {},
   "outputs": [
    {
     "data": {
      "text/plain": [
       "0    150\n",
       "1     81\n",
       "Name: Outcome, dtype: int64"
      ]
     },
     "execution_count": 65,
     "metadata": {},
     "output_type": "execute_result"
    }
   ],
   "source": [
    "y_test.value_counts()"
   ]
  },
  {
   "cell_type": "code",
   "execution_count": 68,
   "metadata": {},
   "outputs": [
    {
     "name": "stdout",
     "output_type": "stream",
     "text": [
      "0.350649350649\n",
      "0.649350649351\n"
     ]
    },
    {
     "data": {
      "text/plain": [
       "0    0.649351\n",
       "Name: Outcome, dtype: float64"
      ]
     },
     "execution_count": 68,
     "metadata": {},
     "output_type": "execute_result"
    }
   ],
   "source": [
    "#porsentaje de unos\n",
    "print y_test.mean()\n",
    "#Porsntajede Zeros\n",
    "print 1-y_test.mean()\n",
    "#Calculate nul accuracy\n",
    "y_test.value_counts().head(1)/len(y_test)"
   ]
  },
  {
   "cell_type": "markdown",
   "metadata": {},
   "source": [
    "###### Matriz de Confusion"
   ]
  },
  {
   "cell_type": "code",
   "execution_count": 71,
   "metadata": {},
   "outputs": [],
   "source": [
    "confusion=metrics.confusion_matrix(y_test,y_predict)\n",
    "TP=confusion[1,1]\n",
    "TN=confusion[0,0]\n",
    "FP=confusion[0,1]\n",
    "FN=confusion[1,0]\n"
   ]
  },
  {
   "cell_type": "code",
   "execution_count": 72,
   "metadata": {},
   "outputs": [
    {
     "name": "stdout",
     "output_type": "stream",
     "text": [
      "/bin/sh: 1: Syntax error: \"(\" unexpected\r\n"
     ]
    }
   ],
   "source": [
    "![Small confusion matrix](\"images/CM_1.png\")"
   ]
  },
  {
   "cell_type": "code",
   "execution_count": 73,
   "metadata": {},
   "outputs": [
    {
     "name": "stdout",
     "output_type": "stream",
     "text": [
      "0.753246753247\n",
      "0.753246753247\n"
     ]
    }
   ],
   "source": [
    "#Acuracia\n",
    "print (TP+TN)/float(TP+TN+FP+FN)\n",
    "print metrics.accuracy_score(y_test,y_predict)"
   ]
  },
  {
   "cell_type": "code",
   "execution_count": 74,
   "metadata": {},
   "outputs": [
    {
     "name": "stdout",
     "output_type": "stream",
     "text": [
      "0.246753246753\n",
      "0.246753246753\n"
     ]
    }
   ],
   "source": [
    "#Classicition error\n",
    "print (FP+FN)/float(TP+TN+FP+FN)\n",
    "print 1-metrics.accuracy_score(y_test,y_predict)"
   ]
  },
  {
   "cell_type": "code",
   "execution_count": 76,
   "metadata": {},
   "outputs": [
    {
     "name": "stdout",
     "output_type": "stream",
     "text": [
      "0.567901234568\n",
      "0.567901234568\n"
     ]
    }
   ],
   "source": [
    "#Sensitive: cuando el vaor actual es positivo \"True Positive Rate\" or \"Recall\"\n",
    "print (TP)/float(TP+FN)\n",
    "print metrics.recall_score(y_test,y_predict)"
   ]
  },
  {
   "cell_type": "code",
   "execution_count": 77,
   "metadata": {},
   "outputs": [
    {
     "name": "stdout",
     "output_type": "stream",
     "text": [
      "0.853333333333\n"
     ]
    }
   ],
   "source": [
    "#Specifidade: cuando el vaor actual es Negativo \"selective\"\n",
    "print (TN)/float(TN+FP)"
   ]
  },
  {
   "cell_type": "code",
   "execution_count": 78,
   "metadata": {},
   "outputs": [
    {
     "name": "stdout",
     "output_type": "stream",
     "text": [
      "0.146666666667\n"
     ]
    }
   ],
   "source": [
    "#False Positive Rate: Cuando el valor actual es negativo\n",
    "print (FP)/float(TN+FP)"
   ]
  },
  {
   "cell_type": "code",
   "execution_count": 79,
   "metadata": {},
   "outputs": [
    {
     "name": "stdout",
     "output_type": "stream",
     "text": [
      "0.676470588235\n",
      "0.676470588235\n"
     ]
    }
   ],
   "source": [
    "#Precision: Cuando el valor positivo es predicho\n",
    "print (TP)/float(TP+FP)\n",
    "print metrics.precision_score(y_test,y_predict)"
   ]
  },
  {
   "cell_type": "code",
   "execution_count": 81,
   "metadata": {
    "scrolled": true
   },
   "outputs": [
    {
     "data": {
      "text/plain": [
       "array([ 0.33697164,  0.76348862,  0.18215725,  0.43120523,  0.15399598,\n",
       "        0.84010913,  0.69143621,  0.08959222,  0.30890694,  0.40344864,\n",
       "        0.10061245,  0.20698054,  0.219982  ,  0.5228212 ,  0.4102242 ,\n",
       "        0.68328949,  0.49254691,  0.15279247,  0.39375762,  0.10956869,\n",
       "        0.34998475,  0.34503949,  0.56324266,  0.30433642,  0.23937896,\n",
       "        0.85822587,  0.11672006,  0.42870328,  0.06603939,  0.5065165 ,\n",
       "        0.81604538,  0.35141711,  0.37755232,  0.54772693,  0.27881418,\n",
       "        0.22204589,  0.39677333,  0.6791609 ,  0.85347915,  0.10594533,\n",
       "        0.17669503,  0.52478265,  0.25796777,  0.40986487,  0.15389518,\n",
       "        0.06104786,  0.48157174,  0.21149995,  0.23286337,  0.0834495 ,\n",
       "        0.17863978,  0.09533857,  0.20602928,  0.32299043,  0.08051777,\n",
       "        0.27661563,  0.23412743,  0.28423263,  0.51097804,  0.1106712 ,\n",
       "        0.3007118 ,  0.63418945,  0.79597151,  0.22344578,  0.47767228,\n",
       "        0.51961308,  0.20110311,  0.17612145,  0.12688374,  0.20404517,\n",
       "        0.71159673,  0.17331228,  0.15466919,  0.33892003,  0.75860139,\n",
       "        0.59973778,  0.11786012,  0.88008721,  0.08941484,  0.21907211,\n",
       "        0.63943688,  0.10225068,  0.51438209,  0.505156  ,  0.79539131,\n",
       "        0.18742648,  0.32790973,  0.29032563,  0.72035898,  0.64675668,\n",
       "        0.65066822,  0.371564  ,  0.70894392,  0.2142444 ,  0.16046261,\n",
       "        0.21928429,  0.22443669,  0.10026156,  0.7271371 ,  0.75288021,\n",
       "        0.39199357,  0.194702  ,  0.2573374 ,  0.31920956,  0.15092031,\n",
       "        0.12541172,  0.26499348,  0.50703956,  0.0879378 ,  0.1218904 ,\n",
       "        0.69444651,  0.19537697,  0.1233582 ,  0.14430233,  0.70003149,\n",
       "        0.61555799,  0.25134008,  0.28876504,  0.25989496,  0.36600382,\n",
       "        0.6838651 ,  0.31563436,  0.11493247,  0.52140809,  0.65348644,\n",
       "        0.29355701,  0.10239429,  0.57038817,  0.37908165,  0.24141872,\n",
       "        0.14885011,  0.64144984,  0.50422206,  0.74760661,  0.19743135,\n",
       "        0.28347055,  0.22261647,  0.28491543,  0.1113865 ,  0.11551585,\n",
       "        0.0844561 ,  0.66766367,  0.5550515 ,  0.71661316,  0.35691396,\n",
       "        0.35732335,  0.72519978,  0.07463364,  0.20796904,  0.65155025,\n",
       "        0.30543055,  0.4975825 ,  0.14913375,  0.51667146,  0.20999975,\n",
       "        0.739004  ,  0.36265684,  0.33306395,  0.1335032 ,  0.31819179,\n",
       "        0.37877265,  0.27912231,  0.08373593,  0.92006308,  0.39690611,\n",
       "        0.41184584,  0.11988729,  0.85761308,  0.62436018,  0.25404726,\n",
       "        0.28314997,  0.6384765 ,  0.15442087,  0.34658771,  0.356512  ,\n",
       "        0.2185189 ,  0.1080836 ,  0.45665308,  0.58990212,  0.11628167,\n",
       "        0.60150885,  0.78416183,  0.43113108,  0.56464245,  0.07705558,\n",
       "        0.17095344,  0.27608282,  0.13150109,  0.66460006,  0.42997918,\n",
       "        0.62788284,  0.39842974,  0.11190485,  0.13288132,  0.12857485,\n",
       "        0.38777735,  0.0676418 ,  0.11539238,  0.28036522,  0.25247066,\n",
       "        0.3515686 ,  0.39552203,  0.52405167,  0.13220268,  0.43547228,\n",
       "        0.67817977,  0.55368767,  0.77565882,  0.52669805,  0.24378436,\n",
       "        0.21453527,  0.32268881,  0.40281298,  0.23381605,  0.24226039,\n",
       "        0.42955583,  0.00989369,  0.16796608,  0.19622779,  0.05698784,\n",
       "        0.3086517 ,  0.48071016,  0.72851327,  0.19461804,  0.14080953,\n",
       "        0.81725927,  0.28318133,  0.76502594,  0.57550073,  0.09341684,\n",
       "        0.36564624])"
      ]
     },
     "execution_count": 81,
     "metadata": {},
     "output_type": "execute_result"
    }
   ],
   "source": [
    "##Ajustando os Threshold\n",
    "#logit1.predict(X_test)\n",
    "#logit1.predict_proba(X_test)\n",
    "#printando as predicoes probabilisticas para a Classe 1\n",
    "y_predict_prob=logit1.predict_proba(X_test_sel)[:,1]\n",
    "y_predict_prob"
   ]
  },
  {
   "cell_type": "code",
   "execution_count": 82,
   "metadata": {
    "collapsed": true
   },
   "outputs": [],
   "source": [
    "%matplotlib inline\n",
    "import matplotlib.pyplot as plt\n",
    "plt.rcParams[\"font.size\"]=14"
   ]
  },
  {
   "cell_type": "code",
   "execution_count": 83,
   "metadata": {},
   "outputs": [
    {
     "data": {
      "text/plain": [
       "Text(0,0.5,u'Frequency')"
      ]
     },
     "execution_count": 83,
     "metadata": {},
     "output_type": "execute_result"
    },
    {
     "data": {
      "image/png": "[encoded data removed]",
      "text/plain": [
       "<matplotlib.figure.Figure at 0x7f7f5064a250>"
      ]
     },
     "metadata": {},
     "output_type": "display_data"
    }
   ],
   "source": [
    "#histograma de probabilidades predichas\n",
    "plt.hist(y_predict_prob,bins=8)\n",
    "plt.xlim(0,1)\n",
    "plt.title(\"Histograma de predicciones Probabilisticas\")\n",
    "plt.xlabel(\"Probabilidades para predichas para diabetes\")\n",
    "plt.ylabel(\"Frequency\")"
   ]
  },
  {
   "cell_type": "code",
   "execution_count": 88,
   "metadata": {},
   "outputs": [
    {
     "ename": "ValueError",
     "evalue": "Expected 2D array, got 1D array instead:\narray=[ 0.33697164  0.76348862  0.18215725  0.43120523  0.15399598  0.84010913\n  0.69143621  0.08959222  0.30890694  0.40344864  0.10061245  0.20698054\n  0.219982    0.5228212   0.4102242   0.68328949  0.49254691  0.15279247\n  0.39375762  0.10956869  0.34998475  0.34503949  0.56324266  0.30433642\n  0.23937896  0.85822587  0.11672006  0.42870328  0.06603939  0.5065165\n  0.81604538  0.35141711  0.37755232  0.54772693  0.27881418  0.22204589\n  0.39677333  0.6791609   0.85347915  0.10594533  0.17669503  0.52478265\n  0.25796777  0.40986487  0.15389518  0.06104786  0.48157174  0.21149995\n  0.23286337  0.0834495   0.17863978  0.09533857  0.20602928  0.32299043\n  0.08051777  0.27661563  0.23412743  0.28423263  0.51097804  0.1106712\n  0.3007118   0.63418945  0.79597151  0.22344578  0.47767228  0.51961308\n  0.20110311  0.17612145  0.12688374  0.20404517  0.71159673  0.17331228\n  0.15466919  0.33892003  0.75860139  0.59973778  0.11786012  0.88008721\n  0.08941484  0.21907211  0.63943688  0.10225068  0.51438209  0.505156\n  0.79539131  0.18742648  0.32790973  0.29032563  0.72035898  0.64675668\n  0.65066822  0.371564    0.70894392  0.2142444   0.16046261  0.21928429\n  0.22443669  0.10026156  0.7271371   0.75288021  0.39199357  0.194702\n  0.2573374   0.31920956  0.15092031  0.12541172  0.26499348  0.50703956\n  0.0879378   0.1218904   0.69444651  0.19537697  0.1233582   0.14430233\n  0.70003149  0.61555799  0.25134008  0.28876504  0.25989496  0.36600382\n  0.6838651   0.31563436  0.11493247  0.52140809  0.65348644  0.29355701\n  0.10239429  0.57038817  0.37908165  0.24141872  0.14885011  0.64144984\n  0.50422206  0.74760661  0.19743135  0.28347055  0.22261647  0.28491543\n  0.1113865   0.11551585  0.0844561   0.66766367  0.5550515   0.71661316\n  0.35691396  0.35732335  0.72519978  0.07463364  0.20796904  0.65155025\n  0.30543055  0.4975825   0.14913375  0.51667146  0.20999975  0.739004\n  0.36265684  0.33306395  0.1335032   0.31819179  0.37877265  0.27912231\n  0.08373593  0.92006308  0.39690611  0.41184584  0.11988729  0.85761308\n  0.62436018  0.25404726  0.28314997  0.6384765   0.15442087  0.34658771\n  0.356512    0.2185189   0.1080836   0.45665308  0.58990212  0.11628167\n  0.60150885  0.78416183  0.43113108  0.56464245  0.07705558  0.17095344\n  0.27608282  0.13150109  0.66460006  0.42997918  0.62788284  0.39842974\n  0.11190485  0.13288132  0.12857485  0.38777735  0.0676418   0.11539238\n  0.28036522  0.25247066  0.3515686   0.39552203  0.52405167  0.13220268\n  0.43547228  0.67817977  0.55368767  0.77565882  0.52669805  0.24378436\n  0.21453527  0.32268881  0.40281298  0.23381605  0.24226039  0.42955583\n  0.00989369  0.16796608  0.19622779  0.05698784  0.3086517   0.48071016\n  0.72851327  0.19461804  0.14080953  0.81725927  0.28318133  0.76502594\n  0.57550073  0.09341684  0.36564624].\nReshape your data either using array.reshape(-1, 1) if your data has a single feature or array.reshape(1, -1) if it contains a single sample.",
     "output_type": "error",
     "traceback": [
      "\u001b[0;31m---------------------------------------------------------------------------\u001b[0m",
      "\u001b[0;31mValueError\u001b[0m                                Traceback (most recent call last)",
      "\u001b[0;32m<ipython-input-88-8f31a44b1833>\u001b[0m in \u001b[0;36m<module>\u001b[0;34m()\u001b[0m\n\u001b[1;32m      1\u001b[0m \u001b[0;31m#predecir diabetes si la probabilidad predicha es greater that 0.3\u001b[0m\u001b[0;34m\u001b[0m\u001b[0;34m\u001b[0m\u001b[0m\n\u001b[1;32m      2\u001b[0m \u001b[0;32mfrom\u001b[0m \u001b[0msklearn\u001b[0m\u001b[0;34m.\u001b[0m\u001b[0mpreprocessing\u001b[0m \u001b[0;32mimport\u001b[0m \u001b[0mbinarize\u001b[0m\u001b[0;34m\u001b[0m\u001b[0m\n\u001b[0;32m----> 3\u001b[0;31m \u001b[0my_predict_class\u001b[0m\u001b[0;34m=\u001b[0m\u001b[0mbinarize\u001b[0m\u001b[0;34m(\u001b[0m\u001b[0my_predict_prob\u001b[0m\u001b[0;34m,\u001b[0m\u001b[0mthreshold\u001b[0m\u001b[0;34m=\u001b[0m\u001b[0;36m0.3\u001b[0m\u001b[0;34m)\u001b[0m\u001b[0;34m[\u001b[0m\u001b[0;36m0\u001b[0m\u001b[0;34m]\u001b[0m\u001b[0;34m\u001b[0m\u001b[0m\n\u001b[0m",
      "\u001b[0;32m/home/hduser/anaconda2/lib/python2.7/site-packages/sklearn/preprocessing/data.pyc\u001b[0m in \u001b[0;36mbinarize\u001b[0;34m(X, threshold, copy)\u001b[0m\n\u001b[1;32m   1558\u001b[0m         \u001b[0;34m(\u001b[0m\u001b[0me\u001b[0m\u001b[0;34m.\u001b[0m\u001b[0mg\u001b[0m\u001b[0;34m.\u001b[0m \u001b[0;32mas\u001b[0m \u001b[0mpart\u001b[0m \u001b[0mof\u001b[0m \u001b[0ma\u001b[0m \u001b[0mpreprocessing\u001b[0m \u001b[0;34m:\u001b[0m\u001b[0;32mclass\u001b[0m\u001b[0;34m:\u001b[0m\u001b[0;34m`\u001b[0m\u001b[0msklearn\u001b[0m\u001b[0;34m.\u001b[0m\u001b[0mpipeline\u001b[0m\u001b[0;34m.\u001b[0m\u001b[0mPipeline\u001b[0m\u001b[0;34m`\u001b[0m\u001b[0;34m)\u001b[0m\u001b[0;34m.\u001b[0m\u001b[0;34m\u001b[0m\u001b[0m\n\u001b[1;32m   1559\u001b[0m     \"\"\"\n\u001b[0;32m-> 1560\u001b[0;31m     \u001b[0mX\u001b[0m \u001b[0;34m=\u001b[0m \u001b[0mcheck_array\u001b[0m\u001b[0;34m(\u001b[0m\u001b[0mX\u001b[0m\u001b[0;34m,\u001b[0m \u001b[0maccept_sparse\u001b[0m\u001b[0;34m=\u001b[0m\u001b[0;34m[\u001b[0m\u001b[0;34m'csr'\u001b[0m\u001b[0;34m,\u001b[0m \u001b[0;34m'csc'\u001b[0m\u001b[0;34m]\u001b[0m\u001b[0;34m,\u001b[0m \u001b[0mcopy\u001b[0m\u001b[0;34m=\u001b[0m\u001b[0mcopy\u001b[0m\u001b[0;34m)\u001b[0m\u001b[0;34m\u001b[0m\u001b[0m\n\u001b[0m\u001b[1;32m   1561\u001b[0m     \u001b[0;32mif\u001b[0m \u001b[0msparse\u001b[0m\u001b[0;34m.\u001b[0m\u001b[0missparse\u001b[0m\u001b[0;34m(\u001b[0m\u001b[0mX\u001b[0m\u001b[0;34m)\u001b[0m\u001b[0;34m:\u001b[0m\u001b[0;34m\u001b[0m\u001b[0m\n\u001b[1;32m   1562\u001b[0m         \u001b[0;32mif\u001b[0m \u001b[0mthreshold\u001b[0m \u001b[0;34m<\u001b[0m \u001b[0;36m0\u001b[0m\u001b[0;34m:\u001b[0m\u001b[0;34m\u001b[0m\u001b[0m\n",
      "\u001b[0;32m/home/hduser/anaconda2/lib/python2.7/site-packages/sklearn/utils/validation.pyc\u001b[0m in \u001b[0;36mcheck_array\u001b[0;34m(array, accept_sparse, dtype, order, copy, force_all_finite, ensure_2d, allow_nd, ensure_min_samples, ensure_min_features, warn_on_dtype, estimator)\u001b[0m\n\u001b[1;32m    439\u001b[0m                     \u001b[0;34m\"Reshape your data either using array.reshape(-1, 1) if \"\u001b[0m\u001b[0;34m\u001b[0m\u001b[0m\n\u001b[1;32m    440\u001b[0m                     \u001b[0;34m\"your data has a single feature or array.reshape(1, -1) \"\u001b[0m\u001b[0;34m\u001b[0m\u001b[0m\n\u001b[0;32m--> 441\u001b[0;31m                     \"if it contains a single sample.\".format(array))\n\u001b[0m\u001b[1;32m    442\u001b[0m             \u001b[0marray\u001b[0m \u001b[0;34m=\u001b[0m \u001b[0mnp\u001b[0m\u001b[0;34m.\u001b[0m\u001b[0matleast_2d\u001b[0m\u001b[0;34m(\u001b[0m\u001b[0marray\u001b[0m\u001b[0;34m)\u001b[0m\u001b[0;34m\u001b[0m\u001b[0m\n\u001b[1;32m    443\u001b[0m             \u001b[0;31m# To ensure that array flags are maintained\u001b[0m\u001b[0;34m\u001b[0m\u001b[0;34m\u001b[0m\u001b[0m\n",
      "\u001b[0;31mValueError\u001b[0m: Expected 2D array, got 1D array instead:\narray=[ 0.33697164  0.76348862  0.18215725  0.43120523  0.15399598  0.84010913\n  0.69143621  0.08959222  0.30890694  0.40344864  0.10061245  0.20698054\n  0.219982    0.5228212   0.4102242   0.68328949  0.49254691  0.15279247\n  0.39375762  0.10956869  0.34998475  0.34503949  0.56324266  0.30433642\n  0.23937896  0.85822587  0.11672006  0.42870328  0.06603939  0.5065165\n  0.81604538  0.35141711  0.37755232  0.54772693  0.27881418  0.22204589\n  0.39677333  0.6791609   0.85347915  0.10594533  0.17669503  0.52478265\n  0.25796777  0.40986487  0.15389518  0.06104786  0.48157174  0.21149995\n  0.23286337  0.0834495   0.17863978  0.09533857  0.20602928  0.32299043\n  0.08051777  0.27661563  0.23412743  0.28423263  0.51097804  0.1106712\n  0.3007118   0.63418945  0.79597151  0.22344578  0.47767228  0.51961308\n  0.20110311  0.17612145  0.12688374  0.20404517  0.71159673  0.17331228\n  0.15466919  0.33892003  0.75860139  0.59973778  0.11786012  0.88008721\n  0.08941484  0.21907211  0.63943688  0.10225068  0.51438209  0.505156\n  0.79539131  0.18742648  0.32790973  0.29032563  0.72035898  0.64675668\n  0.65066822  0.371564    0.70894392  0.2142444   0.16046261  0.21928429\n  0.22443669  0.10026156  0.7271371   0.75288021  0.39199357  0.194702\n  0.2573374   0.31920956  0.15092031  0.12541172  0.26499348  0.50703956\n  0.0879378   0.1218904   0.69444651  0.19537697  0.1233582   0.14430233\n  0.70003149  0.61555799  0.25134008  0.28876504  0.25989496  0.36600382\n  0.6838651   0.31563436  0.11493247  0.52140809  0.65348644  0.29355701\n  0.10239429  0.57038817  0.37908165  0.24141872  0.14885011  0.64144984\n  0.50422206  0.74760661  0.19743135  0.28347055  0.22261647  0.28491543\n  0.1113865   0.11551585  0.0844561   0.66766367  0.5550515   0.71661316\n  0.35691396  0.35732335  0.72519978  0.07463364  0.20796904  0.65155025\n  0.30543055  0.4975825   0.14913375  0.51667146  0.20999975  0.739004\n  0.36265684  0.33306395  0.1335032   0.31819179  0.37877265  0.27912231\n  0.08373593  0.92006308  0.39690611  0.41184584  0.11988729  0.85761308\n  0.62436018  0.25404726  0.28314997  0.6384765   0.15442087  0.34658771\n  0.356512    0.2185189   0.1080836   0.45665308  0.58990212  0.11628167\n  0.60150885  0.78416183  0.43113108  0.56464245  0.07705558  0.17095344\n  0.27608282  0.13150109  0.66460006  0.42997918  0.62788284  0.39842974\n  0.11190485  0.13288132  0.12857485  0.38777735  0.0676418   0.11539238\n  0.28036522  0.25247066  0.3515686   0.39552203  0.52405167  0.13220268\n  0.43547228  0.67817977  0.55368767  0.77565882  0.52669805  0.24378436\n  0.21453527  0.32268881  0.40281298  0.23381605  0.24226039  0.42955583\n  0.00989369  0.16796608  0.19622779  0.05698784  0.3086517   0.48071016\n  0.72851327  0.19461804  0.14080953  0.81725927  0.28318133  0.76502594\n  0.57550073  0.09341684  0.36564624].\nReshape your data either using array.reshape(-1, 1) if your data has a single feature or array.reshape(1, -1) if it contains a single sample."
     ]
    }
   ],
   "source": [
    "#predecir diabetes si la probabilidad predicha es greater that 0.3\n",
    "from sklearn.preprocessing import binarize\n",
    "y_predict_class=binarize(y_predict_prob,threshold=0.3)[0]"
   ]
  },
  {
   "cell_type": "code",
   "execution_count": 86,
   "metadata": {
    "scrolled": true
   },
   "outputs": [
    {
     "name": "stdout",
     "output_type": "stream",
     "text": [
      "[ 0.33697164  0.76348862  0.18215725  0.43120523  0.15399598  0.84010913\n",
      "  0.69143621  0.08959222  0.30890694  0.40344864  0.10061245  0.20698054\n",
      "  0.219982    0.5228212   0.4102242   0.68328949  0.49254691  0.15279247\n",
      "  0.39375762  0.10956869  0.34998475  0.34503949  0.56324266  0.30433642\n",
      "  0.23937896  0.85822587  0.11672006  0.42870328  0.06603939  0.5065165\n",
      "  0.81604538  0.35141711  0.37755232  0.54772693  0.27881418  0.22204589\n",
      "  0.39677333  0.6791609   0.85347915  0.10594533  0.17669503  0.52478265\n",
      "  0.25796777  0.40986487  0.15389518  0.06104786  0.48157174  0.21149995\n",
      "  0.23286337  0.0834495   0.17863978  0.09533857  0.20602928  0.32299043\n",
      "  0.08051777  0.27661563  0.23412743  0.28423263  0.51097804  0.1106712\n",
      "  0.3007118   0.63418945  0.79597151  0.22344578  0.47767228  0.51961308\n",
      "  0.20110311  0.17612145  0.12688374  0.20404517  0.71159673  0.17331228\n",
      "  0.15466919  0.33892003  0.75860139  0.59973778  0.11786012  0.88008721\n",
      "  0.08941484  0.21907211  0.63943688  0.10225068  0.51438209  0.505156\n",
      "  0.79539131  0.18742648  0.32790973  0.29032563  0.72035898  0.64675668\n",
      "  0.65066822  0.371564    0.70894392  0.2142444   0.16046261  0.21928429\n",
      "  0.22443669  0.10026156  0.7271371   0.75288021  0.39199357  0.194702\n",
      "  0.2573374   0.31920956  0.15092031  0.12541172  0.26499348  0.50703956\n",
      "  0.0879378   0.1218904   0.69444651  0.19537697  0.1233582   0.14430233\n",
      "  0.70003149  0.61555799  0.25134008  0.28876504  0.25989496  0.36600382\n",
      "  0.6838651   0.31563436  0.11493247  0.52140809  0.65348644  0.29355701\n",
      "  0.10239429  0.57038817  0.37908165  0.24141872  0.14885011  0.64144984\n",
      "  0.50422206  0.74760661  0.19743135  0.28347055  0.22261647  0.28491543\n",
      "  0.1113865   0.11551585  0.0844561   0.66766367  0.5550515   0.71661316\n",
      "  0.35691396  0.35732335  0.72519978  0.07463364  0.20796904  0.65155025\n",
      "  0.30543055  0.4975825   0.14913375  0.51667146  0.20999975  0.739004\n",
      "  0.36265684  0.33306395  0.1335032   0.31819179  0.37877265  0.27912231\n",
      "  0.08373593  0.92006308  0.39690611  0.41184584  0.11988729  0.85761308\n",
      "  0.62436018  0.25404726  0.28314997  0.6384765   0.15442087  0.34658771\n",
      "  0.356512    0.2185189   0.1080836   0.45665308  0.58990212  0.11628167\n",
      "  0.60150885  0.78416183  0.43113108  0.56464245  0.07705558  0.17095344\n",
      "  0.27608282  0.13150109  0.66460006  0.42997918  0.62788284  0.39842974\n",
      "  0.11190485  0.13288132  0.12857485  0.38777735  0.0676418   0.11539238\n",
      "  0.28036522  0.25247066  0.3515686   0.39552203  0.52405167  0.13220268\n",
      "  0.43547228  0.67817977  0.55368767  0.77565882  0.52669805  0.24378436\n",
      "  0.21453527  0.32268881  0.40281298  0.23381605  0.24226039  0.42955583\n",
      "  0.00989369  0.16796608  0.19622779  0.05698784  0.3086517   0.48071016\n",
      "  0.72851327  0.19461804  0.14080953  0.81725927  0.28318133  0.76502594\n",
      "  0.57550073  0.09341684  0.36564624]\n"
     ]
    },
    {
     "ename": "NameError",
     "evalue": "name 'y_predict_class' is not defined",
     "output_type": "error",
     "traceback": [
      "\u001b[0;31m---------------------------------------------------------------------------\u001b[0m",
      "\u001b[0;31mNameError\u001b[0m                                 Traceback (most recent call last)",
      "\u001b[0;32m<ipython-input-86-f1f8d34b589c>\u001b[0m in \u001b[0;36m<module>\u001b[0;34m()\u001b[0m\n\u001b[1;32m      1\u001b[0m \u001b[0;32mprint\u001b[0m \u001b[0my_predict_prob\u001b[0m\u001b[0;34m\u001b[0m\u001b[0m\n\u001b[0;32m----> 2\u001b[0;31m \u001b[0;32mprint\u001b[0m \u001b[0my_predict_class\u001b[0m\u001b[0;34m\u001b[0m\u001b[0m\n\u001b[0m",
      "\u001b[0;31mNameError\u001b[0m: name 'y_predict_class' is not defined"
     ]
    }
   ],
   "source": [
    "print y_predict_prob\n",
    "print y_predict_class"
   ]
  },
  {
   "cell_type": "code",
   "execution_count": 89,
   "metadata": {},
   "outputs": [
    {
     "name": "stdout",
     "output_type": "stream",
     "text": [
      "[[128  22]\n",
      " [ 35  46]]\n"
     ]
    }
   ],
   "source": [
    "# previous confusion matrix (default threshold of 0.5)\n",
    "print(confusion)"
   ]
  },
  {
   "cell_type": "code",
   "execution_count": 90,
   "metadata": {},
   "outputs": [
    {
     "ename": "NameError",
     "evalue": "name 'y_predict_class' is not defined",
     "output_type": "error",
     "traceback": [
      "\u001b[0;31m---------------------------------------------------------------------------\u001b[0m",
      "\u001b[0;31mNameError\u001b[0m                                 Traceback (most recent call last)",
      "\u001b[0;32m<ipython-input-90-88ec3e85017e>\u001b[0m in \u001b[0;36m<module>\u001b[0;34m()\u001b[0m\n\u001b[1;32m      1\u001b[0m \u001b[0;31m#threshold of 0.3\u001b[0m\u001b[0;34m\u001b[0m\u001b[0;34m\u001b[0m\u001b[0m\n\u001b[0;32m----> 2\u001b[0;31m \u001b[0;32mprint\u001b[0m\u001b[0;34m(\u001b[0m\u001b[0mmetrics\u001b[0m\u001b[0;34m.\u001b[0m\u001b[0mconfusion_matrix\u001b[0m\u001b[0;34m(\u001b[0m\u001b[0my_test\u001b[0m\u001b[0;34m,\u001b[0m \u001b[0my_predict_class\u001b[0m\u001b[0;34m)\u001b[0m\u001b[0;34m)\u001b[0m\u001b[0;34m\u001b[0m\u001b[0m\n\u001b[0m",
      "\u001b[0;31mNameError\u001b[0m: name 'y_predict_class' is not defined"
     ]
    }
   ],
   "source": [
    "#threshold of 0.3\n",
    "print(metrics.confusion_matrix(y_test, y_predict_class))\n"
   ]
  },
  {
   "cell_type": "markdown",
   "metadata": {},
   "source": [
    "##### ROC Curves and Area Under the Curve (AUC)\n"
   ]
  },
  {
   "cell_type": "code",
   "execution_count": 91,
   "metadata": {},
   "outputs": [
    {
     "data": {
      "image/png": "[encoded data removed]",
      "text/plain": [
       "<matplotlib.figure.Figure at 0x7f7f50082c50>"
      ]
     },
     "metadata": {},
     "output_type": "display_data"
    }
   ],
   "source": [
    "\n",
    "# IMPORTANT: first argument is true values, second argument is predicted probabilities\n",
    "fpr, tpr, thresholds = metrics.roc_curve(y_test, y_predict_prob)\n",
    "plt.plot(fpr, tpr)\n",
    "plt.xlim([0.0, 1.0])\n",
    "plt.ylim([0.0, 1.0])\n",
    "plt.title('ROC curve for diabetes classifier')\n",
    "plt.xlabel('False Positive Rate (1 - Specificity)')\n",
    "plt.ylabel('True Positive Rate (Sensitivity)')\n",
    "plt.grid(True)"
   ]
  },
  {
   "cell_type": "code",
   "execution_count": 92,
   "metadata": {
    "collapsed": true
   },
   "outputs": [],
   "source": [
    "\n",
    "# define a function that accepts a threshold and prints sensitivity and specificity\n",
    "def evaluate_threshold(threshold):\n",
    "    print('Sensitivity:', tpr[thresholds > threshold][-1])\n",
    "    print('Specificity:', 1 - fpr[thresholds > threshold][-1])"
   ]
  },
  {
   "cell_type": "code",
   "execution_count": 93,
   "metadata": {},
   "outputs": [
    {
     "name": "stdout",
     "output_type": "stream",
     "text": [
      "('Sensitivity:', 0.5679012345679012)\n",
      "('Specificity:', 0.85333333333333328)\n"
     ]
    }
   ],
   "source": [
    "evaluate_threshold(0.5)"
   ]
  },
  {
   "cell_type": "code",
   "execution_count": 95,
   "metadata": {},
   "outputs": [
    {
     "name": "stdout",
     "output_type": "stream",
     "text": [
      "('Sensitivity:', 0.8271604938271605)\n",
      "('Specificity:', 0.64000000000000001)\n"
     ]
    }
   ],
   "source": [
    "evaluate_threshold(0.3)"
   ]
  },
  {
   "cell_type": "markdown",
   "metadata": {},
   "source": [
    "#AUC is the percentage of the ROC plot that is underneath the curve:"
   ]
  },
  {
   "cell_type": "code",
   "execution_count": 98,
   "metadata": {},
   "outputs": [
    {
     "name": "stdout",
     "output_type": "stream",
     "text": [
      "0.832098765432\n"
     ]
    }
   ],
   "source": [
    "# IMPORTANT: first argument is true values, second argument is predicted probabilities\n",
    "print(metrics.roc_auc_score(y_test, y_predict_prob))"
   ]
  },
  {
   "cell_type": "markdown",
   "metadata": {},
   "source": [
    "- AUC is useful as a single number summary of classifier performance.\n",
    "- If you randomly chose one positive and one negative observation, AUC represents the likelihood that your classifier will assign a higher predicted probability to the positive observation.\n",
    "- AUC is useful even when there is high class imbalance (unlike classification accuracy)."
   ]
  },
  {
   "cell_type": "code",
   "execution_count": 101,
   "metadata": {},
   "outputs": [
    {
     "data": {
      "text/plain": [
       "0.81997493734335836"
      ]
     },
     "execution_count": 101,
     "metadata": {},
     "output_type": "execute_result"
    }
   ],
   "source": [
    "# calculate cross-validated AUC\n",
    "from sklearn.model_selection import cross_val_score\n",
    "cross_val_score(logit1, X_train, y_train, cv=10, scoring='roc_auc').mean()"
   ]
  },
  {
   "cell_type": "code",
   "execution_count": null,
   "metadata": {
    "collapsed": true
   },
   "outputs": [],
   "source": []
  },
  {
   "cell_type": "code",
   "execution_count": 104,
   "metadata": {
    "collapsed": true
   },
   "outputs": [],
   "source": [
    "#https://github.com/justmarkham/scikit-learn-videos/blob/master/09_classification_metrics.ipynb"
   ]
  },
  {
   "cell_type": "code",
   "execution_count": 103,
   "metadata": {},
   "outputs": [],
   "source": [
    "#from IPython.core.display import HTML\n",
    "#def css_styling():\n",
    "#    styles = open(\"styles/custom.css\", \"r\").read()\n",
    "#    return HTML(styles)\n",
    "#css_styling()"
   ]
  },
  {
   "cell_type": "markdown",
   "metadata": {},
   "source": [
    "### Univariates Statistic"
   ]
  },
  {
   "cell_type": "markdown",
   "metadata": {},
   "source": [
    "- Determina a relacion entre cada feature e Classe\n",
    "- solo las variables con alta confianza son selectas\n",
    "- SelectPercentile: A selecion es baseado en porcentajes de las variables originais"
   ]
  },
  {
   "cell_type": "code",
   "execution_count": 26,
   "metadata": {},
   "outputs": [
    {
     "name": "stdout",
     "output_type": "stream",
     "text": [
      "X_train.shape is : (537, 8)\n",
      "X_train_selected.shape is : (537, 6)\n"
     ]
    }
   ],
   "source": [
    "from sklearn.feature_selection import SelectPercentile\n",
    "select=SelectPercentile(percentile=75)\n",
    "select.fit(X_train,y_train)\n",
    "X_train_selected=select.transform(X_train)\n",
    "print (\"X_train.shape is : {}\".format(X_train.shape))\n",
    "print (\"X_train_selected.shape is : {}\".format(X_train_selected.shape))"
   ]
  },
  {
   "cell_type": "code",
   "execution_count": 27,
   "metadata": {},
   "outputs": [
    {
     "name": "stdout",
     "output_type": "stream",
     "text": [
      "[ True  True False False  True  True  True  True]\n"
     ]
    },
    {
     "data": {
      "text/plain": [
       "<matplotlib.image.AxesImage at 0x7f7f53666910>"
      ]
     },
     "execution_count": 27,
     "metadata": {},
     "output_type": "execute_result"
    },
    {
     "data": {
      "image/png": "[encoded data removed]",
      "text/plain": [
       "<matplotlib.figure.Figure at 0x7f7f5828d390>"
      ]
     },
     "metadata": {},
     "output_type": "display_data"
    }
   ],
   "source": [
    "mask =select.get_support()\n",
    "print mask\n",
    "plt.matshow(mask.reshape(1,-1),cmap=\"Blues\")"
   ]
  },
  {
   "cell_type": "code",
   "execution_count": 28,
   "metadata": {},
   "outputs": [
    {
     "name": "stdout",
     "output_type": "stream",
     "text": [
      "Score logistic regresion para todas as variaveis são:0.784\n",
      "Score logistic regresion para as variaveis seletas são:0.788\n"
     ]
    }
   ],
   "source": [
    "X_test_selected=select.transform(X_test)\n",
    "#print X_test_selected\n",
    "from sklearn.linear_model import LogisticRegression\n",
    "logit1=LogisticRegression()\n",
    "logit1.fit(X_train,y_train)\n",
    "print (\"Score logistic regresion para todas as variaveis são:{:.3f}\".format(logit1.score(X_test,y_test)))\n",
    "\n",
    "logit1.fit(X_train_selected,y_train)\n",
    "print (\"Score logistic regresion para as variaveis seletas são:{:.3f}\".format(logit1.score(X_test_selected,y_test)))"
   ]
  },
  {
   "cell_type": "markdown",
   "metadata": {},
   "source": [
    "- SelectKBest elimina todas las características, excepto las k más altas\n",
    "- SelectPercentile elimina todo menos un porcentaje de características de puntuación más alto especificado por el usuario\n",
    "- utilizando pruebas estadísticas univariadas comunes para cada función: tasa de falsos positivos SelectFpr, tasa de descubrimiento falso SelectFdr o error familiar SelectFwe.\n",
    "- GenericUnivariateSelect permite realizar una selección de funciones univariadas con una estrategia configurable. Esto permite seleccionar la mejor estrategia de selección univariada con el estimador de búsqueda de hiperparámetros.\n",
    "\n",
    "Estos objetos toman como entrada una función de puntuación que devuelve puntajes univariados y p-valores (o solo puntajes para SelectKBest y SelectPercentile):\n",
    "\n",
    "- Para la regresión: f_regression, mutual_info_regression\n",
    "- Para la clasificación: chi2, f_classif, mutual_info_classif\n",
    "\n",
    "Los métodos basados ​​en la prueba F estiman el grado de dependencia lineal entre dos variables aleatorias. Por otro lado, los métodos de información mutua pueden capturar cualquier tipo de dependencia estadística, pero al ser no paramétricos, requieren más muestras para una estimación precisa."
   ]
  },
  {
   "cell_type": "code",
   "execution_count": 29,
   "metadata": {
    "collapsed": true
   },
   "outputs": [],
   "source": [
    "from sklearn.feature_selection import SelectKBest\n",
    "from sklearn.feature_selection import chi2\n",
    "SelectKBest?"
   ]
  },
  {
   "cell_type": "code",
   "execution_count": 30,
   "metadata": {},
   "outputs": [
    {
     "data": {
      "text/plain": [
       "SelectKBest(k=6, score_func=<function chi2 at 0x7f7f58012938>)"
      ]
     },
     "execution_count": 30,
     "metadata": {},
     "output_type": "execute_result"
    }
   ],
   "source": [
    "sel = SelectKBest(chi2, k=6)\n",
    "sel.fit(X_train, y_train)"
   ]
  },
  {
   "cell_type": "code",
   "execution_count": 31,
   "metadata": {},
   "outputs": [
    {
     "name": "stdout",
     "output_type": "stream",
     "text": [
      "X_train.shape is : (537, 8)\n",
      "X_train_selected.shape is : (537, 6)\n"
     ]
    }
   ],
   "source": [
    "#sel.transform(X).shape\n",
    "X_train_sel=sel.transform(X_train)\n",
    "print (\"X_train.shape is : {}\".format(X_train.shape))\n",
    "print (\"X_train_selected.shape is : {}\".format(X_train_sel.shape))"
   ]
  },
  {
   "cell_type": "code",
   "execution_count": 32,
   "metadata": {},
   "outputs": [
    {
     "data": {
      "text/plain": [
       "array([   84.30970315,   915.94174569,    13.14963901,    32.28425871,\n",
       "        1359.65999655,    84.53920409,     3.8217348 ,   129.99323572])"
      ]
     },
     "execution_count": 32,
     "metadata": {},
     "output_type": "execute_result"
    }
   ],
   "source": [
    "sel.scores_"
   ]
  },
  {
   "cell_type": "code",
   "execution_count": 33,
   "metadata": {},
   "outputs": [
    {
     "name": "stdout",
     "output_type": "stream",
     "text": [
      "[ True  True False  True  True  True False  True]\n"
     ]
    },
    {
     "data": {
      "text/plain": [
       "<matplotlib.image.AxesImage at 0x7f7f5b3b09d0>"
      ]
     },
     "execution_count": 33,
     "metadata": {},
     "output_type": "execute_result"
    },
    {
     "data": {
      "image/png": "[encoded data removed]",
      "text/plain": [
       "<matplotlib.figure.Figure at 0x7f7f58271ed0>"
      ]
     },
     "metadata": {},
     "output_type": "display_data"
    }
   ],
   "source": [
    "mask =sel.get_support()\n",
    "print mask\n",
    "plt.matshow(mask.reshape(1,-1),cmap=\"Blues\")"
   ]
  },
  {
   "cell_type": "code",
   "execution_count": 34,
   "metadata": {},
   "outputs": [
    {
     "name": "stdout",
     "output_type": "stream",
     "text": [
      "Score logistic regresion para todas as variaveis são:0.784\n",
      "Score logistic regresion para as variaveis seletas são:0.740\n"
     ]
    }
   ],
   "source": [
    "X_test_sel=sel.transform(X_test)\n",
    "#print X_test_selected\n",
    "from sklearn.linear_model import LogisticRegression\n",
    "logit1=LogisticRegression()\n",
    "logit1.fit(X_train,y_train)\n",
    "print (\"Score logistic regresion para todas as variaveis são:{:.3f}\".format(logit1.score(X_test,y_test)))\n",
    "\n",
    "logit1.fit(X_train_sel,y_train)\n",
    "print (\"Score logistic regresion para as variaveis seletas são:{:.3f}\".format(logit1.score(X_test_sel,y_test)))"
   ]
  },
  {
   "cell_type": "markdown",
   "metadata": {},
   "source": [
    "### Eliminacion Recursiva de variables"
   ]
  },
  {
   "cell_type": "markdown",
   "metadata": {},
   "source": [
    "Dado un estimador externo que asigna ponderaciones a las características (p. Ej., Los coeficientes de un modelo lineal), la eliminación recursiva de características (RFE) consiste en seleccionar características considerando recursivamente conjuntos de características cada vez más pequeños. Primero, el estimador se entrena en el conjunto inicial de características y se asignan pesos a cada una de ellas. Luego, las funciones cuyos pesos absolutos son los más pequeños se eliminan de las características del conjunto actual. Ese procedimiento se repite recursivamente en el conjunto podado hasta que finalmente se alcanza el número deseado de características para seleccionar.\n",
    "\n",
    "¡Entonces es muy importante normalizar estas características en modelos lineales!"
   ]
  },
  {
   "cell_type": "code",
   "execution_count": 35,
   "metadata": {
    "collapsed": true
   },
   "outputs": [],
   "source": [
    "from sklearn.ensemble import RandomForestClassifier\n",
    "from sklearn.feature_selection import RFECV\n",
    "\n",
    "RFECV?"
   ]
  },
  {
   "cell_type": "code",
   "execution_count": 36,
   "metadata": {},
   "outputs": [
    {
     "data": {
      "text/plain": [
       "RFECV(cv=None,\n",
       "   estimator=RandomForestClassifier(bootstrap=True, class_weight=None, criterion='gini',\n",
       "            max_depth=None, max_features='auto', max_leaf_nodes=None,\n",
       "            min_impurity_decrease=0.0, min_impurity_split=None,\n",
       "            min_samples_leaf=1, min_samples_split=2,\n",
       "            min_weight_fraction_leaf=0.0, n_estimators=10, n_jobs=1,\n",
       "            oob_score=False, random_state=None, verbose=0,\n",
       "            warm_start=False),\n",
       "   n_jobs=1, scoring='accuracy', step=1, verbose=0)"
      ]
     },
     "execution_count": 36,
     "metadata": {},
     "output_type": "execute_result"
    }
   ],
   "source": [
    "m = RFECV(RandomForestClassifier(), scoring='accuracy')\n",
    "m.fit(X_train, y_train)"
   ]
  },
  {
   "cell_type": "code",
   "execution_count": 37,
   "metadata": {},
   "outputs": [
    {
     "data": {
      "text/plain": [
       "0.98696461824953441"
      ]
     },
     "execution_count": 37,
     "metadata": {},
     "output_type": "execute_result"
    }
   ],
   "source": [
    "m.score(X_train, y_train)"
   ]
  },
  {
   "cell_type": "code",
   "execution_count": 38,
   "metadata": {},
   "outputs": [
    {
     "name": "stdout",
     "output_type": "stream",
     "text": [
      "X_train.shape is : (537, 8)\n",
      "X_train_selected.shape is : (537, 6)\n"
     ]
    }
   ],
   "source": [
    "X_train_s=m.transform(X_train)\n",
    "print (\"X_train.shape is : {}\".format(X_train.shape))\n",
    "print (\"X_train_selected.shape is : {}\".format(X_train_s.shape))"
   ]
  },
  {
   "cell_type": "code",
   "execution_count": 39,
   "metadata": {},
   "outputs": [
    {
     "name": "stdout",
     "output_type": "stream",
     "text": [
      "[False  True  True False  True  True  True  True]\n"
     ]
    },
    {
     "data": {
      "text/plain": [
       "<matplotlib.image.AxesImage at 0x7f7f5b142690>"
      ]
     },
     "execution_count": 39,
     "metadata": {},
     "output_type": "execute_result"
    },
    {
     "data": {
      "image/png": "[encoded data removed]",
      "text/plain": [
       "<matplotlib.figure.Figure at 0x7f7f5b234190>"
      ]
     },
     "metadata": {},
     "output_type": "display_data"
    }
   ],
   "source": [
    "mask =m.get_support()\n",
    "print mask\n",
    "plt.matshow(mask.reshape(1,-1),cmap=\"Blues\")"
   ]
  },
  {
   "cell_type": "code",
   "execution_count": 40,
   "metadata": {},
   "outputs": [
    {
     "name": "stdout",
     "output_type": "stream",
     "text": [
      "Score logistic regresion para todas as variaveis são:0.784\n",
      "Score logistic regresion para as variaveis seletas são:0.775\n"
     ]
    }
   ],
   "source": [
    "X_test_s=m.transform(X_test)\n",
    "#print X_test_selected\n",
    "from sklearn.linear_model import LogisticRegression\n",
    "logit1=LogisticRegression()\n",
    "logit1.fit(X_train,y_train)\n",
    "print (\"Score logistic regresion para todas as variaveis são:{:.3f}\".format(logit1.score(X_test,y_test)))\n",
    "\n",
    "logit1.fit(X_train_s,y_train)\n",
    "print (\"Score logistic regresion para as variaveis seletas são:{:.3f}\".format(logit1.score(X_test_s,y_test)))"
   ]
  },
  {
   "cell_type": "markdown",
   "metadata": {},
   "source": [
    "### Model Based Feature  Selection"
   ]
  },
  {
   "cell_type": "markdown",
   "metadata": {},
   "source": [
    "SelectFromModel es un meta-transformador que se puede usar junto con cualquier estimador que tenga un atributo coef_ o featureimportances después de la adaptación. Las características se consideran sin importancia y se eliminan, si los valores correspondientes coef_ o featureimportances están por debajo del parámetro de umbral proporcionado. Además de especificar el umbral numéricamente, hay heurísticas incorporadas para encontrar un umbral usando un argumento de cadena. Las heurísticas disponibles son \"medias\", \"medianas\" y múltiplos flotantes como \"0.1 * mean\".\n",
    "\n",
    "- Modelo supervisado que determina la importancia de cada variable\n",
    "- Guarda las mejores variables importantes\n",
    "- Necesita la medida para la importancia de variables (DT y RF tienen el atributos de \"Feature_Importans\") "
   ]
  },
  {
   "cell_type": "code",
   "execution_count": 41,
   "metadata": {},
   "outputs": [],
   "source": [
    "from sklearn.feature_selection import SelectFromModel\n",
    "from sklearn.ensemble import RandomForestClassifier\n",
    "\n",
    "select=SelectFromModel(RandomForestClassifier(n_estimators=100, random_state=42), threshold=\"median\")"
   ]
  },
  {
   "cell_type": "code",
   "execution_count": 42,
   "metadata": {},
   "outputs": [
    {
     "name": "stdout",
     "output_type": "stream",
     "text": [
      "('the shape of x_train is: ', (537, 8))\n",
      "('the shape of x_train_s is: ', (537, 4))\n"
     ]
    }
   ],
   "source": [
    "select.fit(X_train,y_train)\n",
    "X_train_Sele=select.transform(X_train)\n",
    "print (\"the shape of x_train is: \",X_train.shape)\n",
    "print (\"the shape of x_train_s is: \",X_train_Sele.shape)"
   ]
  },
  {
   "cell_type": "code",
   "execution_count": 43,
   "metadata": {},
   "outputs": [
    {
     "data": {
      "text/plain": [
       "Text(0.5,0,u'Index of features')"
      ]
     },
     "execution_count": 43,
     "metadata": {},
     "output_type": "execute_result"
    },
    {
     "data": {
      "image/png": "[encoded data removed]",
      "text/plain": [
       "<matplotlib.figure.Figure at 0x7f7f5b145250>"
      ]
     },
     "metadata": {},
     "output_type": "display_data"
    }
   ],
   "source": [
    "mask=select.get_support()\n",
    "plt.matshow(mask.reshape(1,-1),cmap=\"Blues\")\n",
    "plt.xlabel(\"Index of features\")"
   ]
  },
  {
   "cell_type": "code",
   "execution_count": 44,
   "metadata": {},
   "outputs": [
    {
     "name": "stdout",
     "output_type": "stream",
     "text": [
      "Score logistic regresion para todas as variaveis são:0.784\n",
      "Score logistic regresion para as variaveis seletas são:0.788\n"
     ]
    }
   ],
   "source": [
    "X_test_Sele=select.transform(X_test)\n",
    "#print X_test_selected\n",
    "from sklearn.linear_model import LogisticRegression\n",
    "logit1=LogisticRegression()\n",
    "logit1.fit(X_train,y_train)\n",
    "print (\"Score logistic regresion para todas as variaveis são:{:.3f}\".format(logit1.score(X_test,y_test)))\n",
    "\n",
    "logit1.fit(X_train_Sele,y_train)\n",
    "print (\"Score logistic regresion para as variaveis seletas são:{:.3f}\".format(logit1.score(X_test_Sele,y_test)))"
   ]
  },
  {
   "cell_type": "markdown",
   "metadata": {},
   "source": [
    "--------------------------------------------------"
   ]
  },
  {
   "cell_type": "code",
   "execution_count": 45,
   "metadata": {
    "collapsed": true
   },
   "outputs": [],
   "source": [
    "from sklearn.svm import LinearSVC\n",
    "from sklearn.feature_selection import SelectFromModel\n",
    "\n",
    "SelectFromModel?"
   ]
  },
  {
   "cell_type": "code",
   "execution_count": 46,
   "metadata": {},
   "outputs": [
    {
     "data": {
      "text/plain": [
       "SelectFromModel(estimator=LinearSVC(C=0.01, class_weight=None, dual=False, fit_intercept=True,\n",
       "     intercept_scaling=1, loss='squared_hinge', max_iter=1000,\n",
       "     multi_class='ovr', penalty='l1', random_state=None, tol=0.0001,\n",
       "     verbose=0),\n",
       "        norm_order=1, prefit=False, threshold=None)"
      ]
     },
     "execution_count": 46,
     "metadata": {},
     "output_type": "execute_result"
    }
   ],
   "source": [
    "mo= SelectFromModel(LinearSVC(C=0.01, penalty='l1', dual=False))\n",
    "mo.fit(X_train, y_train)"
   ]
  },
  {
   "cell_type": "code",
   "execution_count": 47,
   "metadata": {},
   "outputs": [
    {
     "name": "stdout",
     "output_type": "stream",
     "text": [
      "('the shape of x_train is: ', (537, 8))\n",
      "('the shape of x_train_s is: ', (537, 6))\n"
     ]
    }
   ],
   "source": [
    "X_train_Sele=mo.transform(X_train)\n",
    "print (\"the shape of x_train is: \",X_train.shape)\n",
    "print (\"the shape of x_train_s is: \",X_train_Sele.shape)"
   ]
  },
  {
   "cell_type": "code",
   "execution_count": 48,
   "metadata": {},
   "outputs": [
    {
     "data": {
      "text/plain": [
       "Text(0.5,0,u'Index of features')"
      ]
     },
     "execution_count": 48,
     "metadata": {},
     "output_type": "execute_result"
    },
    {
     "data": {
      "image/png": "[encoded data removed]",
      "text/plain": [
       "<matplotlib.figure.Figure at 0x7f7f5b0f8150>"
      ]
     },
     "metadata": {},
     "output_type": "display_data"
    }
   ],
   "source": [
    "mask=mo.get_support()\n",
    "plt.matshow(mask.reshape(1,-1),cmap=\"Blues\")\n",
    "plt.xlabel(\"Index of features\")"
   ]
  },
  {
   "cell_type": "code",
   "execution_count": 49,
   "metadata": {},
   "outputs": [
    {
     "name": "stdout",
     "output_type": "stream",
     "text": [
      "Score logistic regresion para todas as variaveis são:0.784\n",
      "Score logistic regresion para as variaveis seletas são:0.753\n"
     ]
    }
   ],
   "source": [
    "X_test_Sele=mo.transform(X_test)\n",
    "#print X_test_selected\n",
    "from sklearn.linear_model import LogisticRegression\n",
    "logit1=LogisticRegression()\n",
    "logit1.fit(X_train,y_train)\n",
    "print (\"Score logistic regresion para todas as variaveis são:{:.3f}\".format(logit1.score(X_test,y_test)))\n",
    "\n",
    "logit1.fit(X_train_Sele,y_train)\n",
    "print (\"Score logistic regresion para as variaveis seletas são:{:.3f}\".format(logit1.score(X_test_Sele,y_test)))"
   ]
  },
  {
   "cell_type": "markdown",
   "metadata": {},
   "source": [
    "--------------------------------------------------"
   ]
  },
  {
   "cell_type": "code",
   "execution_count": 50,
   "metadata": {
    "collapsed": true
   },
   "outputs": [],
   "source": [
    "from sklearn.linear_model import LassoCV"
   ]
  },
  {
   "cell_type": "code",
   "execution_count": 51,
   "metadata": {},
   "outputs": [
    {
     "data": {
      "text/plain": [
       "SelectFromModel(estimator=LassoCV(alphas=None, copy_X=True, cv=None, eps=0.001, fit_intercept=True,\n",
       "    max_iter=1000, n_alphas=100, n_jobs=1, normalize=False, positive=False,\n",
       "    precompute='auto', random_state=None, selection='cyclic', tol=0.0001,\n",
       "    verbose=False),\n",
       "        norm_order=1, prefit=False, threshold=None)"
      ]
     },
     "execution_count": 51,
     "metadata": {},
     "output_type": "execute_result"
    }
   ],
   "source": [
    "mod = SelectFromModel(LassoCV())\n",
    "mod.fit(X_train, y_train)"
   ]
  },
  {
   "cell_type": "code",
   "execution_count": 52,
   "metadata": {},
   "outputs": [
    {
     "name": "stdout",
     "output_type": "stream",
     "text": [
      "('the shape of x_train is: ', (537, 8))\n",
      "('the shape of x_train_s is: ', (537, 7))\n"
     ]
    }
   ],
   "source": [
    "X_train_Selec=mod.transform(X_train)\n",
    "print (\"the shape of x_train is: \",X_train.shape)\n",
    "print (\"the shape of x_train_s is: \",X_train_Selec.shape)"
   ]
  },
  {
   "cell_type": "code",
   "execution_count": 53,
   "metadata": {},
   "outputs": [
    {
     "data": {
      "text/plain": [
       "Text(0.5,0,u'Index of features')"
      ]
     },
     "execution_count": 53,
     "metadata": {},
     "output_type": "execute_result"
    },
    {
     "data": {
      "image/png": "[encoded data removed]",
      "text/plain": [
       "<matplotlib.figure.Figure at 0x7f7f5b0c9fd0>"
      ]
     },
     "metadata": {},
     "output_type": "display_data"
    }
   ],
   "source": [
    "mask=mod.get_support()\n",
    "plt.matshow(mask.reshape(1,-1),cmap=\"Blues\")\n",
    "plt.xlabel(\"Index of features\")"
   ]
  },
  {
   "cell_type": "code",
   "execution_count": 54,
   "metadata": {},
   "outputs": [
    {
     "name": "stdout",
     "output_type": "stream",
     "text": [
      "Score logistic regresion para todas as variaveis são:0.78355\n",
      "Score logistic regresion para as variaveis seletas são:0.78355\n"
     ]
    }
   ],
   "source": [
    "X_test_Selec=mod.transform(X_test)\n",
    "#print X_test_selected\n",
    "from sklearn.linear_model import LogisticRegression\n",
    "logit1=LogisticRegression()\n",
    "logit1.fit(X_train,y_train)\n",
    "print (\"Score logistic regresion para todas as variaveis são:{:.5f}\".format(logit1.score(X_test,y_test)))\n",
    "\n",
    "logit1.fit(X_train_Selec,y_train)\n",
    "print (\"Score logistic regresion para as variaveis seletas são:{:.5f}\".format(logit1.score(X_test_Selec,y_test)))"
   ]
  },
  {
   "cell_type": "code",
   "execution_count": null,
   "metadata": {
    "collapsed": true
   },
   "outputs": [],
   "source": []
  },
  {
   "cell_type": "code",
   "execution_count": 55,
   "metadata": {},
   "outputs": [
    {
     "ename": "NameError",
     "evalue": "name 'X_dados' is not defined",
     "output_type": "error",
     "traceback": [
      "\u001b[0;31m---------------------------------------------------------------------------\u001b[0m",
      "\u001b[0;31mNameError\u001b[0m                                 Traceback (most recent call last)",
      "\u001b[0;32m<ipython-input-55-5ddd53c99de3>\u001b[0m in \u001b[0;36m<module>\u001b[0;34m()\u001b[0m\n\u001b[0;32m----> 1\u001b[0;31m \u001b[0mlogit1\u001b[0m\u001b[0;34m.\u001b[0m\u001b[0mscore\u001b[0m\u001b[0;34m(\u001b[0m\u001b[0mX_dados\u001b[0m\u001b[0;34m,\u001b[0m\u001b[0mY_dados\u001b[0m\u001b[0;34m)\u001b[0m\u001b[0;34m\u001b[0m\u001b[0m\n\u001b[0m",
      "\u001b[0;31mNameError\u001b[0m: name 'X_dados' is not defined"
     ]
    }
   ],
   "source": [
    "logit1.score(X_dados,Y_dados)"
   ]
  },
  {
   "cell_type": "code",
   "execution_count": null,
   "metadata": {},
   "outputs": [],
   "source": [
    "##True positive\n",
    "df_X_Train_Classe_1_Real=df_Diabetes.ix[df_Diabetes['Outcome']==1].iloc[:,:8]\n",
    "#print df_X_Train_Classe_1.head()\n",
    "df_Y_Train_Classe_1_Real=df_Diabetes.ix[df_Diabetes['Outcome']==1].iloc[:,8]\n",
    "#print df_Y_Train_Classe_1.head()\n",
    "#Classificado com meu dados de entrada\n",
    "df_Y_Train_Classe_1_Predecido=logit1.predict(df_X_Train_Classe_1_Real)\n",
    "##True positive rate\n",
    "np.mean(df_Y_Train_Classe_1_Predecido==df_Y_Train_Classe_1_Real)"
   ]
  },
  {
   "cell_type": "code",
   "execution_count": null,
   "metadata": {},
   "outputs": [],
   "source": [
    "##True negative\n",
    "df_X_Train_Classe_0_Real=df_Diabetes.ix[df_Diabetes['Outcome']==0].iloc[:,:8]\n",
    "df_Y_Train_Classe_0_Real=df_Diabetes.ix[df_Diabetes['Outcome']==0].iloc[:,8]\n",
    "#Classificado com meu dados de entrada\n",
    "df_Y_Train_Classe_0_Predecido=logit1.predict(df_X_Train_Classe_0_Real)\n",
    "##True negative rate\n",
    "np.mean(df_Y_Train_Classe_0_Predecido==df_Y_Train_Classe_0_Real)"
   ]
  },
  {
   "cell_type": "code",
   "execution_count": null,
   "metadata": {},
   "outputs": [],
   "source": [
    "len(df_Y_Train_Classe_1_Predecido==0)"
   ]
  },
  {
   "cell_type": "code",
   "execution_count": null,
   "metadata": {},
   "outputs": [],
   "source": [
    "#inputData=df_Diabetes.iloc[:,:8]\n",
    "#outputData=df_Diabetes.iloc[:,8]\n",
    "X_dados=df_Diabetes.iloc[:,:8]\n",
    "print X_dados.shape\n",
    "Y_dados=df_Diabetes.iloc[:,8]\n",
    "print Y_dados.shape"
   ]
  },
  {
   "cell_type": "code",
   "execution_count": null,
   "metadata": {},
   "outputs": [],
   "source": [
    "###Confusion matrix with sklearn\n",
    "from sklearn.metrics import confusion_matrix, roc_curve, roc_auc_score\n",
    "confusion_matrix(logit1.predict(X_dados),Y_dados)"
   ]
  },
  {
   "cell_type": "code",
   "execution_count": null,
   "metadata": {},
   "outputs": [],
   "source": [
    "##Computing false and true positive rates\n",
    "fpr, tpr,_=roc_curve(logit1.predict(X_train),y_train,drop_intermediate=False)\n",
    "\n",
    "import matplotlib.pyplot as plt\n",
    "plt.figure()\n",
    "##Adding the ROC\n",
    "plt.plot(fpr, tpr, color='red',\n",
    " lw=2, label='ROC curve')\n",
    "##Random FPR and TPR\n",
    "plt.plot([0, 1], [0, 1], color='blue', lw=2, linestyle='--')\n",
    "##Title and label\n",
    "plt.xlabel('FPR')\n",
    "plt.ylabel('TPR')\n",
    "plt.title('ROC curve')\n",
    "plt.show()"
   ]
  },
  {
   "cell_type": "code",
   "execution_count": null,
   "metadata": {},
   "outputs": [],
   "source": [
    "roc_auc_score(logit1.predict(X_dados),Y_dados)"
   ]
  },
  {
   "cell_type": "code",
   "execution_count": null,
   "metadata": {},
   "outputs": [],
   "source": [
    "###Coefficient value\n",
    "coef_DF=pd.DataFrame(data={'Variable':list(X_dados),\n",
    "'value':(logit1.coef_[0])})\n",
    "coef_DF"
   ]
  },
  {
   "cell_type": "code",
   "execution_count": null,
   "metadata": {},
   "outputs": [],
   "source": [
    "coef_DF_standardised=pd.DataFrame(data={'Variable':list(X_dados),\n",
    "'value':(logit1.coef_[0])*np.std(X_dados,axis=0)/np.std(Y_dados)})\n",
    "coef_DF_standardised"
   ]
  },
  {
   "cell_type": "code",
   "execution_count": null,
   "metadata": {},
   "outputs": [],
   "source": [
    "plt.figure()\n",
    "plt.scatter(X_dados.iloc[:,1],X_dados.iloc[:,5],c=logit1.predict_proba(X_dados)[:,1],alpha=0.4)\n",
    "plt.xlabel('Glucose level ')\n",
    "plt.ylabel('BMI ')\n",
    "plt.show()\n",
    "\n",
    "plt.figure()\n",
    "plt.scatter(X_dados.iloc[:,1],X_dados.iloc[:,5],c=Y_dados,alpha=0.4)\n",
    "plt.xlabel('Glucose level ')\n",
    "plt.ylabel('BMI ')\n",
    "plt.show()"
   ]
  },
  {
   "cell_type": "code",
   "execution_count": null,
   "metadata": {},
   "outputs": [],
   "source": [
    "logit1.coef_"
   ]
  },
  {
   "cell_type": "code",
   "execution_count": null,
   "metadata": {},
   "outputs": [],
   "source": [
    "logit1.predict"
   ]
  },
  {
   "cell_type": "markdown",
   "metadata": {},
   "source": [
    "### Training and Predicting"
   ]
  },
  {
   "cell_type": "code",
   "execution_count": null,
   "metadata": {},
   "outputs": [],
   "source": [
    "from sklearn.tree import DecisionTreeClassifier\n",
    "#from sklearn.metrics import roc_curve, roc_auc_score\n",
    "from matplotlib import pyplot as plt\n",
    "model = DecisionTreeClassifier()\n",
    "model.fit(X_train, y_train)\n",
    "probas = model.predict_proba(X_test)\n",
    "print probas\n",
    "print y_test"
   ]
  },
  {
   "cell_type": "code",
   "execution_count": null,
   "metadata": {},
   "outputs": [],
   "source": [
    "import numpy as np\n",
    "import matplotlib.pyplot as plt\n",
    "def pdf(x, std, mean):\n",
    "    const = 1.0 / np.sqrt(2*np.pi*(std**2))\n",
    "    print const\n",
    "    pdf_normal_dist = const*np.exp(-((x-mean)**2)/(2.0*(std**2)))\n",
    "    return pdf_normal_dist\n",
    "x = np.linspace(0, 1, num=100)\n",
    "#print x\n",
    "good_pdf = pdf(x,0.1,0.4)\n",
    "print good_pdf\n",
    "bad_pdf = pdf(x,0.1,0.6)\n",
    "print bad_pdf"
   ]
  },
  {
   "cell_type": "code",
   "execution_count": null,
   "metadata": {
    "collapsed": true
   },
   "outputs": [],
   "source": [
    "def plot_pdf(good_pdf, bad_pdf, ax):\n",
    "    ax.fill(x, good_pdf, \"g\", alpha=0.5)\n",
    "    ax.fill(x, bad_pdf,\"r\", alpha=0.5)\n",
    "    ax.set_xlim([0,1])\n",
    "    ax.set_ylim([0,5])\n",
    "    ax.set_title(\"Probability Distribution\", fontsize=14)\n",
    "    ax.set_ylabel('Counts', fontsize=12)\n",
    "    ax.set_xlabel('P(X=\"bad\")', fontsize=12)\n",
    "    ax.legend([\"good\",\"bad\"])"
   ]
  },
  {
   "cell_type": "code",
   "execution_count": null,
   "metadata": {},
   "outputs": [],
   "source": [
    "fig, ax = plt.subplots(1,1, figsize=(10,5))\n",
    "plot_pdf(good_pdf, bad_pdf, ax)"
   ]
  },
  {
   "cell_type": "code",
   "execution_count": null,
   "metadata": {
    "collapsed": true
   },
   "outputs": [],
   "source": []
  },
  {
   "cell_type": "code",
   "execution_count": null,
   "metadata": {
    "collapsed": true
   },
   "outputs": [],
   "source": []
  },
  {
   "cell_type": "code",
   "execution_count": null,
   "metadata": {
    "collapsed": true
   },
   "outputs": [],
   "source": []
  },
  {
   "cell_type": "code",
   "execution_count": null,
   "metadata": {
    "collapsed": true
   },
   "outputs": [],
   "source": []
  },
  {
   "cell_type": "code",
   "execution_count": null,
   "metadata": {
    "collapsed": true
   },
   "outputs": [],
   "source": []
  },
  {
   "cell_type": "code",
   "execution_count": null,
   "metadata": {
    "collapsed": true
   },
   "outputs": [],
   "source": []
  },
  {
   "cell_type": "code",
   "execution_count": null,
   "metadata": {},
   "outputs": [],
   "source": [
    "# Import what's needed for the Functions API\n",
    "import matplotlib.pyplot as plt\n",
    "#import scikitplot as skplt\n",
    "\n",
    "# This is a Keras classifier. We'll generate probabilities on the test set.\n",
    "model.fit(X_train, y_train)\n",
    "probas = model.predict_proba(X_test)\n",
    "\n",
    "# Now plot.\n",
    "skplt.metrics.plot_precision_recall_curve(y_test, probas)\n",
    "plt.show()"
   ]
  },
  {
   "cell_type": "code",
   "execution_count": null,
   "metadata": {
    "collapsed": true
   },
   "outputs": [],
   "source": []
  },
  {
   "cell_type": "code",
   "execution_count": null,
   "metadata": {
    "collapsed": true
   },
   "outputs": [],
   "source": []
  },
  {
   "cell_type": "code",
   "execution_count": null,
   "metadata": {
    "collapsed": true
   },
   "outputs": [],
   "source": []
  },
  {
   "cell_type": "code",
   "execution_count": null,
   "metadata": {
    "scrolled": true
   },
   "outputs": [],
   "source": [
    "# calculate the fpr and tpr for all thresholds of the classification\n",
    "probs = model.predict_proba(X_test)\n",
    "preds = probs[:,1]\n",
    "fpr, tpr, threshold = metrics.roc_curve(y_test, preds)\n",
    "#roc_auc = metrics.auc(fpr, tpr)\n",
    "\n",
    "# method I: plt\n",
    "importlogmodel.fit(X_train,y_train) matplotlib.pyplot as plt\n",
    "plt.title('Receiver Operating Characteristic')\n",
    "#plt.plot(fpr, tpr, 'b', label = 'AUC = %0.2f' % roc_auc)\n",
    "plt.legend(loc = 'lower right')\n",
    "plt.plot([0, 1], [0, 1],'r--')\n",
    "plt.xlim([0, 1])\n",
    "plt.ylim([0, 1])\n",
    "plt.ylabel('True Positive Rate')\n",
    "plt.xlabel('False Positive Rate')\n",
    "plt.show()\n",
    "\n",
    "# method II: ggplot\n",
    "from ggplot import *\n",
    "df = pd.DataFrame(dict(fpr = fpr, tpr = tpr))\n",
    "ggplot(df, aes(x = 'fpr', y = 'tpr')) + geom_line() + geom_abline(linetype = 'dashed')"
   ]
  },
  {
   "cell_type": "code",
   "execution_count": null,
   "metadata": {
    "collapsed": true
   },
   "outputs": [],
   "source": [
    "from sklearn.linear_model import LogisticRegression\n",
    "logmodel = LogisticRegression()\n",
    "logmodel.fit(X_train,y_train)\n",
    "predictions = logmodel.predict(X_test)\n"
   ]
  },
  {
   "cell_type": "code",
   "execution_count": null,
   "metadata": {},
   "outputs": [],
   "source": [
    "from sklearn.metrics import classification_report, confusion_matrix\n",
    "print(classification_report(y_test,predictions))"
   ]
  },
  {
   "cell_type": "code",
   "execution_count": null,
   "metadata": {},
   "outputs": [],
   "source": [
    "print predictions\n",
    "print y_test"
   ]
  },
  {
   "cell_type": "code",
   "execution_count": null,
   "metadata": {
    "collapsed": true
   },
   "outputs": [],
   "source": []
  },
  {
   "cell_type": "code",
   "execution_count": null,
   "metadata": {
    "collapsed": true
   },
   "outputs": [],
   "source": []
  }
 ],
 "metadata": {
  "kernelspec": {
   "display_name": "Python 2",
   "language": "python",
   "name": "python2"
  },
  "language_info": {
   "codemirror_mode": {
    "name": "ipython",
    "version": 2
   },
   "file_extension": ".py",
   "mimetype": "text/x-python",
   "name": "python",
   "nbconvert_exporter": "python",
   "pygments_lexer": "ipython2",
   "version": "2.7.14"
  }
 },
 "nbformat": 4,
 "nbformat_minor": 2
}
