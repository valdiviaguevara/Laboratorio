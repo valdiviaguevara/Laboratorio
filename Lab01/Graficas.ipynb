{
 "cells": [
  {
   "cell_type": "code",
   "execution_count": 160,
   "metadata": {},
   "outputs": [],
   "source": [
    "import pandas as pd\n",
    "import numpy as np\n",
    "import seaborn as sns\n",
    "from scipy import stats \n",
    "import matplotlib.pyplot as plt"
   ]
  },
  {
   "cell_type": "code",
   "execution_count": 161,
   "metadata": {},
   "outputs": [
    {
     "data": {
      "text/html": [
       "<div>\n",
       "<style scoped>\n",
       "    .dataframe tbody tr th:only-of-type {\n",
       "        vertical-align: middle;\n",
       "    }\n",
       "\n",
       "    .dataframe tbody tr th {\n",
       "        vertical-align: top;\n",
       "    }\n",
       "\n",
       "    .dataframe thead th {\n",
       "        text-align: right;\n",
       "    }\n",
       "</style>\n",
       "<table border=\"1\" class=\"dataframe\">\n",
       "  <thead>\n",
       "    <tr style=\"text-align: right;\">\n",
       "      <th></th>\n",
       "      <th>Productos</th>\n",
       "      <th>Quantidade</th>\n",
       "    </tr>\n",
       "  </thead>\n",
       "  <tbody>\n",
       "    <tr>\n",
       "      <th>0</th>\n",
       "      <td>Produto_1</td>\n",
       "      <td>600</td>\n",
       "    </tr>\n",
       "    <tr>\n",
       "      <th>1</th>\n",
       "      <td>Produto_2</td>\n",
       "      <td>320</td>\n",
       "    </tr>\n",
       "    <tr>\n",
       "      <th>2</th>\n",
       "      <td>Produto_3</td>\n",
       "      <td>220</td>\n",
       "    </tr>\n",
       "    <tr>\n",
       "      <th>3</th>\n",
       "      <td>Produto_4</td>\n",
       "      <td>110</td>\n",
       "    </tr>\n",
       "    <tr>\n",
       "      <th>4</th>\n",
       "      <td>Produto_5</td>\n",
       "      <td>90</td>\n",
       "    </tr>\n",
       "  </tbody>\n",
       "</table>\n",
       "</div>"
      ],
      "text/plain": [
       "   Productos  Quantidade\n",
       "0  Produto_1         600\n",
       "1  Produto_2         320\n",
       "2  Produto_3         220\n",
       "3  Produto_4         110\n",
       "4  Produto_5          90"
      ]
     },
     "execution_count": 161,
     "metadata": {},
     "output_type": "execute_result"
    }
   ],
   "source": [
    "df_Prod_Freq=pd.read_csv(\"Produtos_Frequencia.csv\")\n",
    "df_Prod_Freq.head()"
   ]
  },
  {
   "cell_type": "code",
   "execution_count": 162,
   "metadata": {},
   "outputs": [
    {
     "name": "stdout",
     "output_type": "stream",
     "text": [
      "<class 'pandas.core.frame.DataFrame'>\n",
      "RangeIndex: 20 entries, 0 to 19\n",
      "Data columns (total 2 columns):\n",
      "Productos     20 non-null object\n",
      "Quantidade    20 non-null int64\n",
      "dtypes: int64(1), object(1)\n",
      "memory usage: 400.0+ bytes\n"
     ]
    }
   ],
   "source": [
    "df_Prod_Freq.info()"
   ]
  },
  {
   "cell_type": "code",
   "execution_count": 163,
   "metadata": {},
   "outputs": [
    {
     "name": "stdout",
     "output_type": "stream",
     "text": [
      "     Productos  Quantidade  Porcentagem_Prod  Porcentagem_Prod_Acumulada\n",
      "0    Produto_1         600             25.81                       25.81\n",
      "1    Produto_2         320             13.76                       39.57\n",
      "2    Produto_3         220              9.46                       49.03\n",
      "3    Produto_4         110              4.73                       53.76\n",
      "4    Produto_5          90              3.87                       57.63\n",
      "5    Produto_6          85              3.66                       61.29\n",
      "6    Produto_7          80              3.44                       64.73\n",
      "7    Produto_8          78              3.35                       68.08\n",
      "8    Produto_9          75              3.23                       71.31\n",
      "9   Produto_10          72              3.10                       74.41\n",
      "10  Produto_11          70              3.01                       77.42\n",
      "11  Produto_12          65              2.80                       80.22\n",
      "12  Produto_13          60              2.58                       82.80\n",
      "13  Produto_14          58              2.49                       85.29\n",
      "14  Produto_15          52              2.24                       87.53\n",
      "15  Produto_16          30              1.29                       88.82\n",
      "16  Produto_17          25              1.08                       89.90\n",
      "17  Produto_18          20              0.86                       90.76\n",
      "18  Produto_19          15              0.65                       91.41\n",
      "19      Outros         200              8.60                      100.01\n"
     ]
    },
    {
     "name": "stderr",
     "output_type": "stream",
     "text": [
      "C:\\Users\\emily\\Anaconda3\\lib\\site-packages\\ipykernel_launcher.py:6: FutureWarning: set_value is deprecated and will be removed in a future release. Please use .at[] or .iat[] accessors instead\n",
      "  \n",
      "C:\\Users\\emily\\Anaconda3\\lib\\site-packages\\ipykernel_launcher.py:11: FutureWarning: set_value is deprecated and will be removed in a future release. Please use .at[] or .iat[] accessors instead\n",
      "  # This is added back by InteractiveShellApp.init_path()\n"
     ]
    }
   ],
   "source": [
    "# Calcular o Porcentagem\n",
    "Qtd_Total_Produtos=1.0*sum(df_Prod_Freq.Quantidade)\n",
    "df_Prod_Freq[\"Porcentagem_Prod\"]=np.round(100*df_Prod_Freq.Quantidade/Qtd_Total_Produtos,decimals=2)\n",
    "#Porcentagem_Acumulada\n",
    "Primeiro_Valor=df_Prod_Freq.Porcentagem_Prod[0]\n",
    "df_Prod_Freq.set_value(0,\"Porcentagem_Prod_Acumulada\",Primeiro_Valor)\n",
    "cont=0\n",
    "for valor in  df_Prod_Freq.Porcentagem_Prod[1:]:\n",
    "    Valor_Anterior=df_Prod_Freq.Porcentagem_Prod_Acumulada[cont]\n",
    "#     print (Valor_Anterior)\n",
    "    df_Prod_Freq.set_value(cont+1,\"Porcentagem_Prod_Acumulada\",valor+Valor_Anterior)\n",
    "    \n",
    "    cont +=1\n",
    "print (df_Prod_Freq)\n"
   ]
  },
  {
   "cell_type": "code",
   "execution_count": 164,
   "metadata": {},
   "outputs": [
    {
     "data": {
      "text/html": [
       "<div>\n",
       "<style scoped>\n",
       "    .dataframe tbody tr th:only-of-type {\n",
       "        vertical-align: middle;\n",
       "    }\n",
       "\n",
       "    .dataframe tbody tr th {\n",
       "        vertical-align: top;\n",
       "    }\n",
       "\n",
       "    .dataframe thead th {\n",
       "        text-align: right;\n",
       "    }\n",
       "</style>\n",
       "<table border=\"1\" class=\"dataframe\">\n",
       "  <thead>\n",
       "    <tr style=\"text-align: right;\">\n",
       "      <th></th>\n",
       "      <th>Productos</th>\n",
       "      <th>Quantidade</th>\n",
       "      <th>Porcentagem_Prod</th>\n",
       "      <th>Porcentagem_Prod_Acumulada</th>\n",
       "    </tr>\n",
       "  </thead>\n",
       "  <tbody>\n",
       "    <tr>\n",
       "      <th>0</th>\n",
       "      <td>Produto_1</td>\n",
       "      <td>600</td>\n",
       "      <td>25.81</td>\n",
       "      <td>25.81</td>\n",
       "    </tr>\n",
       "    <tr>\n",
       "      <th>1</th>\n",
       "      <td>Produto_2</td>\n",
       "      <td>320</td>\n",
       "      <td>13.76</td>\n",
       "      <td>39.57</td>\n",
       "    </tr>\n",
       "    <tr>\n",
       "      <th>2</th>\n",
       "      <td>Produto_3</td>\n",
       "      <td>220</td>\n",
       "      <td>9.46</td>\n",
       "      <td>49.03</td>\n",
       "    </tr>\n",
       "    <tr>\n",
       "      <th>3</th>\n",
       "      <td>Produto_4</td>\n",
       "      <td>110</td>\n",
       "      <td>4.73</td>\n",
       "      <td>53.76</td>\n",
       "    </tr>\n",
       "    <tr>\n",
       "      <th>4</th>\n",
       "      <td>Produto_5</td>\n",
       "      <td>90</td>\n",
       "      <td>3.87</td>\n",
       "      <td>57.63</td>\n",
       "    </tr>\n",
       "    <tr>\n",
       "      <th>5</th>\n",
       "      <td>Produto_6</td>\n",
       "      <td>85</td>\n",
       "      <td>3.66</td>\n",
       "      <td>61.29</td>\n",
       "    </tr>\n",
       "    <tr>\n",
       "      <th>6</th>\n",
       "      <td>Produto_7</td>\n",
       "      <td>80</td>\n",
       "      <td>3.44</td>\n",
       "      <td>64.73</td>\n",
       "    </tr>\n",
       "    <tr>\n",
       "      <th>7</th>\n",
       "      <td>Produto_8</td>\n",
       "      <td>78</td>\n",
       "      <td>3.35</td>\n",
       "      <td>68.08</td>\n",
       "    </tr>\n",
       "    <tr>\n",
       "      <th>8</th>\n",
       "      <td>Produto_9</td>\n",
       "      <td>75</td>\n",
       "      <td>3.23</td>\n",
       "      <td>71.31</td>\n",
       "    </tr>\n",
       "    <tr>\n",
       "      <th>9</th>\n",
       "      <td>Produto_10</td>\n",
       "      <td>72</td>\n",
       "      <td>3.10</td>\n",
       "      <td>74.41</td>\n",
       "    </tr>\n",
       "    <tr>\n",
       "      <th>10</th>\n",
       "      <td>Produto_11</td>\n",
       "      <td>70</td>\n",
       "      <td>3.01</td>\n",
       "      <td>77.42</td>\n",
       "    </tr>\n",
       "    <tr>\n",
       "      <th>11</th>\n",
       "      <td>Produto_12</td>\n",
       "      <td>65</td>\n",
       "      <td>2.80</td>\n",
       "      <td>80.22</td>\n",
       "    </tr>\n",
       "    <tr>\n",
       "      <th>12</th>\n",
       "      <td>Produto_13</td>\n",
       "      <td>60</td>\n",
       "      <td>2.58</td>\n",
       "      <td>82.80</td>\n",
       "    </tr>\n",
       "    <tr>\n",
       "      <th>13</th>\n",
       "      <td>Produto_14</td>\n",
       "      <td>58</td>\n",
       "      <td>2.49</td>\n",
       "      <td>85.29</td>\n",
       "    </tr>\n",
       "    <tr>\n",
       "      <th>14</th>\n",
       "      <td>Produto_15</td>\n",
       "      <td>52</td>\n",
       "      <td>2.24</td>\n",
       "      <td>87.53</td>\n",
       "    </tr>\n",
       "    <tr>\n",
       "      <th>15</th>\n",
       "      <td>Produto_16</td>\n",
       "      <td>30</td>\n",
       "      <td>1.29</td>\n",
       "      <td>88.82</td>\n",
       "    </tr>\n",
       "    <tr>\n",
       "      <th>16</th>\n",
       "      <td>Produto_17</td>\n",
       "      <td>25</td>\n",
       "      <td>1.08</td>\n",
       "      <td>89.90</td>\n",
       "    </tr>\n",
       "    <tr>\n",
       "      <th>17</th>\n",
       "      <td>Produto_18</td>\n",
       "      <td>20</td>\n",
       "      <td>0.86</td>\n",
       "      <td>90.76</td>\n",
       "    </tr>\n",
       "    <tr>\n",
       "      <th>18</th>\n",
       "      <td>Produto_19</td>\n",
       "      <td>15</td>\n",
       "      <td>0.65</td>\n",
       "      <td>91.41</td>\n",
       "    </tr>\n",
       "  </tbody>\n",
       "</table>\n",
       "</div>"
      ],
      "text/plain": [
       "     Productos  Quantidade  Porcentagem_Prod  Porcentagem_Prod_Acumulada\n",
       "0    Produto_1         600             25.81                       25.81\n",
       "1    Produto_2         320             13.76                       39.57\n",
       "2    Produto_3         220              9.46                       49.03\n",
       "3    Produto_4         110              4.73                       53.76\n",
       "4    Produto_5          90              3.87                       57.63\n",
       "5    Produto_6          85              3.66                       61.29\n",
       "6    Produto_7          80              3.44                       64.73\n",
       "7    Produto_8          78              3.35                       68.08\n",
       "8    Produto_9          75              3.23                       71.31\n",
       "9   Produto_10          72              3.10                       74.41\n",
       "10  Produto_11          70              3.01                       77.42\n",
       "11  Produto_12          65              2.80                       80.22\n",
       "12  Produto_13          60              2.58                       82.80\n",
       "13  Produto_14          58              2.49                       85.29\n",
       "14  Produto_15          52              2.24                       87.53\n",
       "15  Produto_16          30              1.29                       88.82\n",
       "16  Produto_17          25              1.08                       89.90\n",
       "17  Produto_18          20              0.86                       90.76\n",
       "18  Produto_19          15              0.65                       91.41"
      ]
     },
     "execution_count": 164,
     "metadata": {},
     "output_type": "execute_result"
    }
   ],
   "source": [
    "df_Prod_Freq=df_Prod_Freq.iloc[:-1]\n",
    "df_Prod_Freq"
   ]
  },
  {
   "cell_type": "code",
   "execution_count": 165,
   "metadata": {
    "scrolled": false
   },
   "outputs": [],
   "source": [
    "def Formatar_Barra(ax_1,Coluna,Largura_Barra):\n",
    "    '''\n",
    "    ax_1: Grafica de Barras para Alterara\n",
    "    df: Columna do eixo_X do Dataframe do Grafico\n",
    "    Largura_Barra: Porcentagem da largura das Barras \n",
    "    '''\n",
    "    columncounts=[]\n",
    "    for Num_Bar in range(len(Coluna)): \n",
    "        columncounts.insert(Num_Bar,Largura_Bar)\n",
    "    # Maximum bar width is 1. Normalise counts to be in the interval 0-1. Need to supply a maximum possible count here as maxwidth\n",
    "    def normaliseCounts(widths,maxwidth):\n",
    "        widths = np.array(widths)/float(maxwidth)\n",
    "        return widths\n",
    "\n",
    "    widthbars = normaliseCounts(columncounts,100)\n",
    "\n",
    "    # Loop over the bars, and adjust the width (and position, to keep the bar centred)\n",
    "    for bar,newwidth in zip(ax_1.patches,widthbars):\n",
    "        x = bar.get_x()\n",
    "        width = bar.get_width()\n",
    "        centre = x+width/2.\n",
    "        bar.set_x(centre-newwidth/2.)\n",
    "        bar.set_width(newwidth)\n",
    "#"
   ]
  },
  {
   "cell_type": "code",
   "execution_count": 223,
   "metadata": {},
   "outputs": [],
   "source": [
    "def Graf_Barras_Line_Acum(df,Nome_Column_Exo_X,Nome_Column_Exo_Y,Nome_Column_Exo_Y_Acum,Largura_Bar):\n",
    "    '''\n",
    "    df: Dataframe para Graficar as Barras\n",
    "    Nome_Column_Exo_X: Nome da Coluna do Eixo X para ajustar\n",
    "    Nome_Column_Exo_Y: Nome da Coluna do Eixo Y para ajustar\n",
    "    Nome_Column_Exo_Y_Acum: Nome da Coluna do Eixo Y para a metrica da linha da frecuencia acumulada\n",
    "    Largura_Bar:tamanho da Largura de cada Barra\n",
    "    '''\n",
    "    fig = plt.figure()\n",
    "    fig, ax = plt.subplots(figsize=(21, 12))\n",
    "    ax1 = fig.add_subplot(111)\n",
    "    font = {'family': 'serif',\n",
    "            'color':  'black',\n",
    "            'weight': 'bold',\n",
    "            'rotation':90,\n",
    "            'size': 16,\n",
    "            }\n",
    "    ax1 = sns.barplot(x=Nome_Column_Exo_X, y=Nome_Column_Exo_Y, data=df, color=(0.6, 0.1, 0.55, 0.02))\n",
    "    ax1.set_xticklabels(labels=df[Nome_Column_Exo_X], fontdict=font)\n",
    "    # ax1.set_yticklabels(labels=df_Prod_Freq.Quantidade, fontdict=font)\n",
    "    ax1.tick_params(axis='y', labelsize=18)\n",
    "    ax1.set_xlabel(\"\",weight = 'bold')\n",
    "    ax1.set_ylabel(\"\",weight = 'bold')\n",
    "    ax.set_xticklabels(labels=[], fontdict=font)\n",
    "    ax.set_yticklabels(labels=[], fontdict=font)\n",
    "    ax.axes.set_title(\"Districuicao dos Produtos\",fontsize=50)\n",
    "    ax1.set_xlabel(Nome_Column_Exo_X,fontsize=20,weight = 'bold')\n",
    "    ax1.set_ylabel(Nome_Column_Exo_Y,fontsize=20,weight = 'bold')\n",
    "    ax.tick_params(labelsize=16)\n",
    "\n",
    "    #Graficando a Linea de Frequancia Acumulada\n",
    "\n",
    "    ax2 = ax.twinx()\n",
    "    ax2=sns.set_context(rc={\"lines.linewidth\": 4})\n",
    "\n",
    "    ax2=sns.lineplot(x=df.rename_axis('Ind_X').reset_index()[\"Ind_X\"] , y=Nome_Column_Exo_Y_Acum, data=df, color='blue')\n",
    "    [ax2.text(p[0], p[1]-3, p[1], color='black',weight = 'bold',fontsize=16) for p in zip(ax1.get_xticks(), np.round(df[Nome_Column_Exo_Y_Acum].values,decimals=0))]\n",
    "    ax2.tick_params(axis='y',labelsize=18)\n",
    "    ax2.set_ylabel(\"Porcentagem Acumulada\",fontsize=20,weight = 'bold')\n",
    "    #\n",
    "    #Formatando as barras para cada um\n",
    "    Formatar_Barra(ax2,df[Nome_Column_Exo_X],Largura_Bar)\n"
   ]
  },
  {
   "cell_type": "code",
   "execution_count": 224,
   "metadata": {},
   "outputs": [
    {
     "data": {
      "text/plain": [
       "<Figure size 432x288 with 0 Axes>"
      ]
     },
     "metadata": {},
     "output_type": "display_data"
    },
    {
     "data": {
      "image/png": "[encoded data removed]",
      "text/plain": [
       "<Figure size 1512x864 with 3 Axes>"
      ]
     },
     "metadata": {
      "needs_background": "light"
     },
     "output_type": "display_data"
    }
   ],
   "source": [
    "Largura_Bar=70\n",
    "Nom_Colum_Eixo_X=\"Productos\"\n",
    "Nom_Colum_Eixo_Y=\"Quantidade\"\n",
    "Nom_Colum_Eixo_Y_Acum=\"Porcentagem_Prod_Acumulada\"\n",
    "Graf_Barras_Line_Acum(df_Prod_Freq,Nom_Colum_Eixo_X,Nom_Colum_Eixo_Y,Nom_Colum_Eixo_Y_Acum,Largura_Bar)"
   ]
  },
  {
   "cell_type": "code",
   "execution_count": 225,
   "metadata": {},
   "outputs": [],
   "source": [
    "import ipywidgets as widgets"
   ]
  },
  {
   "cell_type": "code",
   "execution_count": 227,
   "metadata": {},
   "outputs": [
    {
     "data": {
      "application/vnd.jupyter.widget-view+json": {
       "model_id": "cbaaee9a0c3f476a9dd408ab1e0702c1",
       "version_major": 2,
       "version_minor": 0
      },
      "text/plain": [
       "IntSlider(value=7, continuous_update=False, description='Test:', max=10)"
      ]
     },
     "metadata": {},
     "output_type": "display_data"
    }
   ],
   "source": [
    "widgets.IntSlider(\n",
    "    value=7,\n",
    "    min=0,\n",
    "    max=10,\n",
    "    step=1,\n",
    "    description='Test:',\n",
    "    disabled=False,\n",
    "    continuous_update=False,\n",
    "    orientation='horizontal',\n",
    "    readout=True,\n",
    "    readout_format='d'\n",
    ")"
   ]
  },
  {
   "cell_type": "code",
   "execution_count": 231,
   "metadata": {},
   "outputs": [
    {
     "data": {
      "application/vnd.jupyter.widget-view+json": {
       "model_id": "2efff7d13a5f45ba886fff4ab80fc7ae",
       "version_major": 2,
       "version_minor": 0
      },
      "text/plain": [
       "FloatSlider(value=0.0, continuous_update=False, description='Test:', max=10.0, min=-10.0, step=0.01)"
      ]
     },
     "metadata": {},
     "output_type": "display_data"
    }
   ],
   "source": [
    "widgets.FloatSlider(\n",
    "    value=0.00,\n",
    "    min=-10.0,\n",
    "    max=10.0,\n",
    "    step=0.01,\n",
    "    description='Test:',\n",
    "    disabled=False,\n",
    "    continuous_update=False,\n",
    "    orientation='horizontal',\n",
    "    readout=True,\n",
    "    readout_format='.2f',\n",
    ")"
   ]
  },
  {
   "cell_type": "code",
   "execution_count": 232,
   "metadata": {},
   "outputs": [
    {
     "data": {
      "application/vnd.jupyter.widget-view+json": {
       "model_id": "8fa1289a7d99438da3331eeb55ba27a6",
       "version_major": 2,
       "version_minor": 0
      },
      "text/plain": [
       "FloatProgress(value=7.5, bar_style='info', description='Loading:', max=10.0)"
      ]
     },
     "metadata": {},
     "output_type": "display_data"
    }
   ],
   "source": [
    "widgets.FloatProgress(\n",
    "    value=7.5,\n",
    "    min=0,\n",
    "    max=10.0,\n",
    "    step=0.1,\n",
    "    description='Loading:',\n",
    "    bar_style='info',\n",
    "    orientation='horizontal'\n",
    ")"
   ]
  },
  {
   "cell_type": "code",
   "execution_count": 233,
   "metadata": {},
   "outputs": [
    {
     "data": {
      "application/vnd.jupyter.widget-view+json": {
       "model_id": "774ca0c854a44339a8f8c770e0d76f20",
       "version_major": 2,
       "version_minor": 0
      },
      "text/plain": [
       "ToggleButtons(description='Speed:', options=('Slow', 'Regular', 'Fast'), tooltips=('Description of slow', 'Des…"
      ]
     },
     "metadata": {},
     "output_type": "display_data"
    }
   ],
   "source": [
    "\n",
    "widgets.ToggleButtons(\n",
    "    options=['Slow', 'Regular', 'Fast'],\n",
    "    description='Speed:',\n",
    "    disabled=False,\n",
    "    button_style='', # 'success', 'info', 'warning', 'danger' or ''\n",
    "    tooltips=['Description of slow', 'Description of regular', 'Description of fast'],\n",
    "#     icons=['check'] * 3\n",
    ")"
   ]
  },
  {
   "cell_type": "code",
   "execution_count": 263,
   "metadata": {},
   "outputs": [
    {
     "data": {
      "application/vnd.jupyter.widget-view+json": {
       "model_id": "1471688762964a61b5a9cf52bc1e663f",
       "version_major": 2,
       "version_minor": 0
      },
      "text/plain": [
       "HBox(children=(VBox(children=(IntSlider(value=0, description='Red'), IntSlider(value=0, description='Green'), …"
      ]
     },
     "metadata": {},
     "output_type": "display_data"
    }
   ],
   "source": [
    "Red = widgets.IntSlider(description='Red')\n",
    "Green = widgets.IntSlider(description='Green')\n",
    "Blue = widgets.IntSlider(description='Blue')\n",
    "A = widgets.IntSlider(description='A')\n",
    "def f(Red, Green, Blue):\n",
    "    Resultado=('{}*{}*{}={}'.format(Red, Green, Blue, Red*Green*Blue))\n",
    "    return (Resultado)\n",
    "# Valor=f(Red, Green, Blue)\n",
    "# print (Valor)\n",
    "out = widgets.interactive_output(f, {'Red': Red, 'Green': Green, 'Blue': Blue})\n",
    "\n",
    "widgets.HBox([widgets.VBox([Red, Green, Blue]), out])"
   ]
  },
  {
   "cell_type": "code",
   "execution_count": null,
   "metadata": {},
   "outputs": [],
   "source": []
  },
  {
   "cell_type": "code",
   "execution_count": 236,
   "metadata": {},
   "outputs": [
    {
     "data": {
      "application/vnd.jupyter.widget-view+json": {
       "model_id": "d23d275ad18f4d968e7dea164ad889bf",
       "version_major": 2,
       "version_minor": 0
      },
      "text/plain": [
       "VBox(children=(IntSlider(value=0, continuous_update=False, description='Delayed'), IntText(value=0, descriptio…"
      ]
     },
     "metadata": {},
     "output_type": "display_data"
    }
   ],
   "source": [
    "a = widgets.IntSlider(description=\"Delayed\", continuous_update=False)\n",
    "b = widgets.IntText(description=\"Delayed\", continuous_update=False)\n",
    "c = widgets.IntSlider(description=\"Continuous\", continuous_update=True)\n",
    "d = widgets.IntText(description=\"Continuous\", continuous_update=True)\n",
    "\n",
    "widgets.link((a, 'value'), (b, 'value'))\n",
    "widgets.link((a, 'value'), (c, 'value'))\n",
    "widgets.link((a, 'value'), (d, 'value'))\n",
    "widgets.VBox([a,b,c,d])"
   ]
  },
  {
   "cell_type": "code",
   "execution_count": null,
   "metadata": {},
   "outputs": [],
   "source": []
  },
  {
   "cell_type": "code",
   "execution_count": null,
   "metadata": {},
   "outputs": [],
   "source": []
  },
  {
   "cell_type": "code",
   "execution_count": 243,
   "metadata": {},
   "outputs": [
    {
     "data": {
      "application/vnd.jupyter.widget-view+json": {
       "model_id": "6a4740d2b1cc4fe79502fed8bdf93061",
       "version_major": 2,
       "version_minor": 0
      },
      "text/plain": [
       "Box(children=(Button(button_style='danger', description='correct', layout=Layout(width='auto'), style=ButtonSt…"
      ]
     },
     "metadata": {},
     "output_type": "display_data"
    }
   ],
   "source": [
    "from ipywidgets import Layout, Button, Box\n",
    "\n",
    "items_layout = Layout( width='auto')     # override the default width of the button to 'auto' to let the button grow\n",
    "\n",
    "box_layout = Layout(display='flex',\n",
    "                    flex_flow='column',\n",
    "                    align_items='stretch',\n",
    "                    border='solid',\n",
    "                    width='50%')\n",
    "\n",
    "words = ['correct', 'horse', 'battery', 'staple']\n",
    "items = [Button(description=word, layout=items_layout, button_style='danger') for word in words]\n",
    "box = Box(children=items, layout=box_layout)\n",
    "box"
   ]
  },
  {
   "cell_type": "code",
   "execution_count": 244,
   "metadata": {},
   "outputs": [
    {
     "data": {
      "application/vnd.jupyter.widget-view+json": {
       "model_id": "45397904b6bc4b43adea87088308245f",
       "version_major": 2,
       "version_minor": 0
      },
      "text/plain": [
       "VBox(children=(Box(children=(Button(button_style='danger', description='weight=1; auto', layout=Layout(flex='1…"
      ]
     },
     "metadata": {},
     "output_type": "display_data"
    }
   ],
   "source": [
    "from ipywidgets import Layout, Button, Box, VBox\n",
    "\n",
    "# Items flex proportionally to the weight and the left over space around the text\n",
    "items_auto = [\n",
    "    Button(description='weight=1; auto', layout=Layout(flex='1 1 auto', width='auto'), button_style='danger'),\n",
    "    Button(description='weight=3; auto', layout=Layout(flex='3 1 auto', width='auto'), button_style='danger'),\n",
    "    Button(description='weight=1; auto', layout=Layout(flex='1 1 auto', width='auto'), button_style='danger'),\n",
    " ]\n",
    "\n",
    "# Items flex proportionally to the weight\n",
    "items_0 = [\n",
    "    Button(description='weight=1; 0%', layout=Layout(flex='1 1 0%', width='auto'), button_style='danger'),\n",
    "    Button(description='weight=3; 0%', layout=Layout(flex='3 1 0%', width='auto'), button_style='danger'),\n",
    "    Button(description='weight=1; 0%', layout=Layout(flex='1 1 0%', width='auto'), button_style='danger'),\n",
    " ]\n",
    "box_layout = Layout(display='flex',\n",
    "                    flex_flow='row',\n",
    "                    align_items='stretch',\n",
    "                    width='70%')\n",
    "box_auto = Box(children=items_auto, layout=box_layout)\n",
    "box_0 = Box(children=items_0, layout=box_layout)\n",
    "VBox([box_auto, box_0])"
   ]
  },
  {
   "cell_type": "code",
   "execution_count": 246,
   "metadata": {},
   "outputs": [
    {
     "data": {
      "application/vnd.jupyter.widget-view+json": {
       "model_id": "8f69f38870df497ea78411f56f7352d4",
       "version_major": 2,
       "version_minor": 0
      },
      "text/plain": [
       "Box(children=(Box(children=(Label(value='Age of the captain'), IntSlider(value=40, max=60, min=40)), layout=La…"
      ]
     },
     "metadata": {},
     "output_type": "display_data"
    }
   ],
   "source": [
    "\n",
    "from ipywidgets import Layout, Button, Box, FloatText, Textarea, Dropdown, Label, IntSlider\n",
    "\n",
    "form_item_layout = Layout(\n",
    "    display='flex',\n",
    "    flex_flow='row',\n",
    "    justify_content='space-between'\n",
    ")\n",
    "\n",
    "form_items = [\n",
    "    Box([Label(value='Age of the captain'), IntSlider(min=40, max=60)], layout=form_item_layout),\n",
    "    Box([Label(value='Egg style'),\n",
    "         Dropdown(options=['Scrambled', 'Sunny side up', 'Over easy'])], layout=form_item_layout),\n",
    "    Box([Label(value='Ship size'),\n",
    "         FloatText()], layout=form_item_layout),\n",
    "    Box([Label(value='Information'),\n",
    "         Textarea()], layout=form_item_layout)\n",
    "]\n",
    "\n",
    "form = Box(form_items, layout=Layout(\n",
    "    display='flex',\n",
    "    flex_flow='column',\n",
    "    border='solid 2px',\n",
    "    align_items='stretch',\n",
    "    width='50%'\n",
    "))\n",
    "form"
   ]
  },
  {
   "cell_type": "code",
   "execution_count": 247,
   "metadata": {},
   "outputs": [
    {
     "data": {
      "application/vnd.jupyter.widget-view+json": {
       "model_id": "647fc61b1632456eb4a547b72326fd9e",
       "version_major": 2,
       "version_minor": 0
      },
      "text/plain": [
       "VBox(children=(Label(value='Scroll horizontally:'), Box(children=(Button(button_style='warning', description='…"
      ]
     },
     "metadata": {},
     "output_type": "display_data"
    }
   ],
   "source": [
    "from ipywidgets import Layout, Button, Box\n",
    "\n",
    "item_layout = Layout(height='100px', min_width='40px')\n",
    "items = [Button(layout=item_layout, description=str(i), button_style='warning') for i in range(40)]\n",
    "box_layout = Layout(overflow_x='scroll',\n",
    "                    border='3px solid black',\n",
    "                    width='500px',\n",
    "                    height='',\n",
    "                    flex_flow='row',\n",
    "                    display='flex')\n",
    "carousel = Box(children=items, layout=box_layout)\n",
    "VBox([Label('Scroll horizontally:'), carousel])"
   ]
  },
  {
   "cell_type": "code",
   "execution_count": null,
   "metadata": {},
   "outputs": [],
   "source": []
  }
 ],
 "metadata": {
  "kernelspec": {
   "display_name": "Python 3",
   "language": "python",
   "name": "python3"
  },
  "language_info": {
   "codemirror_mode": {
    "name": "ipython",
    "version": 3
   },
   "file_extension": ".py",
   "mimetype": "text/x-python",
   "name": "python",
   "nbconvert_exporter": "python",
   "pygments_lexer": "ipython3",
   "version": "3.7.1"
  }
 },
 "nbformat": 4,
 "nbformat_minor": 2
}
