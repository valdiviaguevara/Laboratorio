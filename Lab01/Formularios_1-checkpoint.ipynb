{
 "cells": [
  {
   "cell_type": "code",
   "execution_count": 3,
   "metadata": {},
   "outputs": [
    {
     "name": "stdout",
     "output_type": "stream",
     "text": [
      "What is your name?\n",
      "deas\n",
      "Hello deas!\n",
      "What is your name 2?\n",
      "sdas\n",
      "Hello sdas!\n"
     ]
    }
   ],
   "source": [
    "raw_input=input\n",
    "print (\"What is your name?\")\n",
    "name = raw_input()\n",
    "print (\"Hello %s!\" % name) \n",
    "print (\"What is your name 2?\")\n",
    "name2 = raw_input()\n",
    "print (\"Hello %s!\" % name2) "
   ]
  },
  {
   "cell_type": "code",
   "execution_count": 9,
   "metadata": {},
   "outputs": [
    {
     "name": "stdout",
     "output_type": "stream",
     "text": [
      "What is your number?\n",
      "3\n",
      "A resposta da func. é:490\n"
     ]
    }
   ],
   "source": [
    "raw_input=input\n",
    "print (\"What is your number?\")\n",
    "number = int(raw_input())\n",
    "total=number+487\n",
    "print(\"A resposta da func. é:\" + str(total))"
   ]
  },
  {
   "cell_type": "code",
   "execution_count": null,
   "metadata": {},
   "outputs": [],
   "source": []
  }
 ],
 "metadata": {
  "kernelspec": {
   "display_name": "Python 3",
   "language": "python",
   "name": "python3"
  },
  "language_info": {
   "codemirror_mode": {
    "name": "ipython",
    "version": 3
   },
   "file_extension": ".py",
   "mimetype": "text/x-python",
   "name": "python",
   "nbconvert_exporter": "python",
   "pygments_lexer": "ipython3",
   "version": "3.7.1"
  }
 },
 "nbformat": 4,
 "nbformat_minor": 2
}
