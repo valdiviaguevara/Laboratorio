{
 "cells": [
  {
   "cell_type": "code",
   "execution_count": null,
   "metadata": {},
   "outputs": [],
   "source": [
    "import pandas as pd\n",
    "import numpy as np\n",
    "import seaborn as sns\n",
    "from scipy import stats \n",
    "import matplotlib.pyplot as plt"
   ]
  },
  {
   "cell_type": "code",
   "execution_count": null,
   "metadata": {},
   "outputs": [],
   "source": [
    "df_Prod_Freq=pd.read_csv(\"Produtos_Frequencia.csv\")\n",
    "df_Prod_Freq.head()"
   ]
  },
  {
   "cell_type": "code",
   "execution_count": null,
   "metadata": {},
   "outputs": [],
   "source": [
    "df_Prod_Freq.info()"
   ]
  },
  {
   "cell_type": "code",
   "execution_count": null,
   "metadata": {},
   "outputs": [],
   "source": [
    "# Calcular o Porcentagem\n",
    "Qtd_Total_Produtos=1.0*sum(df_Prod_Freq.Quantidade)\n",
    "df_Prod_Freq[\"Porcentagem_Prod\"]=np.round(100*df_Prod_Freq.Quantidade/Qtd_Total_Produtos,decimals=2)\n",
    "#Porcentagem_Acumulada\n",
    "Primeiro_Valor=df_Prod_Freq.Porcentagem_Prod[0]\n",
    "df_Prod_Freq.set_value(0,\"Porcentagem_Prod_Acumulada\",Primeiro_Valor)\n",
    "cont=0\n",
    "for valor in  df_Prod_Freq.Porcentagem_Prod[1:]:\n",
    "    Valor_Anterior=df_Prod_Freq.Porcentagem_Prod_Acumulada[cont]\n",
    "#     print (Valor_Anterior)\n",
    "    df_Prod_Freq.set_value(cont+1,\"Porcentagem_Prod_Acumulada\",valor+Valor_Anterior)\n",
    "    \n",
    "    cont +=1\n",
    "print (df_Prod_Freq)\n"
   ]
  },
  {
   "cell_type": "code",
   "execution_count": null,
   "metadata": {},
   "outputs": [],
   "source": [
    "df_Prod_Freq=df_Prod_Freq.iloc[:-1]\n",
    "df_Prod_Freq"
   ]
  },
  {
   "cell_type": "code",
   "execution_count": null,
   "metadata": {
    "scrolled": false
   },
   "outputs": [],
   "source": [
    "def Formatar_Barra(ax_1,Coluna,Largura_Barra):\n",
    "    '''\n",
    "    ax_1: Grafica de Barras para Alterara\n",
    "    df: Columna do eixo_X do Dataframe do Grafico\n",
    "    Largura_Barra: Porcentagem da largura das Barras \n",
    "    '''\n",
    "    columncounts=[]\n",
    "    for Num_Bar in range(len(Coluna)): \n",
    "        columncounts.insert(Num_Bar,Largura_Bar)\n",
    "    # Maximum bar width is 1. Normalise counts to be in the interval 0-1. Need to supply a maximum possible count here as maxwidth\n",
    "    def normaliseCounts(widths,maxwidth):\n",
    "        widths = np.array(widths)/float(maxwidth)\n",
    "        return widths\n",
    "\n",
    "    widthbars = normaliseCounts(columncounts,100)\n",
    "\n",
    "    # Loop over the bars, and adjust the width (and position, to keep the bar centred)\n",
    "    for bar,newwidth in zip(ax_1.patches,widthbars):\n",
    "        x = bar.get_x()\n",
    "        width = bar.get_width()\n",
    "        centre = x+width/2.\n",
    "        bar.set_x(centre-newwidth/2.)\n",
    "        bar.set_width(newwidth)\n",
    "#"
   ]
  },
  {
   "cell_type": "code",
   "execution_count": null,
   "metadata": {},
   "outputs": [],
   "source": [
    "def Graf_Barras_Line_Acum(df,Nome_Column_Exo_X,Nome_Column_Exo_Y,Nome_Column_Exo_Y_Acum,Largura_Bar):\n",
    "    '''\n",
    "    df: Dataframe para Graficar as Barras\n",
    "    Nome_Column_Exo_X: Nome da Coluna do Eixo X para ajustar\n",
    "    Nome_Column_Exo_Y: Nome da Coluna do Eixo Y para ajustar\n",
    "    Nome_Column_Exo_Y_Acum: Nome da Coluna do Eixo Y para a metrica da linha da frecuencia acumulada\n",
    "    Largura_Bar:tamanho da Largura de cada Barra\n",
    "    '''\n",
    "    fig = plt.figure()\n",
    "    fig, ax = plt.subplots(figsize=(21, 12))\n",
    "    ax1 = fig.add_subplot(111)\n",
    "    font = {'family': 'serif',\n",
    "            'color':  'black',\n",
    "            'weight': 'bold',\n",
    "            'rotation':90,\n",
    "            'size': 16,\n",
    "            }\n",
    "    ax1 = sns.barplot(x=Nome_Column_Exo_X, y=Nome_Column_Exo_Y, data=df, color=(0.6, 0.1, 0.55, 0.02),hatch=\"--\",edgecolor='white', zorder=1, lw=1.)\n",
    "    ax1.set_xticklabels(labels=df[Nome_Column_Exo_X], fontdict=font)\n",
    "    # ax1.set_yticklabels(labels=df_Prod_Freq.Quantidade, fontdict=font)\n",
    "    ax1.tick_params(axis='y', labelsize=18)\n",
    "    ax1.set_xlabel(\"\",weight = 'bold')\n",
    "    ax1.set_ylabel(\"\",weight = 'bold')\n",
    "    ax.set_xticklabels(labels=[], fontdict=font)\n",
    "    ax.set_yticklabels(labels=[], fontdict=font)\n",
    "    ax.axes.set_title(\"Districuicao dos Produtos\",fontsize=50)\n",
    "    ax1.set_xlabel(Nome_Column_Exo_X,fontsize=20,weight = 'bold')\n",
    "    ax1.set_ylabel(Nome_Column_Exo_Y,fontsize=20,weight = 'bold')\n",
    "    ax.tick_params(labelsize=16)\n",
    "\n",
    "    #Graficando a Linea de Frequancia Acumulada\n",
    "\n",
    "    ax2 = ax.twinx()\n",
    "    ax2=sns.set_context(rc={\"lines.linewidth\": 4})\n",
    "\n",
    "    ax2=sns.lineplot(x=df.rename_axis('Ind_X').reset_index()[\"Ind_X\"] , y=Nome_Column_Exo_Y_Acum, data=df, color='blue')\n",
    "    [ax2.text(p[0], p[1]-3, p[1], color='black',weight = 'bold',fontsize=16) for p in zip(ax1.get_xticks(), np.round(df[Nome_Column_Exo_Y_Acum].values,decimals=0))]\n",
    "    ax2.tick_params(axis='y',labelsize=18)\n",
    "    ax2.set_ylabel(\"Porcentagem Acumulada\",fontsize=20,weight = 'bold')\n",
    "    #\n",
    "    #Formatando as barras para cada um\n",
    "    Formatar_Barra(ax2,df[Nome_Column_Exo_X],Largura_Bar)\n"
   ]
  },
  {
   "cell_type": "code",
   "execution_count": null,
   "metadata": {},
   "outputs": [],
   "source": [
    "Largura_Bar=70\n",
    "Nom_Colum_Eixo_X=\"Productos\"\n",
    "Nom_Colum_Eixo_Y=\"Quantidade\"\n",
    "Nom_Colum_Eixo_Y_Acum=\"Porcentagem_Prod_Acumulada\"\n",
    "Graf_Barras_Line_Acum(df_Prod_Freq,Nom_Colum_Eixo_X,Nom_Colum_Eixo_Y,Nom_Colum_Eixo_Y_Acum,Largura_Bar)"
   ]
  },
  {
   "cell_type": "code",
   "execution_count": null,
   "metadata": {},
   "outputs": [],
   "source": [
    "import ipywidgets as widgets"
   ]
  },
  {
   "cell_type": "code",
   "execution_count": null,
   "metadata": {},
   "outputs": [],
   "source": [
    "widgets.IntSlider(\n",
    "    value=7,\n",
    "    min=0,\n",
    "    max=10,\n",
    "    step=1,\n",
    "    description='Test:',\n",
    "    disabled=False,\n",
    "    continuous_update=False,\n",
    "    orientation='horizontal',\n",
    "    readout=True,\n",
    "    readout_format='d'\n",
    ")"
   ]
  },
  {
   "cell_type": "code",
   "execution_count": null,
   "metadata": {},
   "outputs": [],
   "source": [
    "widgets.FloatSlider(\n",
    "    value=0.00,\n",
    "    min=-10.0,\n",
    "    max=10.0,\n",
    "    step=0.01,\n",
    "    description='Test:',\n",
    "    disabled=False,\n",
    "    continuous_update=False,\n",
    "    orientation='horizontal',\n",
    "    readout=True,\n",
    "    readout_format='.2f',\n",
    ")"
   ]
  },
  {
   "cell_type": "code",
   "execution_count": null,
   "metadata": {},
   "outputs": [],
   "source": [
    "widgets.FloatProgress(\n",
    "    value=7.5,\n",
    "    min=0,\n",
    "    max=10.0,\n",
    "    step=0.1,\n",
    "    description='Loading:',\n",
    "    bar_style='info',\n",
    "    orientation='horizontal'\n",
    ")"
   ]
  },
  {
   "cell_type": "code",
   "execution_count": null,
   "metadata": {},
   "outputs": [],
   "source": [
    "\n",
    "widgets.ToggleButtons(\n",
    "    options=['Slow', 'Regular', 'Fast'],\n",
    "    description='Speed:',\n",
    "    disabled=False,\n",
    "    button_style='', # 'success', 'info', 'warning', 'danger' or ''\n",
    "    tooltips=['Description of slow', 'Description of regular', 'Description of fast'],\n",
    "#     icons=['check'] * 3\n",
    ")"
   ]
  },
  {
   "cell_type": "code",
   "execution_count": null,
   "metadata": {},
   "outputs": [],
   "source": [
    "Red = widgets.IntSlider(description='Red')\n",
    "Green = widgets.IntSlider(description='Green')\n",
    "Blue = widgets.IntSlider(description='Blue')\n",
    "A = widgets.IntSlider(description='A')\n",
    "def f(Red, Green, Blue):\n",
    "    Resultado=('{}*{}*{}={}'.format(Red, Green, Blue, Red*Green*Blue))\n",
    "    return (Resultado)\n",
    "# Valor=f(Red, Green, Blue)\n",
    "# print (Valor)\n",
    "out = widgets.interactive_output(f, {'Red': Red, 'Green': Green, 'Blue': Blue})\n",
    "\n",
    "widgets.HBox([widgets.VBox([Red, Green, Blue]), out])"
   ]
  },
  {
   "cell_type": "code",
   "execution_count": null,
   "metadata": {},
   "outputs": [],
   "source": []
  },
  {
   "cell_type": "code",
   "execution_count": null,
   "metadata": {},
   "outputs": [],
   "source": [
    "a = widgets.IntSlider(description=\"Delayed\", continuous_update=False)\n",
    "b = widgets.IntText(description=\"Delayed\", continuous_update=False)\n",
    "c = widgets.IntSlider(description=\"Continuous\", continuous_update=True)\n",
    "d = widgets.IntText(description=\"Continuous\", continuous_update=True)\n",
    "\n",
    "widgets.link((a, 'value'), (b, 'value'))\n",
    "widgets.link((a, 'value'), (c, 'value'))\n",
    "widgets.link((a, 'value'), (d, 'value'))\n",
    "widgets.VBox([a,b,c,d])"
   ]
  },
  {
   "cell_type": "code",
   "execution_count": null,
   "metadata": {},
   "outputs": [],
   "source": [
    "\n",
    "widgets.ColorPicker(\n",
    "    concise=False,\n",
    "    description='Pick a color',\n",
    "    value='blue',\n",
    "    disabled=False\n",
    ")"
   ]
  },
  {
   "cell_type": "code",
   "execution_count": 4,
   "metadata": {},
   "outputs": [
    {
     "ename": "NameError",
     "evalue": "name 'openColorDialog' is not defined",
     "output_type": "error",
     "traceback": [
      "\u001b[1;31m---------------------------------------------------------------------------\u001b[0m",
      "\u001b[1;31mNameError\u001b[0m                                 Traceback (most recent call last)",
      "\u001b[1;32m<ipython-input-3-a54039b7e440>\u001b[0m in \u001b[0;36mon_click\u001b[1;34m(self)\u001b[0m\n\u001b[0;32m     29\u001b[0m     \u001b[1;33m@\u001b[0m\u001b[0mpyqtSlot\u001b[0m\u001b[1;33m(\u001b[0m\u001b[1;33m)\u001b[0m\u001b[1;33m\u001b[0m\u001b[1;33m\u001b[0m\u001b[0m\n\u001b[0;32m     30\u001b[0m     \u001b[1;32mdef\u001b[0m \u001b[0mon_click\u001b[0m\u001b[1;33m(\u001b[0m\u001b[0mself\u001b[0m\u001b[1;33m)\u001b[0m\u001b[1;33m:\u001b[0m\u001b[1;33m\u001b[0m\u001b[1;33m\u001b[0m\u001b[0m\n\u001b[1;32m---> 31\u001b[1;33m         \u001b[0mopenColorDialog\u001b[0m\u001b[1;33m(\u001b[0m\u001b[0mself\u001b[0m\u001b[1;33m)\u001b[0m\u001b[1;33m\u001b[0m\u001b[1;33m\u001b[0m\u001b[0m\n\u001b[0m\u001b[0;32m     32\u001b[0m \u001b[1;33m\u001b[0m\u001b[0m\n\u001b[0;32m     33\u001b[0m     \u001b[1;32mdef\u001b[0m \u001b[0mopenColorDialog\u001b[0m\u001b[1;33m(\u001b[0m\u001b[0mself\u001b[0m\u001b[1;33m)\u001b[0m\u001b[1;33m:\u001b[0m\u001b[1;33m\u001b[0m\u001b[1;33m\u001b[0m\u001b[0m\n",
      "\u001b[1;31mNameError\u001b[0m: name 'openColorDialog' is not defined"
     ]
    },
    {
     "ename": "NameError",
     "evalue": "name 'openColorDialog' is not defined",
     "output_type": "error",
     "traceback": [
      "\u001b[1;31m---------------------------------------------------------------------------\u001b[0m",
      "\u001b[1;31mNameError\u001b[0m                                 Traceback (most recent call last)",
      "\u001b[1;32m<ipython-input-3-a54039b7e440>\u001b[0m in \u001b[0;36mon_click\u001b[1;34m(self)\u001b[0m\n\u001b[0;32m     29\u001b[0m     \u001b[1;33m@\u001b[0m\u001b[0mpyqtSlot\u001b[0m\u001b[1;33m(\u001b[0m\u001b[1;33m)\u001b[0m\u001b[1;33m\u001b[0m\u001b[1;33m\u001b[0m\u001b[0m\n\u001b[0;32m     30\u001b[0m     \u001b[1;32mdef\u001b[0m \u001b[0mon_click\u001b[0m\u001b[1;33m(\u001b[0m\u001b[0mself\u001b[0m\u001b[1;33m)\u001b[0m\u001b[1;33m:\u001b[0m\u001b[1;33m\u001b[0m\u001b[1;33m\u001b[0m\u001b[0m\n\u001b[1;32m---> 31\u001b[1;33m         \u001b[0mopenColorDialog\u001b[0m\u001b[1;33m(\u001b[0m\u001b[0mself\u001b[0m\u001b[1;33m)\u001b[0m\u001b[1;33m\u001b[0m\u001b[1;33m\u001b[0m\u001b[0m\n\u001b[0m\u001b[0;32m     32\u001b[0m \u001b[1;33m\u001b[0m\u001b[0m\n\u001b[0;32m     33\u001b[0m     \u001b[1;32mdef\u001b[0m \u001b[0mopenColorDialog\u001b[0m\u001b[1;33m(\u001b[0m\u001b[0mself\u001b[0m\u001b[1;33m)\u001b[0m\u001b[1;33m:\u001b[0m\u001b[1;33m\u001b[0m\u001b[1;33m\u001b[0m\u001b[0m\n",
      "\u001b[1;31mNameError\u001b[0m: name 'openColorDialog' is not defined"
     ]
    },
    {
     "ename": "NameError",
     "evalue": "name 'openColorDialog' is not defined",
     "output_type": "error",
     "traceback": [
      "\u001b[1;31m---------------------------------------------------------------------------\u001b[0m",
      "\u001b[1;31mNameError\u001b[0m                                 Traceback (most recent call last)",
      "\u001b[1;32m<ipython-input-3-a54039b7e440>\u001b[0m in \u001b[0;36mon_click\u001b[1;34m(self)\u001b[0m\n\u001b[0;32m     29\u001b[0m     \u001b[1;33m@\u001b[0m\u001b[0mpyqtSlot\u001b[0m\u001b[1;33m(\u001b[0m\u001b[1;33m)\u001b[0m\u001b[1;33m\u001b[0m\u001b[1;33m\u001b[0m\u001b[0m\n\u001b[0;32m     30\u001b[0m     \u001b[1;32mdef\u001b[0m \u001b[0mon_click\u001b[0m\u001b[1;33m(\u001b[0m\u001b[0mself\u001b[0m\u001b[1;33m)\u001b[0m\u001b[1;33m:\u001b[0m\u001b[1;33m\u001b[0m\u001b[1;33m\u001b[0m\u001b[0m\n\u001b[1;32m---> 31\u001b[1;33m         \u001b[0mopenColorDialog\u001b[0m\u001b[1;33m(\u001b[0m\u001b[0mself\u001b[0m\u001b[1;33m)\u001b[0m\u001b[1;33m\u001b[0m\u001b[1;33m\u001b[0m\u001b[0m\n\u001b[0m\u001b[0;32m     32\u001b[0m \u001b[1;33m\u001b[0m\u001b[0m\n\u001b[0;32m     33\u001b[0m     \u001b[1;32mdef\u001b[0m \u001b[0mopenColorDialog\u001b[0m\u001b[1;33m(\u001b[0m\u001b[0mself\u001b[0m\u001b[1;33m)\u001b[0m\u001b[1;33m:\u001b[0m\u001b[1;33m\u001b[0m\u001b[1;33m\u001b[0m\u001b[0m\n",
      "\u001b[1;31mNameError\u001b[0m: name 'openColorDialog' is not defined"
     ]
    },
    {
     "ename": "NameError",
     "evalue": "name 'openColorDialog' is not defined",
     "output_type": "error",
     "traceback": [
      "\u001b[1;31m---------------------------------------------------------------------------\u001b[0m",
      "\u001b[1;31mNameError\u001b[0m                                 Traceback (most recent call last)",
      "\u001b[1;32m<ipython-input-3-a54039b7e440>\u001b[0m in \u001b[0;36mon_click\u001b[1;34m(self)\u001b[0m\n\u001b[0;32m     29\u001b[0m     \u001b[1;33m@\u001b[0m\u001b[0mpyqtSlot\u001b[0m\u001b[1;33m(\u001b[0m\u001b[1;33m)\u001b[0m\u001b[1;33m\u001b[0m\u001b[1;33m\u001b[0m\u001b[0m\n\u001b[0;32m     30\u001b[0m     \u001b[1;32mdef\u001b[0m \u001b[0mon_click\u001b[0m\u001b[1;33m(\u001b[0m\u001b[0mself\u001b[0m\u001b[1;33m)\u001b[0m\u001b[1;33m:\u001b[0m\u001b[1;33m\u001b[0m\u001b[1;33m\u001b[0m\u001b[0m\n\u001b[1;32m---> 31\u001b[1;33m         \u001b[0mopenColorDialog\u001b[0m\u001b[1;33m(\u001b[0m\u001b[0mself\u001b[0m\u001b[1;33m)\u001b[0m\u001b[1;33m\u001b[0m\u001b[1;33m\u001b[0m\u001b[0m\n\u001b[0m\u001b[0;32m     32\u001b[0m \u001b[1;33m\u001b[0m\u001b[0m\n\u001b[0;32m     33\u001b[0m     \u001b[1;32mdef\u001b[0m \u001b[0mopenColorDialog\u001b[0m\u001b[1;33m(\u001b[0m\u001b[0mself\u001b[0m\u001b[1;33m)\u001b[0m\u001b[1;33m:\u001b[0m\u001b[1;33m\u001b[0m\u001b[1;33m\u001b[0m\u001b[0m\n",
      "\u001b[1;31mNameError\u001b[0m: name 'openColorDialog' is not defined"
     ]
    },
    {
     "ename": "NameError",
     "evalue": "name 'openColorDialog' is not defined",
     "output_type": "error",
     "traceback": [
      "\u001b[1;31m---------------------------------------------------------------------------\u001b[0m",
      "\u001b[1;31mNameError\u001b[0m                                 Traceback (most recent call last)",
      "\u001b[1;32m<ipython-input-3-a54039b7e440>\u001b[0m in \u001b[0;36mon_click\u001b[1;34m(self)\u001b[0m\n\u001b[0;32m     29\u001b[0m     \u001b[1;33m@\u001b[0m\u001b[0mpyqtSlot\u001b[0m\u001b[1;33m(\u001b[0m\u001b[1;33m)\u001b[0m\u001b[1;33m\u001b[0m\u001b[1;33m\u001b[0m\u001b[0m\n\u001b[0;32m     30\u001b[0m     \u001b[1;32mdef\u001b[0m \u001b[0mon_click\u001b[0m\u001b[1;33m(\u001b[0m\u001b[0mself\u001b[0m\u001b[1;33m)\u001b[0m\u001b[1;33m:\u001b[0m\u001b[1;33m\u001b[0m\u001b[1;33m\u001b[0m\u001b[0m\n\u001b[1;32m---> 31\u001b[1;33m         \u001b[0mopenColorDialog\u001b[0m\u001b[1;33m(\u001b[0m\u001b[0mself\u001b[0m\u001b[1;33m)\u001b[0m\u001b[1;33m\u001b[0m\u001b[1;33m\u001b[0m\u001b[0m\n\u001b[0m\u001b[0;32m     32\u001b[0m \u001b[1;33m\u001b[0m\u001b[0m\n\u001b[0;32m     33\u001b[0m     \u001b[1;32mdef\u001b[0m \u001b[0mopenColorDialog\u001b[0m\u001b[1;33m(\u001b[0m\u001b[0mself\u001b[0m\u001b[1;33m)\u001b[0m\u001b[1;33m:\u001b[0m\u001b[1;33m\u001b[0m\u001b[1;33m\u001b[0m\u001b[0m\n",
      "\u001b[1;31mNameError\u001b[0m: name 'openColorDialog' is not defined"
     ]
    },
    {
     "ename": "SystemExit",
     "evalue": "0",
     "output_type": "error",
     "traceback": [
      "An exception has occurred, use %tb to see the full traceback.\n",
      "\u001b[1;31mSystemExit\u001b[0m\u001b[1;31m:\u001b[0m 0\n"
     ]
    },
    {
     "name": "stderr",
     "output_type": "stream",
     "text": [
      "C:\\Users\\emily\\Anaconda3\\lib\\site-packages\\IPython\\core\\interactiveshell.py:3275: UserWarning: To exit: use 'exit', 'quit', or Ctrl-D.\n",
      "  warn(\"To exit: use 'exit', 'quit', or Ctrl-D.\", stacklevel=1)\n"
     ]
    }
   ],
   "source": [
    "import sys\n",
    "from PyQt5.QtWidgets import QApplication, QWidget, QPushButton, QColorDialog\n",
    "from PyQt5.QtGui import QIcon\n",
    "from PyQt5.QtCore import pyqtSlot\n",
    "from PyQt5.QtGui import QColor\n",
    " \n",
    "class App(QWidget):\n",
    " \n",
    "    def __init__(self):\n",
    "        super().__init__()\n",
    "        self.title = 'PyQt5 color dialog - pythonspot.com'\n",
    "        self.left = 10\n",
    "        self.top = 10\n",
    "        self.width = 320\n",
    "        self.height = 200\n",
    "        self.initUI()\n",
    " \n",
    "    def initUI(self):\n",
    "        self.setWindowTitle(self.title)\n",
    "        self.setGeometry(self.left, self.top, self.width, self.height)\n",
    " \n",
    "        button = QPushButton('Open color dialog', self)\n",
    "        button.setToolTip('Opens color dialog')\n",
    "        button.move(10,10)\n",
    "        button.clicked.connect(self.on_click)\n",
    " \n",
    "        self.show()\n",
    " \n",
    "    @pyqtSlot()\n",
    "    def on_click(self):\n",
    "        openColorDialog(self)\n",
    " \n",
    "    def openColorDialog(self):\n",
    "        color = QColorDialog.getColor()\n",
    " \n",
    "        if color.isValid():\n",
    "            print(color.name())\n",
    " \n",
    "    if __name__ == '__main__':\n",
    "        app = QApplication(sys.argv)\n",
    "        ex = App() \n",
    "        sys.exit(app.exec_())"
   ]
  },
  {
   "cell_type": "code",
   "execution_count": null,
   "metadata": {},
   "outputs": [],
   "source": [
    "from ipywidgets import Layout, Button, Box\n",
    "\n",
    "items_layout = Layout( width='auto')     # override the default width of the button to 'auto' to let the button grow\n",
    "\n",
    "box_layout = Layout(display='flex',\n",
    "                    flex_flow='column',\n",
    "                    align_items='stretch',\n",
    "                    border='solid',\n",
    "                    width='50%')\n",
    "\n",
    "words = ['correct', 'horse', 'battery', 'staple']\n",
    "items = [Button(description=word, layout=items_layout, button_style='danger') for word in words]\n",
    "box = Box(children=items, layout=box_layout)\n",
    "box"
   ]
  },
  {
   "cell_type": "code",
   "execution_count": null,
   "metadata": {},
   "outputs": [],
   "source": [
    "from ipywidgets import Layout, Button, Box, VBox\n",
    "\n",
    "# Items flex proportionally to the weight and the left over space around the text\n",
    "items_auto = [\n",
    "    Button(description='weight=1; auto', layout=Layout(flex='1 1 auto', width='auto'), button_style='danger'),\n",
    "    Button(description='weight=3; auto', layout=Layout(flex='3 1 auto', width='auto'), button_style='danger'),\n",
    "    Button(description='weight=1; auto', layout=Layout(flex='1 1 auto', width='auto'), button_style='danger'),\n",
    " ]\n",
    "\n",
    "# Items flex proportionally to the weight\n",
    "items_0 = [\n",
    "    Button(description='weight=1; 0%', layout=Layout(flex='1 1 0%', width='auto'), button_style='danger'),\n",
    "    Button(description='weight=3; 0%', layout=Layout(flex='3 1 0%', width='auto'), button_style='danger'),\n",
    "    Button(description='weight=1; 0%', layout=Layout(flex='1 1 0%', width='auto'), button_style='danger'),\n",
    " ]\n",
    "box_layout = Layout(display='flex',\n",
    "                    flex_flow='row',\n",
    "                    align_items='stretch',\n",
    "                    width='70%')\n",
    "box_auto = Box(children=items_auto, layout=box_layout)\n",
    "box_0 = Box(children=items_0, layout=box_layout)\n",
    "VBox([box_auto, box_0])"
   ]
  },
  {
   "cell_type": "code",
   "execution_count": null,
   "metadata": {},
   "outputs": [],
   "source": [
    "\n",
    "from ipywidgets import Layout, Button, Box, FloatText, Textarea, Dropdown, Label, IntSlider\n",
    "\n",
    "form_item_layout = Layout(\n",
    "    display='flex',\n",
    "    flex_flow='row',\n",
    "    justify_content='space-between'\n",
    ")\n",
    "\n",
    "form_items = [\n",
    "    Box([Label(value='Age of the captain'), IntSlider(min=40, max=60)], layout=form_item_layout),\n",
    "    Box([Label(value='Egg style'),\n",
    "         Dropdown(options=['Scrambled', 'Sunny side up', 'Over easy'])], layout=form_item_layout),\n",
    "    Box([Label(value='Ship size'),\n",
    "         FloatText()], layout=form_item_layout),\n",
    "    Box([Label(value='Information'),\n",
    "         Textarea()], layout=form_item_layout)\n",
    "]\n",
    "\n",
    "form = Box(form_items, layout=Layout(\n",
    "    display='flex',\n",
    "    flex_flow='column',\n",
    "    border='solid 2px',\n",
    "    align_items='stretch',\n",
    "    width='50%'\n",
    "))\n",
    "form"
   ]
  },
  {
   "cell_type": "code",
   "execution_count": null,
   "metadata": {},
   "outputs": [],
   "source": [
    "from ipywidgets import Layout, Button, Box\n",
    "\n",
    "item_layout = Layout(height='100px', min_width='40px')\n",
    "items = [Button(layout=item_layout, description=str(i), button_style='warning') for i in range(40)]\n",
    "box_layout = Layout(overflow_x='scroll',\n",
    "                    border='3px solid black',\n",
    "                    width='500px',\n",
    "                    height='',\n",
    "                    flex_flow='row',\n",
    "                    display='flex')\n",
    "carousel = Box(children=items, layout=box_layout)\n",
    "VBox([Label('Scroll horizontally:'), carousel])"
   ]
  },
  {
   "cell_type": "markdown",
   "metadata": {},
   "source": [
    "### Grafos"
   ]
  },
  {
   "cell_type": "code",
   "execution_count": 74,
   "metadata": {},
   "outputs": [
    {
     "data": {
      "text/html": [
       "<div>\n",
       "<style scoped>\n",
       "    .dataframe tbody tr th:only-of-type {\n",
       "        vertical-align: middle;\n",
       "    }\n",
       "\n",
       "    .dataframe tbody tr th {\n",
       "        vertical-align: top;\n",
       "    }\n",
       "\n",
       "    .dataframe thead th {\n",
       "        text-align: right;\n",
       "    }\n",
       "</style>\n",
       "<table border=\"1\" class=\"dataframe\">\n",
       "  <thead>\n",
       "    <tr style=\"text-align: right;\">\n",
       "      <th></th>\n",
       "      <th>w1</th>\n",
       "      <th>w2</th>\n",
       "      <th>w3</th>\n",
       "      <th>w4</th>\n",
       "    </tr>\n",
       "  </thead>\n",
       "  <tbody>\n",
       "    <tr>\n",
       "      <th>w1</th>\n",
       "      <td>0.6</td>\n",
       "      <td>0.1</td>\n",
       "      <td>0.3</td>\n",
       "      <td>0.8</td>\n",
       "    </tr>\n",
       "    <tr>\n",
       "      <th>w2</th>\n",
       "      <td>0.1</td>\n",
       "      <td>0.8</td>\n",
       "      <td>0.1</td>\n",
       "      <td>0.7</td>\n",
       "    </tr>\n",
       "    <tr>\n",
       "      <th>w3</th>\n",
       "      <td>0.3</td>\n",
       "      <td>0.1</td>\n",
       "      <td>0.4</td>\n",
       "      <td>0.4</td>\n",
       "    </tr>\n",
       "    <tr>\n",
       "      <th>w4</th>\n",
       "      <td>0.8</td>\n",
       "      <td>0.7</td>\n",
       "      <td>0.4</td>\n",
       "      <td>0.0</td>\n",
       "    </tr>\n",
       "  </tbody>\n",
       "</table>\n",
       "</div>"
      ],
      "text/plain": [
       "     w1   w2   w3   w4\n",
       "w1  0.6  0.1  0.3  0.8\n",
       "w2  0.1  0.8  0.1  0.7\n",
       "w3  0.3  0.1  0.4  0.4\n",
       "w4  0.8  0.7  0.4  0.0"
      ]
     },
     "execution_count": 74,
     "metadata": {},
     "output_type": "execute_result"
    }
   ],
   "source": [
    "import pandas as pd\n",
    "df_Matriz=pd.read_csv(\"Matriz.csv\", sep=\";\")\n",
    "df_Matriz"
   ]
  },
  {
   "cell_type": "code",
   "execution_count": 86,
   "metadata": {},
   "outputs": [
    {
     "data": {
      "image/png": "[encoded data removed]",
      "text/plain": [
       "<Figure size 432x288 with 1 Axes>"
      ]
     },
     "metadata": {
      "needs_background": "light"
     },
     "output_type": "display_data"
    }
   ],
   "source": [
    "G = nx.Graph()\n",
    "for name_Nodo_Linha in df_Matriz.index:\n",
    "    for name_Nodo_Coluna in df_Matriz.columns:\n",
    "        G.add_edge(name_Nodo_Linha, name_Nodo_Coluna, weight=df_Matriz[name_Nodo_Linha][name_Nodo_Coluna])\n",
    "\n",
    "elarge = [(u, v) for (u, v, d) in G.edges(data=True) if d['weight'] > 0.5]\n",
    "esmall = [(u, v) for (u, v, d) in G.edges(data=True) if d['weight'] <= 0.5]\n",
    "pos = nx.spring_layout(G)  # positions for all nodes\n",
    "# nodes\n",
    "nx.draw_networkx_nodes(G, pos, node_size=700,node_color='black')\n",
    "# edges\n",
    "nx.draw_networkx_edges(G, pos, edgelist=elarge,width=3)\n",
    "nx.draw_networkx_edges(G, pos, edgelist=esmall,width=3, alpha=0.5, edge_color='b', style='dashed')\n",
    "# labels\n",
    "nx.draw_networkx_labels(G, pos, font_size=16, font_family='sans-serif',font_color='w')\n",
    "#Labels nos Enlaces\n",
    "labels = nx.get_edge_attributes(G,'weight')\n",
    "# nx.draw(G, with_labels=True, node_size=1500, node_color=\"skyblue\", node_shape=\"s\", alpha=0.5, linewidths=40)\n",
    "nx.draw_networkx_edge_labels(G,pos,edge_labels=labels)\n",
    "plt.axis('off')\n",
    "plt.show()"
   ]
  },
  {
   "cell_type": "code",
   "execution_count": 87,
   "metadata": {},
   "outputs": [
    {
     "data": {
      "image/png": "[encoded data removed]",
      "text/plain": [
       "<Figure size 432x288 with 1 Axes>"
      ]
     },
     "metadata": {
      "needs_background": "light"
     },
     "output_type": "display_data"
    }
   ],
   "source": [
    "# Author: Aric Hagberg (hagberg@lanl.gov)\n",
    "import matplotlib.pyplot as plt\n",
    "import networkx as nx\n",
    "\n",
    "G = nx.Graph()\n",
    "\n",
    "G.add_edge('a', 'b', weight=0.6)\n",
    "G.add_edge('a', 'c', weight=0.2)\n",
    "G.add_edge('c', 'd', weight=0.6)\n",
    "G.add_edge('c', 'e', weight=0.7)\n",
    "G.add_edge('c', 'f', weight=0.9)\n",
    "G.add_edge('a', 'd', weight=0.3)\n",
    "\n",
    "elarge = [(u, v) for (u, v, d) in G.edges(data=True) if d['weight'] > 0.5]\n",
    "esmall = [(u, v) for (u, v, d) in G.edges(data=True) if d['weight'] <= 0.5]\n",
    "\n",
    "pos = nx.spring_layout(G)  # positions for all nodes\n",
    "# nodes\n",
    "nx.draw_networkx_nodes(G, pos, node_size=700)\n",
    "# edges\n",
    "nx.draw_networkx_edges(G, pos, edgelist=elarge,width=3)\n",
    "nx.draw_networkx_edges(G, pos, edgelist=esmall,\n",
    "                       width=3, alpha=0.5, edge_color='b', style='dashed')\n",
    "\n",
    "# labels\n",
    "nx.draw_networkx_labels(G, pos, font_size=20, font_family='sans-serif')\n",
    "\n",
    "#Labels nos Nôs\n",
    "labels = nx.get_edge_attributes(G,'weight')\n",
    "nx.draw_networkx_edge_labels(G,pos,edge_labels=labels)\n",
    "plt.savefig(\"Grafico_1.png\")\n",
    "plt.axis('off')\n",
    "plt.show()"
   ]
  },
  {
   "cell_type": "code",
   "execution_count": 13,
   "metadata": {},
   "outputs": [
    {
     "name": "stdout",
     "output_type": "stream",
     "text": [
      "( a , b,   7)\n",
      "( a , c,   9)\n",
      "( a , f,  14)\n",
      "( b , a,   7)\n",
      "( b , c,  10)\n",
      "( b , d,  15)\n",
      "( c , a,   9)\n",
      "( c , b,  10)\n",
      "( c , d,  11)\n",
      "( c , f,   2)\n",
      "( d , b,  15)\n",
      "( d , c,  11)\n",
      "( d , e,   6)\n",
      "( e , d,   6)\n",
      "( e , f,   9)\n",
      "( f , a,  14)\n",
      "( f , c,   2)\n",
      "( f , e,   9)\n",
      "g.vert_dict[a]=a adjacent: ['b', 'c', 'f']\n",
      "g.vert_dict[b]=b adjacent: ['a', 'c', 'd']\n",
      "g.vert_dict[c]=c adjacent: ['a', 'b', 'd', 'f']\n",
      "g.vert_dict[d]=d adjacent: ['b', 'c', 'e']\n",
      "g.vert_dict[e]=e adjacent: ['d', 'f']\n",
      "g.vert_dict[f]=f adjacent: ['a', 'c', 'e']\n"
     ]
    }
   ],
   "source": [
    "class Vertex:\n",
    "    def __init__(self, node):\n",
    "        self.id = node\n",
    "        self.adjacent = {}\n",
    "\n",
    "    def __str__(self):\n",
    "        return str(self.id) + ' adjacent: ' + str([x.id for x in self.adjacent])\n",
    "\n",
    "    def add_neighbor(self, neighbor, weight=0):\n",
    "        self.adjacent[neighbor] = weight\n",
    "\n",
    "    def get_connections(self):\n",
    "        return self.adjacent.keys()  \n",
    "\n",
    "    def get_id(self):\n",
    "        return self.id\n",
    "\n",
    "    def get_weight(self, neighbor):\n",
    "        return self.adjacent[neighbor]\n",
    "\n",
    "class Graph:\n",
    "    def __init__(self):\n",
    "        self.vert_dict = {}\n",
    "        self.num_vertices = 0\n",
    "\n",
    "    def __iter__(self):\n",
    "        return iter(self.vert_dict.values())\n",
    "\n",
    "    def add_vertex(self, node):\n",
    "        self.num_vertices = self.num_vertices + 1\n",
    "        new_vertex = Vertex(node)\n",
    "        self.vert_dict[node] = new_vertex\n",
    "        return new_vertex\n",
    "\n",
    "    def get_vertex(self, n):\n",
    "        if n in self.vert_dict:\n",
    "            return self.vert_dict[n]\n",
    "        else:\n",
    "            return None\n",
    "\n",
    "    def add_edge(self, frm, to, cost = 0):\n",
    "        if frm not in self.vert_dict:\n",
    "            self.add_vertex(frm)\n",
    "        if to not in self.vert_dict:\n",
    "            self.add_vertex(to)\n",
    "\n",
    "        self.vert_dict[frm].add_neighbor(self.vert_dict[to], cost)\n",
    "        self.vert_dict[to].add_neighbor(self.vert_dict[frm], cost)\n",
    "\n",
    "    def get_vertices(self):\n",
    "        return self.vert_dict.keys()\n",
    "\n",
    "if __name__ == '__main__':\n",
    "\n",
    "    g = Graph()\n",
    "\n",
    "    g.add_vertex('a')\n",
    "    g.add_vertex('b')\n",
    "    g.add_vertex('c')\n",
    "    g.add_vertex('d')\n",
    "    g.add_vertex('e')\n",
    "    g.add_vertex('f')\n",
    "\n",
    "    g.add_edge('a', 'b', 7)  \n",
    "    g.add_edge('a', 'c', 9)\n",
    "    g.add_edge('a', 'f', 14)\n",
    "    g.add_edge('b', 'c', 10)\n",
    "    g.add_edge('b', 'd', 15)\n",
    "    g.add_edge('c', 'd', 11)\n",
    "    g.add_edge('c', 'f', 2)\n",
    "    g.add_edge('d', 'e', 6)\n",
    "    g.add_edge('e', 'f', 9)\n",
    "\n",
    "    for v in g:\n",
    "        for w in v.get_connections():\n",
    "            vid = v.get_id()\n",
    "            wid = w.get_id()\n",
    "            print ('( %s , %s, %3d)'  % ( vid, wid, v.get_weight(w)))\n",
    "\n",
    "    for v in g:\n",
    "        print ('g.vert_dict[%s]=%s' %(v.get_id(), g.vert_dict[v.get_id()]))"
   ]
  },
  {
   "cell_type": "code",
   "execution_count": 52,
   "metadata": {},
   "outputs": [
    {
     "data": {
      "text/html": [
       "<div>\n",
       "<style scoped>\n",
       "    .dataframe tbody tr th:only-of-type {\n",
       "        vertical-align: middle;\n",
       "    }\n",
       "\n",
       "    .dataframe tbody tr th {\n",
       "        vertical-align: top;\n",
       "    }\n",
       "\n",
       "    .dataframe thead th {\n",
       "        text-align: right;\n",
       "    }\n",
       "</style>\n",
       "<table border=\"1\" class=\"dataframe\">\n",
       "  <thead>\n",
       "    <tr style=\"text-align: right;\">\n",
       "      <th></th>\n",
       "      <th>w1</th>\n",
       "      <th>w2</th>\n",
       "      <th>w3</th>\n",
       "    </tr>\n",
       "  </thead>\n",
       "  <tbody>\n",
       "    <tr>\n",
       "      <th>w1</th>\n",
       "      <td>0.6</td>\n",
       "      <td>0.1</td>\n",
       "      <td>0.3</td>\n",
       "    </tr>\n",
       "    <tr>\n",
       "      <th>w2</th>\n",
       "      <td>0.1</td>\n",
       "      <td>0.8</td>\n",
       "      <td>0.1</td>\n",
       "    </tr>\n",
       "    <tr>\n",
       "      <th>w3</th>\n",
       "      <td>0.3</td>\n",
       "      <td>0.3</td>\n",
       "      <td>0.4</td>\n",
       "    </tr>\n",
       "  </tbody>\n",
       "</table>\n",
       "</div>"
      ],
      "text/plain": [
       "     w1   w2   w3\n",
       "w1  0.6  0.1  0.3\n",
       "w2  0.1  0.8  0.1\n",
       "w3  0.3  0.3  0.4"
      ]
     },
     "execution_count": 52,
     "metadata": {},
     "output_type": "execute_result"
    }
   ],
   "source": [
    "import pandas as pd\n",
    "df_Matriz=pd.read_csv(\"Matriz.csv\", sep=\";\")\n",
    "df_Matriz"
   ]
  },
  {
   "cell_type": "code",
   "execution_count": 59,
   "metadata": {
    "scrolled": true
   },
   "outputs": [
    {
     "data": {
      "image/png": "[encoded data removed]",
      "text/plain": [
       "<Figure size 432x288 with 1 Axes>"
      ]
     },
     "metadata": {},
     "output_type": "display_data"
    }
   ],
   "source": [
    "G=nx.Graph()\n",
    "G.add_node(\"W1\",pos=(1,1))\n",
    "G.add_node(\"W2\",pos=(2,2))\n",
    "# \n",
    "G.add_edge(\"W1\",\"W2\",weight=0.5)\n",
    "pos=nx.get_node_attributes(G,'pos')\n",
    "nx.draw(G,pos)\n",
    "labels = nx.get_edge_attributes(G,'weight')\n",
    "nx.draw_networkx_edge_labels(G,pos,edge_labels=labels)\n",
    "plt.show()\n",
    "# for i in df_Matriz.columns:\n",
    "#     G.add_node(i,pos=(i,i))"
   ]
  },
  {
   "cell_type": "code",
   "execution_count": 48,
   "metadata": {},
   "outputs": [
    {
     "data": {
      "image/png": "[encoded data removed]",
      "text/plain": [
       "<Figure size 432x288 with 1 Axes>"
      ]
     },
     "metadata": {},
     "output_type": "display_data"
    }
   ],
   "source": [
    "#!/usr/bin/python\n",
    "import networkx as nx\n",
    "import matplotlib.pyplot as plt\n",
    "\n",
    "G=nx.Graph()\n",
    "G.add_node(1,pos=(1,1))\n",
    "G.add_node(2,pos=(2,2))\n",
    "G.add_node(3,pos=(1,0))\n",
    "G.add_edge(1,2,weight=0.5)\n",
    "G.add_edge(1,3,weight=9.8)\n",
    "pos=nx.get_node_attributes(G,'pos')\n",
    "nx.draw(G,pos)\n",
    "labels = nx.get_edge_attributes(G,'weight')\n",
    "nx.draw_networkx_edge_labels(G,pos,edge_labels=labels)\n",
    "plt.show()"
   ]
  },
  {
   "cell_type": "code",
   "execution_count": 83,
   "metadata": {},
   "outputs": [
    {
     "data": {
      "image/png": "[encoded data removed]",
      "text/plain": [
       "<Figure size 432x288 with 1 Axes>"
      ]
     },
     "metadata": {
      "needs_background": "light"
     },
     "output_type": "display_data"
    }
   ],
   "source": [
    "\"\"\"\n",
    "An example of drawing a weighted graph using the NetworkX module\n",
    "This is sample code and not indicative of how Qxf2 writes Python code\n",
    " \n",
    "---------------\n",
    "I. The problem:\n",
    "---------------\n",
    "I will be plotting how often these four world chess champions played each other:\n",
    "a) Anatoly Karpov\n",
    "b) Gary Kasparov\n",
    "c) Vladimir Kramnik\n",
    "d) Vishwanathan Anand\n",
    " \n",
    "-------------------------\n",
    "II. Technical references: \n",
    "-------------------------\n",
    "1. https://networkx.github.io/documentation/networkx-1.9/examples/drawing/weighted_graph.html\n",
    "2. https://stackoverflow.com/questions/28372127/add-edge-weights-to-plot-output-in-networkx\n",
    " \n",
    "-----------------------------------------\n",
    "III. Reference for data (as of Aug 2017):\n",
    "-----------------------------------------\n",
    "1. Karpov - Kasparov: 170 classical games\n",
    "http://www.chessgames.com/perl/chess.pl?pid=15940&amp;pid2=20719\n",
    " \n",
    "2. Karpov - Kramnik: 15 classical games\n",
    "http://www.chessgames.com/perl/chess.pl?pid=20719&amp;pid2=12295\n",
    " \n",
    "3. Karpov - Anand: 45 classical games\n",
    "http://www.chessgames.com/perl/chess.pl?pid=20719&amp;pid2=12088\n",
    " \n",
    "4. Kasparov - Kramnik: 49 classical games\n",
    "http://www.chessgames.com/perl/chess.pl?pid=12295&amp;pid2=15940\n",
    " \n",
    "5. Kasparov - Anand: 51 classical games\n",
    "http://www.chessgames.com/perl/chess.pl?pid=12088&amp;pid2=15940\n",
    " \n",
    "6. Kramnik - Anand: 91 classical games\n",
    "http://www.chessgames.com/perl/chess.pl?pid=12295&amp;pid2=12088\n",
    "\"\"\"\n",
    " \n",
    "#1. Import pyplot and nx\n",
    "import matplotlib.pyplot as plt\n",
    "import networkx as nx\n",
    " \n",
    " \n",
    "def plot_weighted_graph():\n",
    "    \"Plot a weighted graph\"\n",
    " \n",
    "    #2. Add nodes\n",
    "    G = nx.Graph() #Create a graph object called G\n",
    "    node_list = ['Karpov','Kasparov','Kramnik','Anand']\n",
    "    for node in node_list:\n",
    "        G.add_node(node)\n",
    " \n",
    "    #Note: You can also try a spring_layout\n",
    "    pos=nx.circular_layout(G) \n",
    "    nx.draw_networkx_nodes(G,pos,node_color='green',node_size=700)\n",
    " \n",
    "    #3. If you want, add labels to the nodes\n",
    "    labels = {}\n",
    "    for node_name in node_list:\n",
    "        labels[str(node_name)] =str(node_name)\n",
    "    nx.draw_networkx_labels(G,pos,labels,font_size=16)\n",
    " \n",
    " \n",
    "    #4. Add the edges (4C2 = 6 combinations)\n",
    "    #NOTE: You usually read this data in from some source\n",
    "    #To keep the example self contained, I typed this out\n",
    "    G.add_edge(node_list[0],node_list[1],weight=370) #Karpov vs Kasparov\n",
    "    G.add_edge(node_list[0],node_list[2],weight=15) #Karpov vs Kramnik\n",
    "    G.add_edge(node_list[0],node_list[3],weight=45) #Karpov vs Anand\n",
    "    G.add_edge(node_list[1],node_list[2],weight=49) #Kasparov vs Kramnik\n",
    "    G.add_edge(node_list[1],node_list[3],weight=51) #Kasparov vs Anand\n",
    "    G.add_edge(node_list[2],node_list[3],weight=91) #Kramnik vs Anand\n",
    " \n",
    "    all_weights = []\n",
    "    #4 a. Iterate through the graph nodes to gather all the weights\n",
    "    for (node1,node2,data) in G.edges(data=True):\n",
    "        all_weights.append(data['weight']) #we'll use this when determining edge thickness\n",
    " \n",
    "    #4 b. Get unique weights\n",
    "    unique_weights = list(set(all_weights))\n",
    " \n",
    "    #4 c. Plot the edges - one by one!\n",
    "    for weight in unique_weights:\n",
    "        #4 d. Form a filtered list with just the weight you want to draw\n",
    "        weighted_edges = [(node1,node2) for (node1,node2,edge_attr) in G.edges(data=True) if edge_attr['weight']==weight]\n",
    "        #4 e. I think multiplying by [num_nodes/sum(all_weights)] makes the graphs edges look cleaner\n",
    "        width = weight*len(node_list)*3.0/sum(all_weights)\n",
    "        nx.draw_networkx_edges(G,pos,edgelist=weighted_edges,width=width)\n",
    " \n",
    "    #Plot the graph\n",
    "    plt.axis('off')\n",
    "    plt.title('How often have they played each other?')\n",
    "    plt.savefig(\"chess_legends.png\") \n",
    "    plt.show() \n",
    " \n",
    "#----START OF SCRIPT\n",
    "if __name__=='__main__':\n",
    "    plot_weighted_graph()"
   ]
  },
  {
   "cell_type": "code",
   "execution_count": 81,
   "metadata": {},
   "outputs": [
    {
     "ename": "AttributeError",
     "evalue": "module 'networkx' has no attribute 'from_pandas_dataframe'",
     "output_type": "error",
     "traceback": [
      "\u001b[1;31m---------------------------------------------------------------------------\u001b[0m",
      "\u001b[1;31mAttributeError\u001b[0m                            Traceback (most recent call last)",
      "\u001b[1;32m<ipython-input-81-1c1e970d292f>\u001b[0m in \u001b[0;36m<module>\u001b[1;34m\u001b[0m\n\u001b[0;32m     10\u001b[0m \u001b[1;33m\u001b[0m\u001b[0m\n\u001b[0;32m     11\u001b[0m \u001b[1;31m# Build your graph\u001b[0m\u001b[1;33m\u001b[0m\u001b[1;33m\u001b[0m\u001b[1;33m\u001b[0m\u001b[0m\n\u001b[1;32m---> 12\u001b[1;33m \u001b[0mG\u001b[0m\u001b[1;33m=\u001b[0m\u001b[0mnx\u001b[0m\u001b[1;33m.\u001b[0m\u001b[0mfrom_pandas_dataframe\u001b[0m\u001b[1;33m(\u001b[0m\u001b[0mdf\u001b[0m\u001b[1;33m,\u001b[0m \u001b[1;34m'from'\u001b[0m\u001b[1;33m,\u001b[0m \u001b[1;34m'to'\u001b[0m\u001b[1;33m)\u001b[0m\u001b[1;33m\u001b[0m\u001b[1;33m\u001b[0m\u001b[0m\n\u001b[0m\u001b[0;32m     13\u001b[0m \u001b[1;33m\u001b[0m\u001b[0m\n\u001b[0;32m     14\u001b[0m \u001b[1;31m# Graph with Custom nodes:\u001b[0m\u001b[1;33m\u001b[0m\u001b[1;33m\u001b[0m\u001b[1;33m\u001b[0m\u001b[0m\n",
      "\u001b[1;31mAttributeError\u001b[0m: module 'networkx' has no attribute 'from_pandas_dataframe'"
     ]
    }
   ],
   "source": [
    "# libraries\n",
    "import pandas as pd\n",
    "import numpy as np\n",
    "import networkx as nx\n",
    "import matplotlib.pyplot as plt\n",
    " \n",
    "# Build a dataframe with your connections\n",
    "df = pd.DataFrame({ 'from':['A', 'B', 'C','A'], 'to':['D', 'A', 'E','C']}) \n",
    "df\n",
    " \n",
    "# Build your graph\n",
    "G=nx.from_pandas_dataframe(df, 'from', 'to')\n",
    " \n",
    "# Graph with Custom nodes:\n",
    "nx.draw(G, with_labels=True, node_size=1500, node_color=\"skyblue\", node_shape=\"s\", alpha=0.5, linewidths=40)\n",
    "plt.show()"
   ]
  },
  {
   "cell_type": "code",
   "execution_count": null,
   "metadata": {},
   "outputs": [],
   "source": []
  }
 ],
 "metadata": {
  "kernelspec": {
   "display_name": "Python 3",
   "language": "python",
   "name": "python3"
  },
  "language_info": {
   "codemirror_mode": {
    "name": "ipython",
    "version": 3
   },
   "file_extension": ".py",
   "mimetype": "text/x-python",
   "name": "python",
   "nbconvert_exporter": "python",
   "pygments_lexer": "ipython3",
   "version": "3.7.1"
  }
 },
 "nbformat": 4,
 "nbformat_minor": 2
}
